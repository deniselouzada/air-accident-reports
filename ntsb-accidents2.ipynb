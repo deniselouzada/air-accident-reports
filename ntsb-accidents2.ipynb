{
 "cells": [
  {
   "cell_type": "code",
   "execution_count": 358,
   "metadata": {},
   "outputs": [],
   "source": [
    "# Imports\n",
    "import sklearn\n",
    "import scipy\n",
    "import pandas as pd\n",
    "import numpy as np\n",
    "import matplotlib.pyplot as plt\n",
    "import seaborn as sns\n",
    "from scipy.stats import shapiro\n",
    "from scipy.stats import mannwhitneyu\n",
    "from sklearn.impute import KNNImputer\n",
    "from sklearn.preprocessing import StandardScaler\n",
    "from sklearn.ensemble import RandomForestClassifier\n",
    "from datetime import datetime\n",
    "import warnings\n",
    "warnings.filterwarnings('ignore')"
   ]
  },
  {
   "cell_type": "code",
   "execution_count": 359,
   "metadata": {},
   "outputs": [],
   "source": [
    "df = pd.read_csv('AviationData2.csv')"
   ]
  },
  {
   "cell_type": "code",
   "execution_count": 360,
   "metadata": {},
   "outputs": [
    {
     "data": {
      "text/html": [
       "<div>\n",
       "<style scoped>\n",
       "    .dataframe tbody tr th:only-of-type {\n",
       "        vertical-align: middle;\n",
       "    }\n",
       "\n",
       "    .dataframe tbody tr th {\n",
       "        vertical-align: top;\n",
       "    }\n",
       "\n",
       "    .dataframe thead th {\n",
       "        text-align: right;\n",
       "    }\n",
       "</style>\n",
       "<table border=\"1\" class=\"dataframe\">\n",
       "  <thead>\n",
       "    <tr style=\"text-align: right;\">\n",
       "      <th></th>\n",
       "      <th>NtsbNo</th>\n",
       "      <th>EventType</th>\n",
       "      <th>Mkey</th>\n",
       "      <th>EventDate</th>\n",
       "      <th>City</th>\n",
       "      <th>State</th>\n",
       "      <th>Country</th>\n",
       "      <th>ReportNo</th>\n",
       "      <th>N</th>\n",
       "      <th>HasSafetyRec</th>\n",
       "      <th>...</th>\n",
       "      <th>PurposeOfFlight</th>\n",
       "      <th>FAR</th>\n",
       "      <th>AirCraftDamage</th>\n",
       "      <th>WeatherCondition</th>\n",
       "      <th>Operator</th>\n",
       "      <th>ReportStatus</th>\n",
       "      <th>RepGenFlag</th>\n",
       "      <th>DocketUrl</th>\n",
       "      <th>DocketPublishDate</th>\n",
       "      <th>Unnamed: 37</th>\n",
       "    </tr>\n",
       "  </thead>\n",
       "  <tbody>\n",
       "    <tr>\n",
       "      <th>0</th>\n",
       "      <td>DCA24WA087</td>\n",
       "      <td>ACC</td>\n",
       "      <td>193738</td>\n",
       "      <td>2024-02-01T03:08:00Z</td>\n",
       "      <td>Tokoname</td>\n",
       "      <td>NaN</td>\n",
       "      <td>Japan</td>\n",
       "      <td>NaN</td>\n",
       "      <td>JA899A</td>\n",
       "      <td>False</td>\n",
       "      <td>...</td>\n",
       "      <td>NaN</td>\n",
       "      <td>NUSC</td>\n",
       "      <td>NaN</td>\n",
       "      <td>NaN</td>\n",
       "      <td>All Nippon Airways</td>\n",
       "      <td>NaN</td>\n",
       "      <td>False</td>\n",
       "      <td>NaN</td>\n",
       "      <td>NaN</td>\n",
       "      <td>NaN</td>\n",
       "    </tr>\n",
       "    <tr>\n",
       "      <th>1</th>\n",
       "      <td>GAA24WA073</td>\n",
       "      <td>ACC</td>\n",
       "      <td>193695</td>\n",
       "      <td>2024-01-20T12:30:00Z</td>\n",
       "      <td>Murcott</td>\n",
       "      <td>NaN</td>\n",
       "      <td>United Kingdom</td>\n",
       "      <td>NaN</td>\n",
       "      <td>GNEWT</td>\n",
       "      <td>False</td>\n",
       "      <td>...</td>\n",
       "      <td>NaN</td>\n",
       "      <td>NUSN</td>\n",
       "      <td>Unknown</td>\n",
       "      <td>NaN</td>\n",
       "      <td>NaN</td>\n",
       "      <td>NaN</td>\n",
       "      <td>False</td>\n",
       "      <td>NaN</td>\n",
       "      <td>NaN</td>\n",
       "      <td>NaN</td>\n",
       "    </tr>\n",
       "    <tr>\n",
       "      <th>2</th>\n",
       "      <td>GAA24WA067</td>\n",
       "      <td>ACC</td>\n",
       "      <td>193623</td>\n",
       "      <td>2024-01-07T23:07:00Z</td>\n",
       "      <td>Lizard Island</td>\n",
       "      <td>NaN</td>\n",
       "      <td>Australia</td>\n",
       "      <td>NaN</td>\n",
       "      <td>VH-NWJ</td>\n",
       "      <td>False</td>\n",
       "      <td>...</td>\n",
       "      <td>NaN</td>\n",
       "      <td>UNK</td>\n",
       "      <td>Substantial</td>\n",
       "      <td>NaN</td>\n",
       "      <td>NaN</td>\n",
       "      <td>NaN</td>\n",
       "      <td>False</td>\n",
       "      <td>NaN</td>\n",
       "      <td>NaN</td>\n",
       "      <td>NaN</td>\n",
       "    </tr>\n",
       "    <tr>\n",
       "      <th>3</th>\n",
       "      <td>DCA24WA071</td>\n",
       "      <td>ACC</td>\n",
       "      <td>193655</td>\n",
       "      <td>2024-01-06T03:28:00Z</td>\n",
       "      <td>Mar del Plata</td>\n",
       "      <td>NaN</td>\n",
       "      <td>Argentina</td>\n",
       "      <td>NaN</td>\n",
       "      <td>LV-KJE</td>\n",
       "      <td>False</td>\n",
       "      <td>...</td>\n",
       "      <td>NaN</td>\n",
       "      <td>NUSC</td>\n",
       "      <td>Substantial</td>\n",
       "      <td>NaN</td>\n",
       "      <td>NaN</td>\n",
       "      <td>NaN</td>\n",
       "      <td>False</td>\n",
       "      <td>NaN</td>\n",
       "      <td>NaN</td>\n",
       "      <td>NaN</td>\n",
       "    </tr>\n",
       "    <tr>\n",
       "      <th>4</th>\n",
       "      <td>CEN24LA075</td>\n",
       "      <td>ACC</td>\n",
       "      <td>193582</td>\n",
       "      <td>2024-01-01T16:40:00Z</td>\n",
       "      <td>Mansfield</td>\n",
       "      <td>Louisiana</td>\n",
       "      <td>United States</td>\n",
       "      <td>NaN</td>\n",
       "      <td>N9729L</td>\n",
       "      <td>False</td>\n",
       "      <td>...</td>\n",
       "      <td>PERS</td>\n",
       "      <td>091</td>\n",
       "      <td>Destroyed</td>\n",
       "      <td>VMC</td>\n",
       "      <td>NaN</td>\n",
       "      <td>Completed</td>\n",
       "      <td>False</td>\n",
       "      <td>https://data.ntsb.gov/Docket?ProjectID=193582</td>\n",
       "      <td>2/8/2024 6:00:00 PM</td>\n",
       "      <td>NaN</td>\n",
       "    </tr>\n",
       "    <tr>\n",
       "      <th>...</th>\n",
       "      <td>...</td>\n",
       "      <td>...</td>\n",
       "      <td>...</td>\n",
       "      <td>...</td>\n",
       "      <td>...</td>\n",
       "      <td>...</td>\n",
       "      <td>...</td>\n",
       "      <td>...</td>\n",
       "      <td>...</td>\n",
       "      <td>...</td>\n",
       "      <td>...</td>\n",
       "      <td>...</td>\n",
       "      <td>...</td>\n",
       "      <td>...</td>\n",
       "      <td>...</td>\n",
       "      <td>...</td>\n",
       "      <td>...</td>\n",
       "      <td>...</td>\n",
       "      <td>...</td>\n",
       "      <td>...</td>\n",
       "      <td>...</td>\n",
       "    </tr>\n",
       "    <tr>\n",
       "      <th>142461</th>\n",
       "      <td>NYC62A0005</td>\n",
       "      <td>ACC</td>\n",
       "      <td>115930</td>\n",
       "      <td>1962-01-16T05:00:00Z</td>\n",
       "      <td>LIMESTONE</td>\n",
       "      <td>Maine</td>\n",
       "      <td>United States</td>\n",
       "      <td>NaN</td>\n",
       "      <td>N9903F</td>\n",
       "      <td>False</td>\n",
       "      <td>...</td>\n",
       "      <td>NaN</td>\n",
       "      <td>091</td>\n",
       "      <td>Substantial</td>\n",
       "      <td>VFR</td>\n",
       "      <td>NaN</td>\n",
       "      <td>Completed</td>\n",
       "      <td>False</td>\n",
       "      <td>NaN</td>\n",
       "      <td>NaN</td>\n",
       "      <td>NaN</td>\n",
       "    </tr>\n",
       "    <tr>\n",
       "      <th>142462</th>\n",
       "      <td>MIA62A0003</td>\n",
       "      <td>ACC</td>\n",
       "      <td>123569</td>\n",
       "      <td>1962-01-14T05:00:00Z</td>\n",
       "      <td>BIRMINGHAM</td>\n",
       "      <td>Alabama</td>\n",
       "      <td>United States</td>\n",
       "      <td>NaN</td>\n",
       "      <td>N5540</td>\n",
       "      <td>False</td>\n",
       "      <td>...</td>\n",
       "      <td>NaN</td>\n",
       "      <td>NaN</td>\n",
       "      <td>Substantial</td>\n",
       "      <td>VFR</td>\n",
       "      <td>EASTERN AIR LINES INC</td>\n",
       "      <td>Completed</td>\n",
       "      <td>False</td>\n",
       "      <td>NaN</td>\n",
       "      <td>NaN</td>\n",
       "      <td>NaN</td>\n",
       "    </tr>\n",
       "    <tr>\n",
       "      <th>142463</th>\n",
       "      <td>LAX62A0002</td>\n",
       "      <td>ACC</td>\n",
       "      <td>150606</td>\n",
       "      <td>1962-01-13T05:00:00Z</td>\n",
       "      <td>FILLMORE</td>\n",
       "      <td>California</td>\n",
       "      <td>United States</td>\n",
       "      <td>NaN</td>\n",
       "      <td>N37538</td>\n",
       "      <td>False</td>\n",
       "      <td>...</td>\n",
       "      <td>NaN</td>\n",
       "      <td>NaN</td>\n",
       "      <td>NaN</td>\n",
       "      <td>VFR</td>\n",
       "      <td>UNITED AIR LINES INC</td>\n",
       "      <td>Completed</td>\n",
       "      <td>False</td>\n",
       "      <td>NaN</td>\n",
       "      <td>NaN</td>\n",
       "      <td>NaN</td>\n",
       "    </tr>\n",
       "    <tr>\n",
       "      <th>142464</th>\n",
       "      <td>MIA62A0001</td>\n",
       "      <td>ACC</td>\n",
       "      <td>139827</td>\n",
       "      <td>1962-01-01T05:00:00Z</td>\n",
       "      <td>CHARLOTTE</td>\n",
       "      <td>North Carolina</td>\n",
       "      <td>United States</td>\n",
       "      <td>NaN</td>\n",
       "      <td>N2703R</td>\n",
       "      <td>False</td>\n",
       "      <td>...</td>\n",
       "      <td>NaN</td>\n",
       "      <td>NaN</td>\n",
       "      <td>Substantial</td>\n",
       "      <td>VFR</td>\n",
       "      <td>PIEDMONT AVIATION INC</td>\n",
       "      <td>Completed</td>\n",
       "      <td>False</td>\n",
       "      <td>NaN</td>\n",
       "      <td>NaN</td>\n",
       "      <td>NaN</td>\n",
       "    </tr>\n",
       "    <tr>\n",
       "      <th>142465</th>\n",
       "      <td>SEA87LA080</td>\n",
       "      <td>ACC</td>\n",
       "      <td>40612</td>\n",
       "      <td>1948-10-24T16:55:00Z</td>\n",
       "      <td>MOOSE CREEK</td>\n",
       "      <td>Idaho</td>\n",
       "      <td>United States</td>\n",
       "      <td>NaN</td>\n",
       "      <td>NC6404</td>\n",
       "      <td>False</td>\n",
       "      <td>...</td>\n",
       "      <td>PERS</td>\n",
       "      <td>091</td>\n",
       "      <td>Destroyed</td>\n",
       "      <td>Unknown</td>\n",
       "      <td>NaN</td>\n",
       "      <td>Completed</td>\n",
       "      <td>False</td>\n",
       "      <td>NaN</td>\n",
       "      <td>NaN</td>\n",
       "      <td>NaN</td>\n",
       "    </tr>\n",
       "  </tbody>\n",
       "</table>\n",
       "<p>142466 rows × 38 columns</p>\n",
       "</div>"
      ],
      "text/plain": [
       "            NtsbNo EventType    Mkey             EventDate           City  \\\n",
       "0       DCA24WA087       ACC  193738  2024-02-01T03:08:00Z       Tokoname   \n",
       "1       GAA24WA073       ACC  193695  2024-01-20T12:30:00Z        Murcott   \n",
       "2       GAA24WA067       ACC  193623  2024-01-07T23:07:00Z  Lizard Island   \n",
       "3       DCA24WA071       ACC  193655  2024-01-06T03:28:00Z  Mar del Plata   \n",
       "4       CEN24LA075       ACC  193582  2024-01-01T16:40:00Z      Mansfield   \n",
       "...            ...       ...     ...                   ...            ...   \n",
       "142461  NYC62A0005       ACC  115930  1962-01-16T05:00:00Z      LIMESTONE   \n",
       "142462  MIA62A0003       ACC  123569  1962-01-14T05:00:00Z     BIRMINGHAM   \n",
       "142463  LAX62A0002       ACC  150606  1962-01-13T05:00:00Z       FILLMORE   \n",
       "142464  MIA62A0001       ACC  139827  1962-01-01T05:00:00Z      CHARLOTTE   \n",
       "142465  SEA87LA080       ACC   40612  1948-10-24T16:55:00Z    MOOSE CREEK   \n",
       "\n",
       "                 State         Country ReportNo       N  HasSafetyRec  ...  \\\n",
       "0                  NaN           Japan      NaN  JA899A         False  ...   \n",
       "1                  NaN  United Kingdom      NaN   GNEWT         False  ...   \n",
       "2                  NaN       Australia      NaN  VH-NWJ         False  ...   \n",
       "3                  NaN       Argentina      NaN  LV-KJE         False  ...   \n",
       "4            Louisiana   United States      NaN  N9729L         False  ...   \n",
       "...                ...             ...      ...     ...           ...  ...   \n",
       "142461           Maine   United States      NaN  N9903F         False  ...   \n",
       "142462         Alabama   United States      NaN   N5540         False  ...   \n",
       "142463      California   United States      NaN  N37538         False  ...   \n",
       "142464  North Carolina   United States      NaN  N2703R         False  ...   \n",
       "142465           Idaho   United States      NaN  NC6404         False  ...   \n",
       "\n",
       "       PurposeOfFlight   FAR AirCraftDamage  WeatherCondition  \\\n",
       "0                  NaN  NUSC            NaN               NaN   \n",
       "1                  NaN  NUSN        Unknown               NaN   \n",
       "2                  NaN   UNK    Substantial               NaN   \n",
       "3                  NaN  NUSC    Substantial               NaN   \n",
       "4                 PERS   091      Destroyed               VMC   \n",
       "...                ...   ...            ...               ...   \n",
       "142461             NaN   091    Substantial               VFR   \n",
       "142462             NaN   NaN    Substantial               VFR   \n",
       "142463             NaN   NaN            NaN               VFR   \n",
       "142464             NaN   NaN    Substantial               VFR   \n",
       "142465            PERS   091      Destroyed           Unknown   \n",
       "\n",
       "                     Operator  ReportStatus RepGenFlag  \\\n",
       "0          All Nippon Airways           NaN      False   \n",
       "1                         NaN           NaN      False   \n",
       "2                         NaN           NaN      False   \n",
       "3                         NaN           NaN      False   \n",
       "4                         NaN     Completed      False   \n",
       "...                       ...           ...        ...   \n",
       "142461                    NaN     Completed      False   \n",
       "142462  EASTERN AIR LINES INC     Completed      False   \n",
       "142463   UNITED AIR LINES INC     Completed      False   \n",
       "142464  PIEDMONT AVIATION INC     Completed      False   \n",
       "142465                    NaN     Completed      False   \n",
       "\n",
       "                                            DocketUrl    DocketPublishDate  \\\n",
       "0                                                 NaN                  NaN   \n",
       "1                                                 NaN                  NaN   \n",
       "2                                                 NaN                  NaN   \n",
       "3                                                 NaN                  NaN   \n",
       "4       https://data.ntsb.gov/Docket?ProjectID=193582  2/8/2024 6:00:00 PM   \n",
       "...                                               ...                  ...   \n",
       "142461                                            NaN                  NaN   \n",
       "142462                                            NaN                  NaN   \n",
       "142463                                            NaN                  NaN   \n",
       "142464                                            NaN                  NaN   \n",
       "142465                                            NaN                  NaN   \n",
       "\n",
       "        Unnamed: 37  \n",
       "0               NaN  \n",
       "1               NaN  \n",
       "2               NaN  \n",
       "3               NaN  \n",
       "4               NaN  \n",
       "...             ...  \n",
       "142461          NaN  \n",
       "142462          NaN  \n",
       "142463          NaN  \n",
       "142464          NaN  \n",
       "142465          NaN  \n",
       "\n",
       "[142466 rows x 38 columns]"
      ]
     },
     "execution_count": 360,
     "metadata": {},
     "output_type": "execute_result"
    }
   ],
   "source": [
    "df"
   ]
  },
  {
   "cell_type": "code",
   "execution_count": 361,
   "metadata": {},
   "outputs": [
    {
     "data": {
      "text/plain": [
       "(142466, 38)"
      ]
     },
     "execution_count": 361,
     "metadata": {},
     "output_type": "execute_result"
    }
   ],
   "source": [
    "df.shape"
   ]
  },
  {
   "cell_type": "markdown",
   "metadata": {},
   "source": [
    "## Data cleaning and preprocessing"
   ]
  },
  {
   "cell_type": "code",
   "execution_count": 362,
   "metadata": {},
   "outputs": [
    {
     "data": {
      "text/plain": [
       "Unnamed: 37            142466\n",
       "ReportNo               142155\n",
       "Scheduled              134676\n",
       "DocketUrl              126575\n",
       "DocketPublishDate      126575\n",
       "Operator               105813\n",
       "AirportID              102797\n",
       "ProbableCause           97167\n",
       "HighestInjuryLevel      86531\n",
       "EventID                 65955\n",
       "AirportName             46406\n",
       "OriginalPublishDate     13508\n",
       "PurposeOfFlight          8290\n",
       "State                    5358\n",
       "FAR                      4374\n",
       "ReportType               3488\n",
       "ReportStatus             3416\n",
       "NumberOfEngines          2621\n",
       "WeatherCondition         2128\n",
       "AirCraftDamage           1485\n",
       "Country                   310\n",
       "Model                      36\n",
       "City                       31\n",
       "N                          28\n",
       "Make                        5\n",
       "RepGenFlag                  0\n",
       "NtsbNo                      0\n",
       "AmateurBuilt                0\n",
       "AirCraftCategory            0\n",
       "EventType                   0\n",
       "Latitude                    0\n",
       "MinorInjuryCount            0\n",
       "SeriousInjuryCount          0\n",
       "FatalInjuryCount            0\n",
       "HasSafetyRec                0\n",
       "EventDate                   0\n",
       "Mkey                        0\n",
       "Longitude                   0\n",
       "dtype: int64"
      ]
     },
     "execution_count": 362,
     "metadata": {},
     "output_type": "execute_result"
    }
   ],
   "source": [
    "df.isna().sum().sort_values(ascending=False)"
   ]
  },
  {
   "cell_type": "code",
   "execution_count": 363,
   "metadata": {},
   "outputs": [],
   "source": [
    "df.drop_duplicates(inplace=True)"
   ]
  },
  {
   "cell_type": "code",
   "execution_count": 364,
   "metadata": {},
   "outputs": [
    {
     "data": {
      "text/plain": [
       "(142466, 38)"
      ]
     },
     "execution_count": 364,
     "metadata": {},
     "output_type": "execute_result"
    }
   ],
   "source": [
    "df.shape"
   ]
  },
  {
   "cell_type": "code",
   "execution_count": 365,
   "metadata": {},
   "outputs": [
    {
     "data": {
      "text/plain": [
       "Index(['NtsbNo', 'EventType', 'Mkey', 'EventDate', 'City', 'State', 'Country',\n",
       "       'ReportNo', 'N', 'HasSafetyRec', 'ReportType', 'OriginalPublishDate',\n",
       "       'HighestInjuryLevel', 'FatalInjuryCount', 'SeriousInjuryCount',\n",
       "       'MinorInjuryCount', 'ProbableCause', 'EventID', 'Latitude', 'Longitude',\n",
       "       'Make', 'Model', 'AirCraftCategory', 'AirportID', 'AirportName',\n",
       "       'AmateurBuilt', 'NumberOfEngines', 'Scheduled', 'PurposeOfFlight',\n",
       "       'FAR', 'AirCraftDamage', 'WeatherCondition', 'Operator', 'ReportStatus',\n",
       "       'RepGenFlag', 'DocketUrl', 'DocketPublishDate', 'Unnamed: 37'],\n",
       "      dtype='object')"
      ]
     },
     "execution_count": 365,
     "metadata": {},
     "output_type": "execute_result"
    }
   ],
   "source": [
    "# Let's remove columns we are not interested in\n",
    "df.columns"
   ]
  },
  {
   "cell_type": "code",
   "execution_count": 366,
   "metadata": {},
   "outputs": [],
   "source": [
    "df.drop(columns=[\n",
    "    'Mkey',\n",
    "    'ReportNo',\n",
    "    'N', # N is the ID of the plane\n",
    "    'HasSafetyRec',\n",
    "    'ReportType',\n",
    "    'EventID',\n",
    "    'Latitude',\n",
    "    'Longitude',\n",
    "    'Unnamed: 37',\n",
    "    'DocketPublishDate',\n",
    "    'DocketUrl',\n",
    "    'AirportID',\n",
    "    'AirportName',\n",
    "    'ReportStatus',\n",
    "    'Operator',\n",
    "    'AmateurBuilt',\n",
    "    'NtsbNo',\n",
    "    'OriginalPublishDate',\n",
    "    'FAR',\n",
    "    'RepGenFlag',\n",
    "    'Scheduled',\n",
    "    'EventType'\n",
    "    \n",
    "], inplace=True)"
   ]
  },
  {
   "cell_type": "code",
   "execution_count": 367,
   "metadata": {},
   "outputs": [
    {
     "name": "stdout",
     "output_type": "stream",
     "text": [
      "<class 'pandas.core.frame.DataFrame'>\n",
      "RangeIndex: 142466 entries, 0 to 142465\n",
      "Data columns (total 16 columns):\n",
      " #   Column              Non-Null Count   Dtype \n",
      "---  ------              --------------   ----- \n",
      " 0   EventDate           142466 non-null  object\n",
      " 1   City                142435 non-null  object\n",
      " 2   State               137108 non-null  object\n",
      " 3   Country             142156 non-null  object\n",
      " 4   HighestInjuryLevel  55935 non-null   object\n",
      " 5   FatalInjuryCount    142466 non-null  int64 \n",
      " 6   SeriousInjuryCount  142466 non-null  int64 \n",
      " 7   MinorInjuryCount    142466 non-null  int64 \n",
      " 8   ProbableCause       45299 non-null   object\n",
      " 9   Make                142461 non-null  object\n",
      " 10  Model               142430 non-null  object\n",
      " 11  AirCraftCategory    142466 non-null  object\n",
      " 12  NumberOfEngines     139845 non-null  object\n",
      " 13  PurposeOfFlight     134176 non-null  object\n",
      " 14  AirCraftDamage      140981 non-null  object\n",
      " 15  WeatherCondition    140338 non-null  object\n",
      "dtypes: int64(3), object(13)\n",
      "memory usage: 17.4+ MB\n"
     ]
    }
   ],
   "source": [
    "df.info()"
   ]
  },
  {
   "cell_type": "code",
   "execution_count": 368,
   "metadata": {},
   "outputs": [
    {
     "name": "stdout",
     "output_type": "stream",
     "text": [
      "<class 'pandas.core.frame.DataFrame'>\n",
      "RangeIndex: 142466 entries, 0 to 142465\n",
      "Data columns (total 16 columns):\n",
      " #   Column              Non-Null Count   Dtype \n",
      "---  ------              --------------   ----- \n",
      " 0   EventDate           142466 non-null  object\n",
      " 1   City                142435 non-null  object\n",
      " 2   State               137108 non-null  object\n",
      " 3   Country             142156 non-null  object\n",
      " 4   HighestInjuryLevel  55935 non-null   object\n",
      " 5   FatalInjuryCount    142466 non-null  int64 \n",
      " 6   SeriousInjuryCount  142466 non-null  int64 \n",
      " 7   MinorInjuryCount    142466 non-null  int64 \n",
      " 8   ProbableCause       45299 non-null   object\n",
      " 9   Make                142461 non-null  object\n",
      " 10  Model               142430 non-null  object\n",
      " 11  AirCraftCategory    142466 non-null  object\n",
      " 12  NumberOfEngines     139845 non-null  object\n",
      " 13  PurposeOfFlight     134176 non-null  object\n",
      " 14  AirCraftDamage      140981 non-null  object\n",
      " 15  WeatherCondition    140338 non-null  object\n",
      "dtypes: int64(3), object(13)\n",
      "memory usage: 17.4+ MB\n"
     ]
    }
   ],
   "source": [
    "df.info()"
   ]
  },
  {
   "cell_type": "code",
   "execution_count": 369,
   "metadata": {},
   "outputs": [
    {
     "data": {
      "text/plain": [
       "ProbableCause         97167\n",
       "HighestInjuryLevel    86531\n",
       "PurposeOfFlight        8290\n",
       "State                  5358\n",
       "NumberOfEngines        2621\n",
       "WeatherCondition       2128\n",
       "AirCraftDamage         1485\n",
       "Country                 310\n",
       "Model                    36\n",
       "City                     31\n",
       "Make                      5\n",
       "EventDate                 0\n",
       "FatalInjuryCount          0\n",
       "SeriousInjuryCount        0\n",
       "MinorInjuryCount          0\n",
       "AirCraftCategory          0\n",
       "dtype: int64"
      ]
     },
     "execution_count": 369,
     "metadata": {},
     "output_type": "execute_result"
    }
   ],
   "source": [
    "df.isna().sum().sort_values(ascending=False)"
   ]
  },
  {
   "cell_type": "code",
   "execution_count": 370,
   "metadata": {},
   "outputs": [],
   "source": [
    "# Probable cause would be a valuable metric, however that information is missing from a really large number of entries. Therefore, the column will be dropped.\n",
    "df.drop('ProbableCause', axis=1, inplace=True)  "
   ]
  },
  {
   "cell_type": "code",
   "execution_count": 371,
   "metadata": {},
   "outputs": [],
   "source": [
    "# State is not super important, so we will drop it as well, along with PurposeOfFlight, Make and Model\n",
    "df.drop(columns=['PurposeOfFlight', 'State', 'Make', 'Model'], axis=1, inplace=True)  "
   ]
  },
  {
   "cell_type": "code",
   "execution_count": 372,
   "metadata": {},
   "outputs": [
    {
     "data": {
      "text/plain": [
       "HighestInjuryLevel    86531\n",
       "NumberOfEngines        2621\n",
       "WeatherCondition       2128\n",
       "AirCraftDamage         1485\n",
       "Country                 310\n",
       "City                     31\n",
       "EventDate                 0\n",
       "FatalInjuryCount          0\n",
       "SeriousInjuryCount        0\n",
       "MinorInjuryCount          0\n",
       "AirCraftCategory          0\n",
       "dtype: int64"
      ]
     },
     "execution_count": 372,
     "metadata": {},
     "output_type": "execute_result"
    }
   ],
   "source": [
    "df.isna().sum().sort_values(ascending=False)"
   ]
  },
  {
   "cell_type": "code",
   "execution_count": 373,
   "metadata": {},
   "outputs": [],
   "source": [
    "# HighestInjuryLevel can be extracted from the injury counts, which don't have any missing values, so we will remove this column as well and extract the information later\n",
    "df.drop('HighestInjuryLevel', axis=1, inplace=True)  "
   ]
  },
  {
   "cell_type": "code",
   "execution_count": 374,
   "metadata": {},
   "outputs": [
    {
     "data": {
      "text/plain": [
       "NumberOfEngines       2621\n",
       "WeatherCondition      2128\n",
       "AirCraftDamage        1485\n",
       "Country                310\n",
       "City                    31\n",
       "EventDate                0\n",
       "FatalInjuryCount         0\n",
       "SeriousInjuryCount       0\n",
       "MinorInjuryCount         0\n",
       "AirCraftCategory         0\n",
       "dtype: int64"
      ]
     },
     "execution_count": 374,
     "metadata": {},
     "output_type": "execute_result"
    }
   ],
   "source": [
    "df.isna().sum().sort_values(ascending=False)"
   ]
  },
  {
   "cell_type": "code",
   "execution_count": 375,
   "metadata": {},
   "outputs": [
    {
     "data": {
      "text/plain": [
       "(142466, 10)"
      ]
     },
     "execution_count": 375,
     "metadata": {},
     "output_type": "execute_result"
    }
   ],
   "source": [
    "# Now we are left with all the information we want and reduced the number of missing values significantly\n",
    "df.shape"
   ]
  },
  {
   "cell_type": "code",
   "execution_count": 376,
   "metadata": {},
   "outputs": [
    {
     "data": {
      "text/plain": [
       "(137512, 10)"
      ]
     },
     "execution_count": 376,
     "metadata": {},
     "output_type": "execute_result"
    }
   ],
   "source": [
    "# Given the shear amount of data, it's acceptable to simply drop the null values\n",
    "df.dropna(inplace=True)\n",
    "df.shape"
   ]
  },
  {
   "cell_type": "code",
   "execution_count": 377,
   "metadata": {},
   "outputs": [
    {
     "data": {
      "text/plain": [
       "EventDate             0\n",
       "City                  0\n",
       "Country               0\n",
       "FatalInjuryCount      0\n",
       "SeriousInjuryCount    0\n",
       "MinorInjuryCount      0\n",
       "AirCraftCategory      0\n",
       "NumberOfEngines       0\n",
       "AirCraftDamage        0\n",
       "WeatherCondition      0\n",
       "dtype: int64"
      ]
     },
     "execution_count": 377,
     "metadata": {},
     "output_type": "execute_result"
    }
   ],
   "source": [
    "df.isna().sum().sort_values(ascending=False)"
   ]
  },
  {
   "cell_type": "code",
   "execution_count": 378,
   "metadata": {},
   "outputs": [],
   "source": [
    "# Now let's change the types of the numerical data that are mistakenly described as objects\n",
    "df.EventDate = pd.to_datetime(df.EventDate)"
   ]
  },
  {
   "cell_type": "code",
   "execution_count": 379,
   "metadata": {},
   "outputs": [
    {
     "data": {
      "text/plain": [
       "NumberOfEngines\n",
       "1        117795\n",
       "2         16947\n",
       "1,1        1342\n",
       "4           578\n",
       "3           221\n",
       "2,2         132\n",
       "2,1         132\n",
       "1,2         122\n",
       "0           108\n",
       "4,2          19\n",
       "1,           18\n",
       ",            12\n",
       ",1           11\n",
       "2,3          10\n",
       "1,0          10\n",
       "0,1           8\n",
       "4,4           6\n",
       "2,4           5\n",
       "1,4           4\n",
       "2,            4\n",
       "1,3           3\n",
       "3,4           3\n",
       "3,2           3\n",
       "4,1           3\n",
       "3,1           3\n",
       ",2            3\n",
       "3,3           1\n",
       "2,2,2         1\n",
       "4,3           1\n",
       "1,1,1         1\n",
       "0,0           1\n",
       "2,0           1\n",
       "1,1,0         1\n",
       "4,            1\n",
       ",4            1\n",
       "6,1           1\n",
       "Name: count, dtype: int64"
      ]
     },
     "execution_count": 379,
     "metadata": {},
     "output_type": "execute_result"
    }
   ],
   "source": [
    "df.NumberOfEngines.value_counts()"
   ]
  },
  {
   "cell_type": "code",
   "execution_count": 380,
   "metadata": {},
   "outputs": [
    {
     "data": {
      "text/html": [
       "<div>\n",
       "<style scoped>\n",
       "    .dataframe tbody tr th:only-of-type {\n",
       "        vertical-align: middle;\n",
       "    }\n",
       "\n",
       "    .dataframe tbody tr th {\n",
       "        vertical-align: top;\n",
       "    }\n",
       "\n",
       "    .dataframe thead th {\n",
       "        text-align: right;\n",
       "    }\n",
       "</style>\n",
       "<table border=\"1\" class=\"dataframe\">\n",
       "  <thead>\n",
       "    <tr style=\"text-align: right;\">\n",
       "      <th></th>\n",
       "      <th>EventDate</th>\n",
       "      <th>City</th>\n",
       "      <th>Country</th>\n",
       "      <th>FatalInjuryCount</th>\n",
       "      <th>SeriousInjuryCount</th>\n",
       "      <th>MinorInjuryCount</th>\n",
       "      <th>AirCraftCategory</th>\n",
       "      <th>NumberOfEngines</th>\n",
       "      <th>AirCraftDamage</th>\n",
       "      <th>WeatherCondition</th>\n",
       "    </tr>\n",
       "  </thead>\n",
       "  <tbody>\n",
       "    <tr>\n",
       "      <th>145</th>\n",
       "      <td>2023-08-01 17:37:00+00:00</td>\n",
       "      <td>Long Beach</td>\n",
       "      <td>United States</td>\n",
       "      <td>0</td>\n",
       "      <td>0</td>\n",
       "      <td>0</td>\n",
       "      <td>AIR,AIR</td>\n",
       "      <td>1,1</td>\n",
       "      <td>Minor,Substantial</td>\n",
       "      <td>VMC</td>\n",
       "    </tr>\n",
       "    <tr>\n",
       "      <th>314</th>\n",
       "      <td>2023-05-22 11:00:00+00:00</td>\n",
       "      <td>Gueydan</td>\n",
       "      <td>United States</td>\n",
       "      <td>0</td>\n",
       "      <td>0</td>\n",
       "      <td>0</td>\n",
       "      <td>AIR,AIR</td>\n",
       "      <td>1,1</td>\n",
       "      <td>Substantial,Substantial</td>\n",
       "      <td>VMC</td>\n",
       "    </tr>\n",
       "    <tr>\n",
       "      <th>437</th>\n",
       "      <td>2023-03-17 13:40:00+00:00</td>\n",
       "      <td>Mesa</td>\n",
       "      <td>United States</td>\n",
       "      <td>0</td>\n",
       "      <td>1</td>\n",
       "      <td>0</td>\n",
       "      <td>AIR,AIR</td>\n",
       "      <td>1,1</td>\n",
       "      <td>Substantial,Substantial</td>\n",
       "      <td>VMC</td>\n",
       "    </tr>\n",
       "    <tr>\n",
       "      <th>450</th>\n",
       "      <td>2023-03-07 14:04:00+00:00</td>\n",
       "      <td>Hillsboro</td>\n",
       "      <td>United States</td>\n",
       "      <td>0</td>\n",
       "      <td>0</td>\n",
       "      <td>0</td>\n",
       "      <td>AIR,AIR</td>\n",
       "      <td>1,1</td>\n",
       "      <td>Substantial,Minor</td>\n",
       "      <td>VMC</td>\n",
       "    </tr>\n",
       "    <tr>\n",
       "      <th>561</th>\n",
       "      <td>2022-12-27 05:00:00+00:00</td>\n",
       "      <td>Brookshire</td>\n",
       "      <td>United States</td>\n",
       "      <td>0</td>\n",
       "      <td>0</td>\n",
       "      <td>0</td>\n",
       "      <td>AIR,AIR</td>\n",
       "      <td>1,1</td>\n",
       "      <td>Substantial,Minor</td>\n",
       "      <td>VMC</td>\n",
       "    </tr>\n",
       "    <tr>\n",
       "      <th>...</th>\n",
       "      <td>...</td>\n",
       "      <td>...</td>\n",
       "      <td>...</td>\n",
       "      <td>...</td>\n",
       "      <td>...</td>\n",
       "      <td>...</td>\n",
       "      <td>...</td>\n",
       "      <td>...</td>\n",
       "      <td>...</td>\n",
       "      <td>...</td>\n",
       "    </tr>\n",
       "    <tr>\n",
       "      <th>140972</th>\n",
       "      <td>1964-04-30 04:00:00+00:00</td>\n",
       "      <td>ENID</td>\n",
       "      <td>United States</td>\n",
       "      <td>0</td>\n",
       "      <td>0</td>\n",
       "      <td>0</td>\n",
       "      <td>AIR,AIR</td>\n",
       "      <td>1,1</td>\n",
       "      <td>Minor,Substantial</td>\n",
       "      <td>VFR</td>\n",
       "    </tr>\n",
       "    <tr>\n",
       "      <th>141161</th>\n",
       "      <td>1964-04-15 04:00:00+00:00</td>\n",
       "      <td>TOLLESON</td>\n",
       "      <td>United States</td>\n",
       "      <td>0</td>\n",
       "      <td>0</td>\n",
       "      <td>0</td>\n",
       "      <td>AIR,AIR</td>\n",
       "      <td>1,1</td>\n",
       "      <td>Minor,Minor</td>\n",
       "      <td>VFR</td>\n",
       "    </tr>\n",
       "    <tr>\n",
       "      <th>141779</th>\n",
       "      <td>1964-02-22 05:00:00+00:00</td>\n",
       "      <td>ALBUQUERQUE</td>\n",
       "      <td>United States</td>\n",
       "      <td>0</td>\n",
       "      <td>0</td>\n",
       "      <td>0</td>\n",
       "      <td>AIR,AIR</td>\n",
       "      <td>1,1</td>\n",
       "      <td>Substantial,Minor</td>\n",
       "      <td>VFR</td>\n",
       "    </tr>\n",
       "    <tr>\n",
       "      <th>142110</th>\n",
       "      <td>1964-01-22 05:00:00+00:00</td>\n",
       "      <td>MOULTRIE</td>\n",
       "      <td>United States</td>\n",
       "      <td>0</td>\n",
       "      <td>0</td>\n",
       "      <td>0</td>\n",
       "      <td>AIR,AIR</td>\n",
       "      <td>1,1</td>\n",
       "      <td>Substantial,Minor</td>\n",
       "      <td>VFR</td>\n",
       "    </tr>\n",
       "    <tr>\n",
       "      <th>142265</th>\n",
       "      <td>1964-01-04 05:00:00+00:00</td>\n",
       "      <td>PALO ALTO</td>\n",
       "      <td>United States</td>\n",
       "      <td>0</td>\n",
       "      <td>1</td>\n",
       "      <td>0</td>\n",
       "      <td>AIR,AIR</td>\n",
       "      <td>1,1</td>\n",
       "      <td>Destroyed,Substantial</td>\n",
       "      <td>VFR</td>\n",
       "    </tr>\n",
       "  </tbody>\n",
       "</table>\n",
       "<p>1342 rows × 10 columns</p>\n",
       "</div>"
      ],
      "text/plain": [
       "                       EventDate         City        Country  \\\n",
       "145    2023-08-01 17:37:00+00:00   Long Beach  United States   \n",
       "314    2023-05-22 11:00:00+00:00      Gueydan  United States   \n",
       "437    2023-03-17 13:40:00+00:00         Mesa  United States   \n",
       "450    2023-03-07 14:04:00+00:00    Hillsboro  United States   \n",
       "561    2022-12-27 05:00:00+00:00   Brookshire  United States   \n",
       "...                          ...          ...            ...   \n",
       "140972 1964-04-30 04:00:00+00:00         ENID  United States   \n",
       "141161 1964-04-15 04:00:00+00:00     TOLLESON  United States   \n",
       "141779 1964-02-22 05:00:00+00:00  ALBUQUERQUE  United States   \n",
       "142110 1964-01-22 05:00:00+00:00     MOULTRIE  United States   \n",
       "142265 1964-01-04 05:00:00+00:00    PALO ALTO  United States   \n",
       "\n",
       "        FatalInjuryCount  SeriousInjuryCount  MinorInjuryCount  \\\n",
       "145                    0                   0                 0   \n",
       "314                    0                   0                 0   \n",
       "437                    0                   1                 0   \n",
       "450                    0                   0                 0   \n",
       "561                    0                   0                 0   \n",
       "...                  ...                 ...               ...   \n",
       "140972                 0                   0                 0   \n",
       "141161                 0                   0                 0   \n",
       "141779                 0                   0                 0   \n",
       "142110                 0                   0                 0   \n",
       "142265                 0                   1                 0   \n",
       "\n",
       "       AirCraftCategory NumberOfEngines           AirCraftDamage  \\\n",
       "145             AIR,AIR             1,1        Minor,Substantial   \n",
       "314             AIR,AIR             1,1  Substantial,Substantial   \n",
       "437             AIR,AIR             1,1  Substantial,Substantial   \n",
       "450             AIR,AIR             1,1        Substantial,Minor   \n",
       "561             AIR,AIR             1,1        Substantial,Minor   \n",
       "...                 ...             ...                      ...   \n",
       "140972          AIR,AIR             1,1        Minor,Substantial   \n",
       "141161          AIR,AIR             1,1              Minor,Minor   \n",
       "141779          AIR,AIR             1,1        Substantial,Minor   \n",
       "142110          AIR,AIR             1,1        Substantial,Minor   \n",
       "142265          AIR,AIR             1,1    Destroyed,Substantial   \n",
       "\n",
       "       WeatherCondition  \n",
       "145                 VMC  \n",
       "314                 VMC  \n",
       "437                 VMC  \n",
       "450                 VMC  \n",
       "561                 VMC  \n",
       "...                 ...  \n",
       "140972              VFR  \n",
       "141161              VFR  \n",
       "141779              VFR  \n",
       "142110              VFR  \n",
       "142265              VFR  \n",
       "\n",
       "[1342 rows x 10 columns]"
      ]
     },
     "execution_count": 380,
     "metadata": {},
     "output_type": "execute_result"
    }
   ],
   "source": [
    "# The number of engines seems to be in a strange format, let's check\n",
    "df.loc[df.NumberOfEngines == '1,1']"
   ]
  },
  {
   "cell_type": "code",
   "execution_count": 381,
   "metadata": {},
   "outputs": [
    {
     "data": {
      "text/plain": [
       "AirCraftCategory\n",
       "AIR            135649\n",
       "AIR,AIR          1762\n",
       "AIR,HELI           32\n",
       "HELI,AIR           24\n",
       "AIR,GLI            21\n",
       "GLI,AIR            13\n",
       "AIR,ULTR            4\n",
       "AIR,AIR,AIR         2\n",
       "AIR,UNK             1\n",
       "AIR,AIR,GLI         1\n",
       "PPAR,AIR            1\n",
       "AIR,                1\n",
       "GYRO,AIR            1\n",
       "Name: count, dtype: int64"
      ]
     },
     "execution_count": 381,
     "metadata": {},
     "output_type": "execute_result"
    }
   ],
   "source": [
    "# We can see now that more than one aircraft has been involved in this accident, so the number for each airplane is separated by a comma. Let's check for aircraft type\n",
    "df.AirCraftCategory.value_counts()"
   ]
  },
  {
   "cell_type": "code",
   "execution_count": 382,
   "metadata": {},
   "outputs": [],
   "source": [
    "# We are only interested in accidents involving airplanes, so we can remove some of this data\n",
    "itemList = ['HELI', 'UNK', 'GLI', 'ULTR', 'GYRO', 'PPAR']\n",
    "for string in itemList:\n",
    "    df.drop(df[df.AirCraftCategory.str.contains(string)].index, inplace=True)"
   ]
  },
  {
   "cell_type": "code",
   "execution_count": 383,
   "metadata": {},
   "outputs": [
    {
     "data": {
      "text/plain": [
       "AirCraftCategory\n",
       "AIR            135649\n",
       "AIR,AIR          1762\n",
       "AIR,AIR,AIR         2\n",
       "AIR,                1\n",
       "Name: count, dtype: int64"
      ]
     },
     "execution_count": 383,
     "metadata": {},
     "output_type": "execute_result"
    }
   ],
   "source": [
    "df.AirCraftCategory.value_counts()"
   ]
  },
  {
   "cell_type": "code",
   "execution_count": 384,
   "metadata": {},
   "outputs": [],
   "source": [
    "df.drop(df[df.AirCraftCategory == 'AIR,'].index, inplace=True)"
   ]
  },
  {
   "cell_type": "code",
   "execution_count": 385,
   "metadata": {},
   "outputs": [
    {
     "data": {
      "text/plain": [
       "AirCraftCategory\n",
       "AIR            135649\n",
       "AIR,AIR          1762\n",
       "AIR,AIR,AIR         2\n",
       "Name: count, dtype: int64"
      ]
     },
     "execution_count": 385,
     "metadata": {},
     "output_type": "execute_result"
    }
   ],
   "source": [
    "df.AirCraftCategory.value_counts()"
   ]
  },
  {
   "cell_type": "markdown",
   "metadata": {},
   "source": [
    "## Exploratory Analysis and Feature Engineering"
   ]
  },
  {
   "cell_type": "code",
   "execution_count": 386,
   "metadata": {},
   "outputs": [
    {
     "data": {
      "text/plain": [
       "4        2024-01-01 16:40:00+00:00\n",
       "5        2023-12-28 11:57:00+00:00\n",
       "6        2023-12-26 13:15:00+00:00\n",
       "9        2023-12-12 17:44:00+00:00\n",
       "10       2023-12-11 13:15:00+00:00\n",
       "                    ...           \n",
       "142460   1962-01-20 05:00:00+00:00\n",
       "142461   1962-01-16 05:00:00+00:00\n",
       "142462   1962-01-14 05:00:00+00:00\n",
       "142464   1962-01-01 05:00:00+00:00\n",
       "142465   1948-10-24 16:55:00+00:00\n",
       "Name: EventDate, Length: 137413, dtype: datetime64[ns, UTC]"
      ]
     },
     "execution_count": 386,
     "metadata": {},
     "output_type": "execute_result"
    }
   ],
   "source": [
    "# Let's extract the date and the time of the accidents\n",
    "df.EventDate = pd.to_datetime(df.EventDate)\n",
    "df.EventDate"
   ]
  },
  {
   "cell_type": "code",
   "execution_count": 387,
   "metadata": {},
   "outputs": [],
   "source": [
    "# Let's first extract some relevant information from the data and create new columns\n",
    "df['EventTime'] = pd.to_datetime(df.EventDate.dt.strftime('%H:%M'))"
   ]
  },
  {
   "cell_type": "code",
   "execution_count": 388,
   "metadata": {},
   "outputs": [
    {
     "data": {
      "text/plain": [
       "4        2024-02-14 16:40:00\n",
       "5        2024-02-14 11:57:00\n",
       "6        2024-02-14 13:15:00\n",
       "9        2024-02-14 17:44:00\n",
       "10       2024-02-14 13:15:00\n",
       "                 ...        \n",
       "142460   2024-02-14 05:00:00\n",
       "142461   2024-02-14 05:00:00\n",
       "142462   2024-02-14 05:00:00\n",
       "142464   2024-02-14 05:00:00\n",
       "142465   2024-02-14 16:55:00\n",
       "Name: EventTime, Length: 137413, dtype: datetime64[ns]"
      ]
     },
     "execution_count": 388,
     "metadata": {},
     "output_type": "execute_result"
    }
   ],
   "source": [
    "df.EventTime"
   ]
  },
  {
   "cell_type": "code",
   "execution_count": 389,
   "metadata": {},
   "outputs": [],
   "source": [
    "df.EventTime = df.EventTime.dt.time"
   ]
  },
  {
   "cell_type": "code",
   "execution_count": 390,
   "metadata": {},
   "outputs": [],
   "source": [
    "df.EventTime = df.EventTime.astype(str).str.replace(':', '')\n"
   ]
  },
  {
   "cell_type": "code",
   "execution_count": 391,
   "metadata": {},
   "outputs": [
    {
     "data": {
      "text/plain": [
       "4         164000\n",
       "5         115700\n",
       "6         131500\n",
       "9         174400\n",
       "10        131500\n",
       "           ...  \n",
       "142460    050000\n",
       "142461    050000\n",
       "142462    050000\n",
       "142464    050000\n",
       "142465    165500\n",
       "Name: EventTime, Length: 137413, dtype: object"
      ]
     },
     "execution_count": 391,
     "metadata": {},
     "output_type": "execute_result"
    }
   ],
   "source": [
    "df.EventTime"
   ]
  },
  {
   "cell_type": "code",
   "execution_count": 392,
   "metadata": {},
   "outputs": [
    {
     "data": {
      "text/plain": [
       "4         164000\n",
       "5         115700\n",
       "6         131500\n",
       "9         174400\n",
       "10        131500\n",
       "           ...  \n",
       "142460     50000\n",
       "142461     50000\n",
       "142462     50000\n",
       "142464     50000\n",
       "142465    165500\n",
       "Name: EventTime, Length: 137413, dtype: int32"
      ]
     },
     "execution_count": 392,
     "metadata": {},
     "output_type": "execute_result"
    }
   ],
   "source": [
    "df.EventTime = df.EventTime.astype(int)\n",
    "df.EventTime"
   ]
  },
  {
   "cell_type": "code",
   "execution_count": 393,
   "metadata": {},
   "outputs": [
    {
     "data": {
      "text/plain": [
       "Index(['EventDate', 'City', 'Country', 'FatalInjuryCount',\n",
       "       'SeriousInjuryCount', 'MinorInjuryCount', 'AirCraftCategory',\n",
       "       'NumberOfEngines', 'AirCraftDamage', 'WeatherCondition', 'EventTime'],\n",
       "      dtype='object')"
      ]
     },
     "execution_count": 393,
     "metadata": {},
     "output_type": "execute_result"
    }
   ],
   "source": [
    "df.columns"
   ]
  },
  {
   "cell_type": "code",
   "execution_count": 394,
   "metadata": {},
   "outputs": [],
   "source": [
    "df.EventDate = pd.to_datetime(df.EventDate.dt.strftime('%Y-%m-%d'))"
   ]
  },
  {
   "cell_type": "code",
   "execution_count": 395,
   "metadata": {},
   "outputs": [
    {
     "data": {
      "text/plain": [
       "4        2024-01-01\n",
       "5        2023-12-28\n",
       "6        2023-12-26\n",
       "9        2023-12-12\n",
       "10       2023-12-11\n",
       "            ...    \n",
       "142460   1962-01-20\n",
       "142461   1962-01-16\n",
       "142462   1962-01-14\n",
       "142464   1962-01-01\n",
       "142465   1948-10-24\n",
       "Name: EventDate, Length: 137413, dtype: datetime64[ns]"
      ]
     },
     "execution_count": 395,
     "metadata": {},
     "output_type": "execute_result"
    }
   ],
   "source": [
    "df.EventDate"
   ]
  },
  {
   "cell_type": "code",
   "execution_count": 396,
   "metadata": {},
   "outputs": [
    {
     "data": {
      "text/html": [
       "<div>\n",
       "<style scoped>\n",
       "    .dataframe tbody tr th:only-of-type {\n",
       "        vertical-align: middle;\n",
       "    }\n",
       "\n",
       "    .dataframe tbody tr th {\n",
       "        vertical-align: top;\n",
       "    }\n",
       "\n",
       "    .dataframe thead th {\n",
       "        text-align: right;\n",
       "    }\n",
       "</style>\n",
       "<table border=\"1\" class=\"dataframe\">\n",
       "  <thead>\n",
       "    <tr style=\"text-align: right;\">\n",
       "      <th></th>\n",
       "      <th>EventDate</th>\n",
       "      <th>City</th>\n",
       "      <th>Country</th>\n",
       "      <th>FatalInjuryCount</th>\n",
       "      <th>SeriousInjuryCount</th>\n",
       "      <th>MinorInjuryCount</th>\n",
       "      <th>AirCraftCategory</th>\n",
       "      <th>NumberOfEngines</th>\n",
       "      <th>AirCraftDamage</th>\n",
       "      <th>WeatherCondition</th>\n",
       "      <th>EventTime</th>\n",
       "    </tr>\n",
       "  </thead>\n",
       "  <tbody>\n",
       "    <tr>\n",
       "      <th>4</th>\n",
       "      <td>2024-01-01</td>\n",
       "      <td>Mansfield</td>\n",
       "      <td>United States</td>\n",
       "      <td>0</td>\n",
       "      <td>0</td>\n",
       "      <td>0</td>\n",
       "      <td>AIR</td>\n",
       "      <td>1</td>\n",
       "      <td>Destroyed</td>\n",
       "      <td>VMC</td>\n",
       "      <td>164000</td>\n",
       "    </tr>\n",
       "    <tr>\n",
       "      <th>5</th>\n",
       "      <td>2023-12-28</td>\n",
       "      <td>Lake Havasu</td>\n",
       "      <td>United States</td>\n",
       "      <td>0</td>\n",
       "      <td>0</td>\n",
       "      <td>1</td>\n",
       "      <td>AIR</td>\n",
       "      <td>1</td>\n",
       "      <td>Substantial</td>\n",
       "      <td>VMC</td>\n",
       "      <td>115700</td>\n",
       "    </tr>\n",
       "    <tr>\n",
       "      <th>6</th>\n",
       "      <td>2023-12-26</td>\n",
       "      <td>Ponca City</td>\n",
       "      <td>United States</td>\n",
       "      <td>0</td>\n",
       "      <td>0</td>\n",
       "      <td>0</td>\n",
       "      <td>AIR</td>\n",
       "      <td>2</td>\n",
       "      <td>Substantial</td>\n",
       "      <td>VMC</td>\n",
       "      <td>131500</td>\n",
       "    </tr>\n",
       "    <tr>\n",
       "      <th>9</th>\n",
       "      <td>2023-12-12</td>\n",
       "      <td>Sidney</td>\n",
       "      <td>United States</td>\n",
       "      <td>0</td>\n",
       "      <td>0</td>\n",
       "      <td>0</td>\n",
       "      <td>AIR</td>\n",
       "      <td>1</td>\n",
       "      <td>Substantial</td>\n",
       "      <td>VMC</td>\n",
       "      <td>174400</td>\n",
       "    </tr>\n",
       "    <tr>\n",
       "      <th>10</th>\n",
       "      <td>2023-12-11</td>\n",
       "      <td>Newport News</td>\n",
       "      <td>United States</td>\n",
       "      <td>0</td>\n",
       "      <td>0</td>\n",
       "      <td>0</td>\n",
       "      <td>AIR</td>\n",
       "      <td>1</td>\n",
       "      <td>Unknown</td>\n",
       "      <td>VMC</td>\n",
       "      <td>131500</td>\n",
       "    </tr>\n",
       "  </tbody>\n",
       "</table>\n",
       "</div>"
      ],
      "text/plain": [
       "    EventDate          City        Country  FatalInjuryCount  \\\n",
       "4  2024-01-01     Mansfield  United States                 0   \n",
       "5  2023-12-28   Lake Havasu  United States                 0   \n",
       "6  2023-12-26    Ponca City  United States                 0   \n",
       "9  2023-12-12        Sidney  United States                 0   \n",
       "10 2023-12-11  Newport News  United States                 0   \n",
       "\n",
       "    SeriousInjuryCount  MinorInjuryCount AirCraftCategory NumberOfEngines  \\\n",
       "4                    0                 0              AIR               1   \n",
       "5                    0                 1              AIR               1   \n",
       "6                    0                 0              AIR               2   \n",
       "9                    0                 0              AIR               1   \n",
       "10                   0                 0              AIR               1   \n",
       "\n",
       "   AirCraftDamage WeatherCondition  EventTime  \n",
       "4       Destroyed              VMC     164000  \n",
       "5     Substantial              VMC     115700  \n",
       "6     Substantial              VMC     131500  \n",
       "9     Substantial              VMC     174400  \n",
       "10        Unknown              VMC     131500  "
      ]
     },
     "execution_count": 396,
     "metadata": {},
     "output_type": "execute_result"
    }
   ],
   "source": [
    "df.head()"
   ]
  },
  {
   "cell_type": "code",
   "execution_count": 397,
   "metadata": {},
   "outputs": [
    {
     "data": {
      "text/html": [
       "<div>\n",
       "<style scoped>\n",
       "    .dataframe tbody tr th:only-of-type {\n",
       "        vertical-align: middle;\n",
       "    }\n",
       "\n",
       "    .dataframe tbody tr th {\n",
       "        vertical-align: top;\n",
       "    }\n",
       "\n",
       "    .dataframe thead th {\n",
       "        text-align: right;\n",
       "    }\n",
       "</style>\n",
       "<table border=\"1\" class=\"dataframe\">\n",
       "  <thead>\n",
       "    <tr style=\"text-align: right;\">\n",
       "      <th></th>\n",
       "      <th>City</th>\n",
       "      <th>Country</th>\n",
       "      <th>FatalInjuryCount</th>\n",
       "      <th>SeriousInjuryCount</th>\n",
       "      <th>MinorInjuryCount</th>\n",
       "      <th>AirCraftCategory</th>\n",
       "      <th>NumberOfEngines</th>\n",
       "      <th>AirCraftDamage</th>\n",
       "      <th>WeatherCondition</th>\n",
       "      <th>EventTime</th>\n",
       "    </tr>\n",
       "    <tr>\n",
       "      <th>EventDate</th>\n",
       "      <th></th>\n",
       "      <th></th>\n",
       "      <th></th>\n",
       "      <th></th>\n",
       "      <th></th>\n",
       "      <th></th>\n",
       "      <th></th>\n",
       "      <th></th>\n",
       "      <th></th>\n",
       "      <th></th>\n",
       "    </tr>\n",
       "  </thead>\n",
       "  <tbody>\n",
       "    <tr>\n",
       "      <th>2024-01-01</th>\n",
       "      <td>Mansfield</td>\n",
       "      <td>United States</td>\n",
       "      <td>0</td>\n",
       "      <td>0</td>\n",
       "      <td>0</td>\n",
       "      <td>AIR</td>\n",
       "      <td>1</td>\n",
       "      <td>Destroyed</td>\n",
       "      <td>VMC</td>\n",
       "      <td>164000</td>\n",
       "    </tr>\n",
       "    <tr>\n",
       "      <th>2023-12-28</th>\n",
       "      <td>Lake Havasu</td>\n",
       "      <td>United States</td>\n",
       "      <td>0</td>\n",
       "      <td>0</td>\n",
       "      <td>1</td>\n",
       "      <td>AIR</td>\n",
       "      <td>1</td>\n",
       "      <td>Substantial</td>\n",
       "      <td>VMC</td>\n",
       "      <td>115700</td>\n",
       "    </tr>\n",
       "    <tr>\n",
       "      <th>2023-12-26</th>\n",
       "      <td>Ponca City</td>\n",
       "      <td>United States</td>\n",
       "      <td>0</td>\n",
       "      <td>0</td>\n",
       "      <td>0</td>\n",
       "      <td>AIR</td>\n",
       "      <td>2</td>\n",
       "      <td>Substantial</td>\n",
       "      <td>VMC</td>\n",
       "      <td>131500</td>\n",
       "    </tr>\n",
       "    <tr>\n",
       "      <th>2023-12-12</th>\n",
       "      <td>Sidney</td>\n",
       "      <td>United States</td>\n",
       "      <td>0</td>\n",
       "      <td>0</td>\n",
       "      <td>0</td>\n",
       "      <td>AIR</td>\n",
       "      <td>1</td>\n",
       "      <td>Substantial</td>\n",
       "      <td>VMC</td>\n",
       "      <td>174400</td>\n",
       "    </tr>\n",
       "    <tr>\n",
       "      <th>2023-12-11</th>\n",
       "      <td>Newport News</td>\n",
       "      <td>United States</td>\n",
       "      <td>0</td>\n",
       "      <td>0</td>\n",
       "      <td>0</td>\n",
       "      <td>AIR</td>\n",
       "      <td>1</td>\n",
       "      <td>Unknown</td>\n",
       "      <td>VMC</td>\n",
       "      <td>131500</td>\n",
       "    </tr>\n",
       "  </tbody>\n",
       "</table>\n",
       "</div>"
      ],
      "text/plain": [
       "                    City        Country  FatalInjuryCount  SeriousInjuryCount  \\\n",
       "EventDate                                                                       \n",
       "2024-01-01     Mansfield  United States                 0                   0   \n",
       "2023-12-28   Lake Havasu  United States                 0                   0   \n",
       "2023-12-26    Ponca City  United States                 0                   0   \n",
       "2023-12-12        Sidney  United States                 0                   0   \n",
       "2023-12-11  Newport News  United States                 0                   0   \n",
       "\n",
       "            MinorInjuryCount AirCraftCategory NumberOfEngines AirCraftDamage  \\\n",
       "EventDate                                                                      \n",
       "2024-01-01                 0              AIR               1      Destroyed   \n",
       "2023-12-28                 1              AIR               1    Substantial   \n",
       "2023-12-26                 0              AIR               2    Substantial   \n",
       "2023-12-12                 0              AIR               1    Substantial   \n",
       "2023-12-11                 0              AIR               1        Unknown   \n",
       "\n",
       "           WeatherCondition  EventTime  \n",
       "EventDate                               \n",
       "2024-01-01              VMC     164000  \n",
       "2023-12-28              VMC     115700  \n",
       "2023-12-26              VMC     131500  \n",
       "2023-12-12              VMC     174400  \n",
       "2023-12-11              VMC     131500  "
      ]
     },
     "execution_count": 397,
     "metadata": {},
     "output_type": "execute_result"
    }
   ],
   "source": [
    "# Let's make the date the index of the data frame\n",
    "df.set_index(df.EventDate, inplace=True)\n",
    "df.drop(columns='EventDate', inplace=True)\n",
    "df.head()"
   ]
  },
  {
   "cell_type": "code",
   "execution_count": 398,
   "metadata": {},
   "outputs": [],
   "source": [
    "# Let's extract the year from the date. That can be useful to determine how accidents have changed through the years\n",
    "df['Year'] = df.index.year"
   ]
  },
  {
   "cell_type": "code",
   "execution_count": 399,
   "metadata": {},
   "outputs": [
    {
     "data": {
      "text/html": [
       "<div>\n",
       "<style scoped>\n",
       "    .dataframe tbody tr th:only-of-type {\n",
       "        vertical-align: middle;\n",
       "    }\n",
       "\n",
       "    .dataframe tbody tr th {\n",
       "        vertical-align: top;\n",
       "    }\n",
       "\n",
       "    .dataframe thead th {\n",
       "        text-align: right;\n",
       "    }\n",
       "</style>\n",
       "<table border=\"1\" class=\"dataframe\">\n",
       "  <thead>\n",
       "    <tr style=\"text-align: right;\">\n",
       "      <th></th>\n",
       "      <th>City</th>\n",
       "      <th>Country</th>\n",
       "      <th>FatalInjuryCount</th>\n",
       "      <th>SeriousInjuryCount</th>\n",
       "      <th>MinorInjuryCount</th>\n",
       "      <th>AirCraftCategory</th>\n",
       "      <th>NumberOfEngines</th>\n",
       "      <th>AirCraftDamage</th>\n",
       "      <th>WeatherCondition</th>\n",
       "      <th>EventTime</th>\n",
       "      <th>Year</th>\n",
       "    </tr>\n",
       "    <tr>\n",
       "      <th>EventDate</th>\n",
       "      <th></th>\n",
       "      <th></th>\n",
       "      <th></th>\n",
       "      <th></th>\n",
       "      <th></th>\n",
       "      <th></th>\n",
       "      <th></th>\n",
       "      <th></th>\n",
       "      <th></th>\n",
       "      <th></th>\n",
       "      <th></th>\n",
       "    </tr>\n",
       "  </thead>\n",
       "  <tbody>\n",
       "    <tr>\n",
       "      <th>2024-01-01</th>\n",
       "      <td>Mansfield</td>\n",
       "      <td>United States</td>\n",
       "      <td>0</td>\n",
       "      <td>0</td>\n",
       "      <td>0</td>\n",
       "      <td>AIR</td>\n",
       "      <td>1</td>\n",
       "      <td>Destroyed</td>\n",
       "      <td>VMC</td>\n",
       "      <td>164000</td>\n",
       "      <td>2024</td>\n",
       "    </tr>\n",
       "    <tr>\n",
       "      <th>2023-12-28</th>\n",
       "      <td>Lake Havasu</td>\n",
       "      <td>United States</td>\n",
       "      <td>0</td>\n",
       "      <td>0</td>\n",
       "      <td>1</td>\n",
       "      <td>AIR</td>\n",
       "      <td>1</td>\n",
       "      <td>Substantial</td>\n",
       "      <td>VMC</td>\n",
       "      <td>115700</td>\n",
       "      <td>2023</td>\n",
       "    </tr>\n",
       "    <tr>\n",
       "      <th>2023-12-26</th>\n",
       "      <td>Ponca City</td>\n",
       "      <td>United States</td>\n",
       "      <td>0</td>\n",
       "      <td>0</td>\n",
       "      <td>0</td>\n",
       "      <td>AIR</td>\n",
       "      <td>2</td>\n",
       "      <td>Substantial</td>\n",
       "      <td>VMC</td>\n",
       "      <td>131500</td>\n",
       "      <td>2023</td>\n",
       "    </tr>\n",
       "    <tr>\n",
       "      <th>2023-12-12</th>\n",
       "      <td>Sidney</td>\n",
       "      <td>United States</td>\n",
       "      <td>0</td>\n",
       "      <td>0</td>\n",
       "      <td>0</td>\n",
       "      <td>AIR</td>\n",
       "      <td>1</td>\n",
       "      <td>Substantial</td>\n",
       "      <td>VMC</td>\n",
       "      <td>174400</td>\n",
       "      <td>2023</td>\n",
       "    </tr>\n",
       "    <tr>\n",
       "      <th>2023-12-11</th>\n",
       "      <td>Newport News</td>\n",
       "      <td>United States</td>\n",
       "      <td>0</td>\n",
       "      <td>0</td>\n",
       "      <td>0</td>\n",
       "      <td>AIR</td>\n",
       "      <td>1</td>\n",
       "      <td>Unknown</td>\n",
       "      <td>VMC</td>\n",
       "      <td>131500</td>\n",
       "      <td>2023</td>\n",
       "    </tr>\n",
       "  </tbody>\n",
       "</table>\n",
       "</div>"
      ],
      "text/plain": [
       "                    City        Country  FatalInjuryCount  SeriousInjuryCount  \\\n",
       "EventDate                                                                       \n",
       "2024-01-01     Mansfield  United States                 0                   0   \n",
       "2023-12-28   Lake Havasu  United States                 0                   0   \n",
       "2023-12-26    Ponca City  United States                 0                   0   \n",
       "2023-12-12        Sidney  United States                 0                   0   \n",
       "2023-12-11  Newport News  United States                 0                   0   \n",
       "\n",
       "            MinorInjuryCount AirCraftCategory NumberOfEngines AirCraftDamage  \\\n",
       "EventDate                                                                      \n",
       "2024-01-01                 0              AIR               1      Destroyed   \n",
       "2023-12-28                 1              AIR               1    Substantial   \n",
       "2023-12-26                 0              AIR               2    Substantial   \n",
       "2023-12-12                 0              AIR               1    Substantial   \n",
       "2023-12-11                 0              AIR               1        Unknown   \n",
       "\n",
       "           WeatherCondition  EventTime  Year  \n",
       "EventDate                                     \n",
       "2024-01-01              VMC     164000  2024  \n",
       "2023-12-28              VMC     115700  2023  \n",
       "2023-12-26              VMC     131500  2023  \n",
       "2023-12-12              VMC     174400  2023  \n",
       "2023-12-11              VMC     131500  2023  "
      ]
     },
     "execution_count": 399,
     "metadata": {},
     "output_type": "execute_result"
    }
   ],
   "source": [
    "df.head()"
   ]
  },
  {
   "cell_type": "code",
   "execution_count": 400,
   "metadata": {},
   "outputs": [],
   "source": [
    "# Let's create a new column to store the accident severity based on the amount and type of injury\n",
    "df['AccidentSeverity'] = pd.Series()"
   ]
  },
  {
   "cell_type": "code",
   "execution_count": 401,
   "metadata": {},
   "outputs": [],
   "source": [
    "df.loc[df.FatalInjuryCount > 0, 'AccidentSeverity'] = 'Fatal'\n",
    "df.loc[(df.SeriousInjuryCount > 0) & (df.FatalInjuryCount == 0), 'AccidentSeverity'] = 'Serious'\n",
    "df.loc[(df.MinorInjuryCount > 0) & (df.SeriousInjuryCount == 0) & (df.FatalInjuryCount == 0), 'AccidentSeverity'] = 'Minor'\n",
    "df.loc[(df.MinorInjuryCount == 0) & (df.SeriousInjuryCount == 0) & (df.FatalInjuryCount == 0), 'AccidentSeverity'] = 'No injuries'"
   ]
  },
  {
   "cell_type": "code",
   "execution_count": 402,
   "metadata": {},
   "outputs": [],
   "source": [
    "# Let's rename these columns for brevity\n",
    "df.rename(columns={'FatalInjuryCount': 'FatalInjuries', \n",
    "                   'SeriousInjuryCount': 'SeriousInjuries',\n",
    "                   'MinorInjuryCount': 'MinorInjuries'}, inplace=True)"
   ]
  },
  {
   "cell_type": "code",
   "execution_count": 403,
   "metadata": {},
   "outputs": [
    {
     "data": {
      "text/plain": [
       "AccidentSeverity\n",
       "No injuries    85000\n",
       "Fatal          22089\n",
       "Minor          18800\n",
       "Serious        11524\n",
       "Name: count, dtype: int64"
      ]
     },
     "execution_count": 403,
     "metadata": {},
     "output_type": "execute_result"
    }
   ],
   "source": [
    "df.AccidentSeverity.value_counts()"
   ]
  },
  {
   "cell_type": "code",
   "execution_count": 404,
   "metadata": {},
   "outputs": [
    {
     "data": {
      "text/plain": [
       "AirCraftCategory\n",
       "AIR            135649\n",
       "AIR,AIR          1762\n",
       "AIR,AIR,AIR         2\n",
       "Name: count, dtype: int64"
      ]
     },
     "execution_count": 404,
     "metadata": {},
     "output_type": "execute_result"
    }
   ],
   "source": [
    "# Let's transform the category of the aircraft into the number of airplanes involved in the accident, since they all have the type \"Airplane\"\n",
    "df.AirCraftCategory.value_counts()"
   ]
  },
  {
   "cell_type": "code",
   "execution_count": 405,
   "metadata": {},
   "outputs": [],
   "source": [
    "df['NumberOfAircraftInvolved'] = df.AirCraftCategory.str.count('AIR')"
   ]
  },
  {
   "cell_type": "code",
   "execution_count": 406,
   "metadata": {},
   "outputs": [
    {
     "data": {
      "text/plain": [
       "NumberOfAircraftInvolved\n",
       "1    135649\n",
       "2      1762\n",
       "3         2\n",
       "Name: count, dtype: int64"
      ]
     },
     "execution_count": 406,
     "metadata": {},
     "output_type": "execute_result"
    }
   ],
   "source": [
    "df.NumberOfAircraftInvolved.value_counts()"
   ]
  },
  {
   "cell_type": "code",
   "execution_count": 407,
   "metadata": {},
   "outputs": [
    {
     "data": {
      "text/html": [
       "<div>\n",
       "<style scoped>\n",
       "    .dataframe tbody tr th:only-of-type {\n",
       "        vertical-align: middle;\n",
       "    }\n",
       "\n",
       "    .dataframe tbody tr th {\n",
       "        vertical-align: top;\n",
       "    }\n",
       "\n",
       "    .dataframe thead th {\n",
       "        text-align: right;\n",
       "    }\n",
       "</style>\n",
       "<table border=\"1\" class=\"dataframe\">\n",
       "  <thead>\n",
       "    <tr style=\"text-align: right;\">\n",
       "      <th></th>\n",
       "      <th>City</th>\n",
       "      <th>Country</th>\n",
       "      <th>FatalInjuries</th>\n",
       "      <th>SeriousInjuries</th>\n",
       "      <th>MinorInjuries</th>\n",
       "      <th>AirCraftCategory</th>\n",
       "      <th>NumberOfEngines</th>\n",
       "      <th>AirCraftDamage</th>\n",
       "      <th>WeatherCondition</th>\n",
       "      <th>EventTime</th>\n",
       "      <th>Year</th>\n",
       "      <th>AccidentSeverity</th>\n",
       "      <th>NumberOfAircraftInvolved</th>\n",
       "    </tr>\n",
       "    <tr>\n",
       "      <th>EventDate</th>\n",
       "      <th></th>\n",
       "      <th></th>\n",
       "      <th></th>\n",
       "      <th></th>\n",
       "      <th></th>\n",
       "      <th></th>\n",
       "      <th></th>\n",
       "      <th></th>\n",
       "      <th></th>\n",
       "      <th></th>\n",
       "      <th></th>\n",
       "      <th></th>\n",
       "      <th></th>\n",
       "    </tr>\n",
       "  </thead>\n",
       "  <tbody>\n",
       "    <tr>\n",
       "      <th>2024-01-01</th>\n",
       "      <td>Mansfield</td>\n",
       "      <td>United States</td>\n",
       "      <td>0</td>\n",
       "      <td>0</td>\n",
       "      <td>0</td>\n",
       "      <td>AIR</td>\n",
       "      <td>1</td>\n",
       "      <td>Destroyed</td>\n",
       "      <td>VMC</td>\n",
       "      <td>164000</td>\n",
       "      <td>2024</td>\n",
       "      <td>No injuries</td>\n",
       "      <td>1</td>\n",
       "    </tr>\n",
       "    <tr>\n",
       "      <th>2023-12-28</th>\n",
       "      <td>Lake Havasu</td>\n",
       "      <td>United States</td>\n",
       "      <td>0</td>\n",
       "      <td>0</td>\n",
       "      <td>1</td>\n",
       "      <td>AIR</td>\n",
       "      <td>1</td>\n",
       "      <td>Substantial</td>\n",
       "      <td>VMC</td>\n",
       "      <td>115700</td>\n",
       "      <td>2023</td>\n",
       "      <td>Minor</td>\n",
       "      <td>1</td>\n",
       "    </tr>\n",
       "    <tr>\n",
       "      <th>2023-12-26</th>\n",
       "      <td>Ponca City</td>\n",
       "      <td>United States</td>\n",
       "      <td>0</td>\n",
       "      <td>0</td>\n",
       "      <td>0</td>\n",
       "      <td>AIR</td>\n",
       "      <td>2</td>\n",
       "      <td>Substantial</td>\n",
       "      <td>VMC</td>\n",
       "      <td>131500</td>\n",
       "      <td>2023</td>\n",
       "      <td>No injuries</td>\n",
       "      <td>1</td>\n",
       "    </tr>\n",
       "    <tr>\n",
       "      <th>2023-12-12</th>\n",
       "      <td>Sidney</td>\n",
       "      <td>United States</td>\n",
       "      <td>0</td>\n",
       "      <td>0</td>\n",
       "      <td>0</td>\n",
       "      <td>AIR</td>\n",
       "      <td>1</td>\n",
       "      <td>Substantial</td>\n",
       "      <td>VMC</td>\n",
       "      <td>174400</td>\n",
       "      <td>2023</td>\n",
       "      <td>No injuries</td>\n",
       "      <td>1</td>\n",
       "    </tr>\n",
       "    <tr>\n",
       "      <th>2023-12-11</th>\n",
       "      <td>Newport News</td>\n",
       "      <td>United States</td>\n",
       "      <td>0</td>\n",
       "      <td>0</td>\n",
       "      <td>0</td>\n",
       "      <td>AIR</td>\n",
       "      <td>1</td>\n",
       "      <td>Unknown</td>\n",
       "      <td>VMC</td>\n",
       "      <td>131500</td>\n",
       "      <td>2023</td>\n",
       "      <td>No injuries</td>\n",
       "      <td>1</td>\n",
       "    </tr>\n",
       "  </tbody>\n",
       "</table>\n",
       "</div>"
      ],
      "text/plain": [
       "                    City        Country  FatalInjuries  SeriousInjuries  \\\n",
       "EventDate                                                                 \n",
       "2024-01-01     Mansfield  United States              0                0   \n",
       "2023-12-28   Lake Havasu  United States              0                0   \n",
       "2023-12-26    Ponca City  United States              0                0   \n",
       "2023-12-12        Sidney  United States              0                0   \n",
       "2023-12-11  Newport News  United States              0                0   \n",
       "\n",
       "            MinorInjuries AirCraftCategory NumberOfEngines AirCraftDamage  \\\n",
       "EventDate                                                                   \n",
       "2024-01-01              0              AIR               1      Destroyed   \n",
       "2023-12-28              1              AIR               1    Substantial   \n",
       "2023-12-26              0              AIR               2    Substantial   \n",
       "2023-12-12              0              AIR               1    Substantial   \n",
       "2023-12-11              0              AIR               1        Unknown   \n",
       "\n",
       "           WeatherCondition  EventTime  Year AccidentSeverity  \\\n",
       "EventDate                                                       \n",
       "2024-01-01              VMC     164000  2024      No injuries   \n",
       "2023-12-28              VMC     115700  2023            Minor   \n",
       "2023-12-26              VMC     131500  2023      No injuries   \n",
       "2023-12-12              VMC     174400  2023      No injuries   \n",
       "2023-12-11              VMC     131500  2023      No injuries   \n",
       "\n",
       "            NumberOfAircraftInvolved  \n",
       "EventDate                             \n",
       "2024-01-01                         1  \n",
       "2023-12-28                         1  \n",
       "2023-12-26                         1  \n",
       "2023-12-12                         1  \n",
       "2023-12-11                         1  "
      ]
     },
     "execution_count": 407,
     "metadata": {},
     "output_type": "execute_result"
    }
   ],
   "source": [
    "df.head()"
   ]
  },
  {
   "cell_type": "code",
   "execution_count": 408,
   "metadata": {},
   "outputs": [
    {
     "data": {
      "text/html": [
       "<div>\n",
       "<style scoped>\n",
       "    .dataframe tbody tr th:only-of-type {\n",
       "        vertical-align: middle;\n",
       "    }\n",
       "\n",
       "    .dataframe tbody tr th {\n",
       "        vertical-align: top;\n",
       "    }\n",
       "\n",
       "    .dataframe thead th {\n",
       "        text-align: right;\n",
       "    }\n",
       "</style>\n",
       "<table border=\"1\" class=\"dataframe\">\n",
       "  <thead>\n",
       "    <tr style=\"text-align: right;\">\n",
       "      <th></th>\n",
       "      <th>City</th>\n",
       "      <th>Country</th>\n",
       "      <th>FatalInjuries</th>\n",
       "      <th>SeriousInjuries</th>\n",
       "      <th>MinorInjuries</th>\n",
       "      <th>NumberOfEngines</th>\n",
       "      <th>AirCraftDamage</th>\n",
       "      <th>WeatherCondition</th>\n",
       "      <th>EventTime</th>\n",
       "      <th>Year</th>\n",
       "      <th>AccidentSeverity</th>\n",
       "      <th>NumberOfAircraftInvolved</th>\n",
       "    </tr>\n",
       "    <tr>\n",
       "      <th>EventDate</th>\n",
       "      <th></th>\n",
       "      <th></th>\n",
       "      <th></th>\n",
       "      <th></th>\n",
       "      <th></th>\n",
       "      <th></th>\n",
       "      <th></th>\n",
       "      <th></th>\n",
       "      <th></th>\n",
       "      <th></th>\n",
       "      <th></th>\n",
       "      <th></th>\n",
       "    </tr>\n",
       "  </thead>\n",
       "  <tbody>\n",
       "    <tr>\n",
       "      <th>2024-01-01</th>\n",
       "      <td>Mansfield</td>\n",
       "      <td>United States</td>\n",
       "      <td>0</td>\n",
       "      <td>0</td>\n",
       "      <td>0</td>\n",
       "      <td>1</td>\n",
       "      <td>Destroyed</td>\n",
       "      <td>VMC</td>\n",
       "      <td>164000</td>\n",
       "      <td>2024</td>\n",
       "      <td>No injuries</td>\n",
       "      <td>1</td>\n",
       "    </tr>\n",
       "    <tr>\n",
       "      <th>2023-12-28</th>\n",
       "      <td>Lake Havasu</td>\n",
       "      <td>United States</td>\n",
       "      <td>0</td>\n",
       "      <td>0</td>\n",
       "      <td>1</td>\n",
       "      <td>1</td>\n",
       "      <td>Substantial</td>\n",
       "      <td>VMC</td>\n",
       "      <td>115700</td>\n",
       "      <td>2023</td>\n",
       "      <td>Minor</td>\n",
       "      <td>1</td>\n",
       "    </tr>\n",
       "    <tr>\n",
       "      <th>2023-12-26</th>\n",
       "      <td>Ponca City</td>\n",
       "      <td>United States</td>\n",
       "      <td>0</td>\n",
       "      <td>0</td>\n",
       "      <td>0</td>\n",
       "      <td>2</td>\n",
       "      <td>Substantial</td>\n",
       "      <td>VMC</td>\n",
       "      <td>131500</td>\n",
       "      <td>2023</td>\n",
       "      <td>No injuries</td>\n",
       "      <td>1</td>\n",
       "    </tr>\n",
       "    <tr>\n",
       "      <th>2023-12-12</th>\n",
       "      <td>Sidney</td>\n",
       "      <td>United States</td>\n",
       "      <td>0</td>\n",
       "      <td>0</td>\n",
       "      <td>0</td>\n",
       "      <td>1</td>\n",
       "      <td>Substantial</td>\n",
       "      <td>VMC</td>\n",
       "      <td>174400</td>\n",
       "      <td>2023</td>\n",
       "      <td>No injuries</td>\n",
       "      <td>1</td>\n",
       "    </tr>\n",
       "    <tr>\n",
       "      <th>2023-12-11</th>\n",
       "      <td>Newport News</td>\n",
       "      <td>United States</td>\n",
       "      <td>0</td>\n",
       "      <td>0</td>\n",
       "      <td>0</td>\n",
       "      <td>1</td>\n",
       "      <td>Unknown</td>\n",
       "      <td>VMC</td>\n",
       "      <td>131500</td>\n",
       "      <td>2023</td>\n",
       "      <td>No injuries</td>\n",
       "      <td>1</td>\n",
       "    </tr>\n",
       "  </tbody>\n",
       "</table>\n",
       "</div>"
      ],
      "text/plain": [
       "                    City        Country  FatalInjuries  SeriousInjuries  \\\n",
       "EventDate                                                                 \n",
       "2024-01-01     Mansfield  United States              0                0   \n",
       "2023-12-28   Lake Havasu  United States              0                0   \n",
       "2023-12-26    Ponca City  United States              0                0   \n",
       "2023-12-12        Sidney  United States              0                0   \n",
       "2023-12-11  Newport News  United States              0                0   \n",
       "\n",
       "            MinorInjuries NumberOfEngines AirCraftDamage WeatherCondition  \\\n",
       "EventDate                                                                   \n",
       "2024-01-01              0               1      Destroyed              VMC   \n",
       "2023-12-28              1               1    Substantial              VMC   \n",
       "2023-12-26              0               2    Substantial              VMC   \n",
       "2023-12-12              0               1    Substantial              VMC   \n",
       "2023-12-11              0               1        Unknown              VMC   \n",
       "\n",
       "            EventTime  Year AccidentSeverity  NumberOfAircraftInvolved  \n",
       "EventDate                                                               \n",
       "2024-01-01     164000  2024      No injuries                         1  \n",
       "2023-12-28     115700  2023            Minor                         1  \n",
       "2023-12-26     131500  2023      No injuries                         1  \n",
       "2023-12-12     174400  2023      No injuries                         1  \n",
       "2023-12-11     131500  2023      No injuries                         1  "
      ]
     },
     "execution_count": 408,
     "metadata": {},
     "output_type": "execute_result"
    }
   ],
   "source": [
    "# Now we can remove the category of aircraft\n",
    "df.drop(columns=['AirCraftCategory'], inplace=True)\n",
    "df.head()"
   ]
  },
  {
   "cell_type": "code",
   "execution_count": 409,
   "metadata": {},
   "outputs": [
    {
     "data": {
      "text/plain": [
       "WeatherCondition\n",
       "VFR        69498\n",
       "VMC        56040\n",
       "IFR         5523\n",
       "IMC         4924\n",
       "UNK          864\n",
       "Unknown      564\n",
       "Name: count, dtype: int64"
      ]
     },
     "execution_count": 409,
     "metadata": {},
     "output_type": "execute_result"
    }
   ],
   "source": [
    "df.WeatherCondition.value_counts()"
   ]
  },
  {
   "cell_type": "code",
   "execution_count": 410,
   "metadata": {},
   "outputs": [],
   "source": [
    "# Let's consolidate the unknown values\n",
    "df.loc[df.WeatherCondition == 'Unknown', 'WeatherCondition'] = 'UNK'"
   ]
  },
  {
   "cell_type": "code",
   "execution_count": 411,
   "metadata": {},
   "outputs": [
    {
     "data": {
      "text/plain": [
       "WeatherCondition\n",
       "VFR    69498\n",
       "VMC    56040\n",
       "IFR     5523\n",
       "IMC     4924\n",
       "UNK     1428\n",
       "Name: count, dtype: int64"
      ]
     },
     "execution_count": 411,
     "metadata": {},
     "output_type": "execute_result"
    }
   ],
   "source": [
    "df.WeatherCondition.value_counts()"
   ]
  },
  {
   "cell_type": "code",
   "execution_count": 412,
   "metadata": {},
   "outputs": [
    {
     "data": {
      "text/html": [
       "<div>\n",
       "<style scoped>\n",
       "    .dataframe tbody tr th:only-of-type {\n",
       "        vertical-align: middle;\n",
       "    }\n",
       "\n",
       "    .dataframe tbody tr th {\n",
       "        vertical-align: top;\n",
       "    }\n",
       "\n",
       "    .dataframe thead th {\n",
       "        text-align: right;\n",
       "    }\n",
       "</style>\n",
       "<table border=\"1\" class=\"dataframe\">\n",
       "  <thead>\n",
       "    <tr style=\"text-align: right;\">\n",
       "      <th></th>\n",
       "      <th>City</th>\n",
       "      <th>Country</th>\n",
       "      <th>FatalInjuries</th>\n",
       "      <th>SeriousInjuries</th>\n",
       "      <th>MinorInjuries</th>\n",
       "      <th>NumberOfEngines</th>\n",
       "      <th>AirCraftDamage</th>\n",
       "      <th>WeatherCondition</th>\n",
       "      <th>EventTime</th>\n",
       "      <th>Year</th>\n",
       "      <th>AccidentSeverity</th>\n",
       "      <th>NumberOfAircraftInvolved</th>\n",
       "    </tr>\n",
       "    <tr>\n",
       "      <th>EventDate</th>\n",
       "      <th></th>\n",
       "      <th></th>\n",
       "      <th></th>\n",
       "      <th></th>\n",
       "      <th></th>\n",
       "      <th></th>\n",
       "      <th></th>\n",
       "      <th></th>\n",
       "      <th></th>\n",
       "      <th></th>\n",
       "      <th></th>\n",
       "      <th></th>\n",
       "    </tr>\n",
       "  </thead>\n",
       "  <tbody>\n",
       "    <tr>\n",
       "      <th>2024-01-01</th>\n",
       "      <td>Mansfield</td>\n",
       "      <td>United States</td>\n",
       "      <td>0</td>\n",
       "      <td>0</td>\n",
       "      <td>0</td>\n",
       "      <td>1</td>\n",
       "      <td>Destroyed</td>\n",
       "      <td>VMC</td>\n",
       "      <td>164000</td>\n",
       "      <td>2024</td>\n",
       "      <td>No injuries</td>\n",
       "      <td>1</td>\n",
       "    </tr>\n",
       "    <tr>\n",
       "      <th>2023-12-28</th>\n",
       "      <td>Lake Havasu</td>\n",
       "      <td>United States</td>\n",
       "      <td>0</td>\n",
       "      <td>0</td>\n",
       "      <td>1</td>\n",
       "      <td>1</td>\n",
       "      <td>Substantial</td>\n",
       "      <td>VMC</td>\n",
       "      <td>115700</td>\n",
       "      <td>2023</td>\n",
       "      <td>Minor</td>\n",
       "      <td>1</td>\n",
       "    </tr>\n",
       "    <tr>\n",
       "      <th>2023-12-26</th>\n",
       "      <td>Ponca City</td>\n",
       "      <td>United States</td>\n",
       "      <td>0</td>\n",
       "      <td>0</td>\n",
       "      <td>0</td>\n",
       "      <td>2</td>\n",
       "      <td>Substantial</td>\n",
       "      <td>VMC</td>\n",
       "      <td>131500</td>\n",
       "      <td>2023</td>\n",
       "      <td>No injuries</td>\n",
       "      <td>1</td>\n",
       "    </tr>\n",
       "    <tr>\n",
       "      <th>2023-12-12</th>\n",
       "      <td>Sidney</td>\n",
       "      <td>United States</td>\n",
       "      <td>0</td>\n",
       "      <td>0</td>\n",
       "      <td>0</td>\n",
       "      <td>1</td>\n",
       "      <td>Substantial</td>\n",
       "      <td>VMC</td>\n",
       "      <td>174400</td>\n",
       "      <td>2023</td>\n",
       "      <td>No injuries</td>\n",
       "      <td>1</td>\n",
       "    </tr>\n",
       "    <tr>\n",
       "      <th>2023-12-11</th>\n",
       "      <td>Newport News</td>\n",
       "      <td>United States</td>\n",
       "      <td>0</td>\n",
       "      <td>0</td>\n",
       "      <td>0</td>\n",
       "      <td>1</td>\n",
       "      <td>Unknown</td>\n",
       "      <td>VMC</td>\n",
       "      <td>131500</td>\n",
       "      <td>2023</td>\n",
       "      <td>No injuries</td>\n",
       "      <td>1</td>\n",
       "    </tr>\n",
       "  </tbody>\n",
       "</table>\n",
       "</div>"
      ],
      "text/plain": [
       "                    City        Country  FatalInjuries  SeriousInjuries  \\\n",
       "EventDate                                                                 \n",
       "2024-01-01     Mansfield  United States              0                0   \n",
       "2023-12-28   Lake Havasu  United States              0                0   \n",
       "2023-12-26    Ponca City  United States              0                0   \n",
       "2023-12-12        Sidney  United States              0                0   \n",
       "2023-12-11  Newport News  United States              0                0   \n",
       "\n",
       "            MinorInjuries NumberOfEngines AirCraftDamage WeatherCondition  \\\n",
       "EventDate                                                                   \n",
       "2024-01-01              0               1      Destroyed              VMC   \n",
       "2023-12-28              1               1    Substantial              VMC   \n",
       "2023-12-26              0               2    Substantial              VMC   \n",
       "2023-12-12              0               1    Substantial              VMC   \n",
       "2023-12-11              0               1        Unknown              VMC   \n",
       "\n",
       "            EventTime  Year AccidentSeverity  NumberOfAircraftInvolved  \n",
       "EventDate                                                               \n",
       "2024-01-01     164000  2024      No injuries                         1  \n",
       "2023-12-28     115700  2023            Minor                         1  \n",
       "2023-12-26     131500  2023      No injuries                         1  \n",
       "2023-12-12     174400  2023      No injuries                         1  \n",
       "2023-12-11     131500  2023      No injuries                         1  "
      ]
     },
     "execution_count": 412,
     "metadata": {},
     "output_type": "execute_result"
    }
   ],
   "source": [
    "df.head()"
   ]
  },
  {
   "cell_type": "code",
   "execution_count": 413,
   "metadata": {},
   "outputs": [
    {
     "data": {
      "text/plain": [
       "Country\n",
       "United States                     135946\n",
       "Mexico                               313\n",
       "Bahamas                              263\n",
       "Canada                               170\n",
       "Brazil                                44\n",
       "                                   ...  \n",
       "French Guiana                          1\n",
       "St Vincent And The Grenadines          1\n",
       "Republic Of Korea                      1\n",
       "Federated States Of Micronesia         1\n",
       "Wake Island                            1\n",
       "Name: count, Length: 118, dtype: int64"
      ]
     },
     "execution_count": 413,
     "metadata": {},
     "output_type": "execute_result"
    }
   ],
   "source": [
    "df.Country.value_counts()"
   ]
  },
  {
   "cell_type": "code",
   "execution_count": 414,
   "metadata": {},
   "outputs": [
    {
     "data": {
      "text/plain": [
       "AirCraftDamage\n",
       "Substantial                          105543\n",
       "Destroyed                             29682\n",
       "Substantial,Substantial                 618\n",
       "Minor                                   398\n",
       "Destroyed,Destroyed                     331\n",
       "Minor,Substantial                       229\n",
       "Substantial,Minor                       222\n",
       "Destroyed,Substantial                   132\n",
       "Substantial,Destroyed                   121\n",
       "Destroyed,Minor                          35\n",
       "Minor,Destroyed                          30\n",
       "Unknown                                  26\n",
       "Substantial,None                         20\n",
       "None,Substantial                         14\n",
       "None,Minor                                2\n",
       "None,Destroyed                            2\n",
       "Minor,Minor                               2\n",
       "Substantial,Unknown                       1\n",
       "Destroyed,Substantial,Substantial         1\n",
       "Destroyed,None                            1\n",
       "Substantial,Substantial,Minor             1\n",
       ",Destroyed                                1\n",
       "Minor,None                                1\n",
       "Name: count, dtype: int64"
      ]
     },
     "execution_count": 414,
     "metadata": {},
     "output_type": "execute_result"
    }
   ],
   "source": [
    "df.AirCraftDamage.value_counts()"
   ]
  },
  {
   "cell_type": "code",
   "execution_count": 416,
   "metadata": {},
   "outputs": [
    {
     "data": {
      "text/plain": [
       "AirCraftDamage\n",
       "Substantial    106648\n",
       "Destroyed       30336\n",
       "Minor             403\n",
       "Unknown            26\n",
       "Name: count, dtype: int64"
      ]
     },
     "execution_count": 416,
     "metadata": {},
     "output_type": "execute_result"
    }
   ],
   "source": [
    "# To help our model, let's use the most severe damage to give this column only one description\n",
    "df.loc[df.AirCraftDamage.str.contains('Destroyed'), 'AirCraftDamage'] = 'Destroyed'\n",
    "df.loc[df.AirCraftDamage.str.contains('Substantial'), 'AirCraftDamage'] = 'Substantial'\n",
    "df.loc[df.AirCraftDamage.str.contains('Minor'), 'AirCraftDamage'] = 'Minor'\n",
    "df.loc[df.AirCraftDamage.str.contains('Unknown'), 'AirCraftDamage'] = 'Unknown'\n",
    "\n",
    "df.AirCraftDamage.value_counts()"
   ]
  },
  {
   "cell_type": "code",
   "execution_count": 417,
   "metadata": {},
   "outputs": [
    {
     "data": {
      "text/html": [
       "<div>\n",
       "<style scoped>\n",
       "    .dataframe tbody tr th:only-of-type {\n",
       "        vertical-align: middle;\n",
       "    }\n",
       "\n",
       "    .dataframe tbody tr th {\n",
       "        vertical-align: top;\n",
       "    }\n",
       "\n",
       "    .dataframe thead th {\n",
       "        text-align: right;\n",
       "    }\n",
       "</style>\n",
       "<table border=\"1\" class=\"dataframe\">\n",
       "  <thead>\n",
       "    <tr style=\"text-align: right;\">\n",
       "      <th></th>\n",
       "      <th>FatalInjuries</th>\n",
       "      <th>SeriousInjuries</th>\n",
       "      <th>MinorInjuries</th>\n",
       "      <th>EventTime</th>\n",
       "      <th>Year</th>\n",
       "      <th>NumberOfAircraftInvolved</th>\n",
       "    </tr>\n",
       "  </thead>\n",
       "  <tbody>\n",
       "    <tr>\n",
       "      <th>count</th>\n",
       "      <td>137413.000000</td>\n",
       "      <td>137413.000000</td>\n",
       "      <td>137413.000000</td>\n",
       "      <td>137413.000000</td>\n",
       "      <td>137413.000000</td>\n",
       "      <td>137413.000000</td>\n",
       "    </tr>\n",
       "    <tr>\n",
       "      <th>mean</th>\n",
       "      <td>0.380211</td>\n",
       "      <td>0.165559</td>\n",
       "      <td>0.277150</td>\n",
       "      <td>87978.830242</td>\n",
       "      <td>1983.454549</td>\n",
       "      <td>1.012852</td>\n",
       "    </tr>\n",
       "    <tr>\n",
       "      <th>std</th>\n",
       "      <td>3.003200</td>\n",
       "      <td>0.809989</td>\n",
       "      <td>1.237051</td>\n",
       "      <td>57440.550840</td>\n",
       "      <td>15.658764</td>\n",
       "      <td>0.112764</td>\n",
       "    </tr>\n",
       "    <tr>\n",
       "      <th>min</th>\n",
       "      <td>0.000000</td>\n",
       "      <td>0.000000</td>\n",
       "      <td>0.000000</td>\n",
       "      <td>0.000000</td>\n",
       "      <td>1948.000000</td>\n",
       "      <td>1.000000</td>\n",
       "    </tr>\n",
       "    <tr>\n",
       "      <th>25%</th>\n",
       "      <td>0.000000</td>\n",
       "      <td>0.000000</td>\n",
       "      <td>0.000000</td>\n",
       "      <td>40000.000000</td>\n",
       "      <td>1970.000000</td>\n",
       "      <td>1.000000</td>\n",
       "    </tr>\n",
       "    <tr>\n",
       "      <th>50%</th>\n",
       "      <td>0.000000</td>\n",
       "      <td>0.000000</td>\n",
       "      <td>0.000000</td>\n",
       "      <td>50000.000000</td>\n",
       "      <td>1979.000000</td>\n",
       "      <td>1.000000</td>\n",
       "    </tr>\n",
       "    <tr>\n",
       "      <th>75%</th>\n",
       "      <td>0.000000</td>\n",
       "      <td>0.000000</td>\n",
       "      <td>0.000000</td>\n",
       "      <td>140000.000000</td>\n",
       "      <td>1994.000000</td>\n",
       "      <td>1.000000</td>\n",
       "    </tr>\n",
       "    <tr>\n",
       "      <th>max</th>\n",
       "      <td>574.000000</td>\n",
       "      <td>86.000000</td>\n",
       "      <td>137.000000</td>\n",
       "      <td>235900.000000</td>\n",
       "      <td>2024.000000</td>\n",
       "      <td>3.000000</td>\n",
       "    </tr>\n",
       "  </tbody>\n",
       "</table>\n",
       "</div>"
      ],
      "text/plain": [
       "       FatalInjuries  SeriousInjuries  MinorInjuries      EventTime  \\\n",
       "count  137413.000000    137413.000000  137413.000000  137413.000000   \n",
       "mean        0.380211         0.165559       0.277150   87978.830242   \n",
       "std         3.003200         0.809989       1.237051   57440.550840   \n",
       "min         0.000000         0.000000       0.000000       0.000000   \n",
       "25%         0.000000         0.000000       0.000000   40000.000000   \n",
       "50%         0.000000         0.000000       0.000000   50000.000000   \n",
       "75%         0.000000         0.000000       0.000000  140000.000000   \n",
       "max       574.000000        86.000000     137.000000  235900.000000   \n",
       "\n",
       "                Year  NumberOfAircraftInvolved  \n",
       "count  137413.000000             137413.000000  \n",
       "mean     1983.454549                  1.012852  \n",
       "std        15.658764                  0.112764  \n",
       "min      1948.000000                  1.000000  \n",
       "25%      1970.000000                  1.000000  \n",
       "50%      1979.000000                  1.000000  \n",
       "75%      1994.000000                  1.000000  \n",
       "max      2024.000000                  3.000000  "
      ]
     },
     "execution_count": 417,
     "metadata": {},
     "output_type": "execute_result"
    }
   ],
   "source": [
    "df.describe()"
   ]
  },
  {
   "cell_type": "markdown",
   "metadata": {},
   "source": [
    "## Extracting insights with Multivariate Analysis\n",
    "\n",
    "Now that our data is cleaned and organized, let's analyse the data and answer some questions\n",
    "\n",
    "\n"
   ]
  },
  {
   "cell_type": "markdown",
   "metadata": {},
   "source": [
    "### What's the distribution of the variables?"
   ]
  },
  {
   "cell_type": "code",
   "execution_count": 419,
   "metadata": {},
   "outputs": [
    {
     "data": {
      "text/plain": [
       "<seaborn.axisgrid.FacetGrid at 0x22a1163ad10>"
      ]
     },
     "execution_count": 419,
     "metadata": {},
     "output_type": "execute_result"
    },
    {
     "data": {
      "image/png": "[encoded data removed]",
      "text/plain": [
       "<Figure size 900x1200 with 12 Axes>"
      ]
     },
     "metadata": {},
     "output_type": "display_data"
    }
   ],
   "source": [
    "hist = pd.melt(df, value_vars = df)\n",
    "hist = sns.FacetGrid (hist, col = 'variable', col_wrap = 3, sharex = False, sharey = False)\n",
    "hist.map(sns.histplot, 'value')"
   ]
  },
  {
   "cell_type": "code",
   "execution_count": 420,
   "metadata": {},
   "outputs": [
    {
     "name": "stdout",
     "output_type": "stream",
     "text": [
      "<class 'pandas.core.frame.DataFrame'>\n",
      "DatetimeIndex: 137413 entries, 2024-01-01 to 1948-10-24\n",
      "Data columns (total 12 columns):\n",
      " #   Column                    Non-Null Count   Dtype \n",
      "---  ------                    --------------   ----- \n",
      " 0   City                      137413 non-null  object\n",
      " 1   Country                   137413 non-null  object\n",
      " 2   FatalInjuries             137413 non-null  int64 \n",
      " 3   SeriousInjuries           137413 non-null  int64 \n",
      " 4   MinorInjuries             137413 non-null  int64 \n",
      " 5   NumberOfEngines           137413 non-null  object\n",
      " 6   AirCraftDamage            137413 non-null  object\n",
      " 7   WeatherCondition          137413 non-null  object\n",
      " 8   EventTime                 137413 non-null  int32 \n",
      " 9   Year                      137413 non-null  int32 \n",
      " 10  AccidentSeverity          137413 non-null  object\n",
      " 11  NumberOfAircraftInvolved  137413 non-null  int64 \n",
      "dtypes: int32(2), int64(4), object(6)\n",
      "memory usage: 12.6+ MB\n"
     ]
    }
   ],
   "source": [
    "df.info()"
   ]
  },
  {
   "cell_type": "code",
   "execution_count": 421,
   "metadata": {},
   "outputs": [],
   "source": [
    "# Let's see the outlier distribution\n",
    "df_box = df.drop(columns=[\n",
    "    'City',\n",
    "    'Country',\n",
    "    'NumberOfEngines',\n",
    "    'AirCraftDamage',\n",
    "    'WeatherCondition',\n",
    "    'AccidentSeverity'\n",
    "])"
   ]
  },
  {
   "cell_type": "code",
   "execution_count": 423,
   "metadata": {},
   "outputs": [
    {
     "data": {
      "text/plain": [
       "Index(['FatalInjuries', 'SeriousInjuries', 'MinorInjuries', 'EventTime',\n",
       "       'Year', 'NumberOfAircraftInvolved'],\n",
       "      dtype='object')"
      ]
     },
     "execution_count": 423,
     "metadata": {},
     "output_type": "execute_result"
    }
   ],
   "source": [
    "df_box.columns"
   ]
  },
  {
   "cell_type": "code",
   "execution_count": 425,
   "metadata": {},
   "outputs": [
    {
     "data": {
      "image/png": "[encoded data removed]",
      "text/plain": [
       "<Figure size 1200x1400 with 9 Axes>"
      ]
     },
     "metadata": {},
     "output_type": "display_data"
    }
   ],
   "source": [
    "df_box.plot(subplots = True, layout = (3,3), kind = 'box', figsize = (12,14), patch_artist = True)\n",
    "plt.subplots_adjust(wspace=0.5)"
   ]
  },
  {
   "cell_type": "markdown",
   "metadata": {},
   "source": [
    "We can see that our numerical data are mostly not normal in distribution. Moreover, we know these outliers are not errors. The fact is that most airplane accidents involve small aircraft with one or two engines, but accidents involving big commercial airplanes do happen and skew the data upwards when it comes to injuries and fatalities."
   ]
  },
  {
   "cell_type": "code",
   "execution_count": 452,
   "metadata": {},
   "outputs": [
    {
     "data": {
      "text/plain": [
       "<Figure size 640x480 with 0 Axes>"
      ]
     },
     "metadata": {},
     "output_type": "display_data"
    },
    {
     "data": {
      "image/png": "[encoded data removed]",
      "text/plain": [
       "<Figure size 500x500 with 1 Axes>"
      ]
     },
     "metadata": {},
     "output_type": "display_data"
    }
   ],
   "source": [
    "plt.figure()\n",
    "sns.displot(df.FatalInjuries, log_scale=True)\n",
    "plt.show()"
   ]
  },
  {
   "cell_type": "code",
   "execution_count": 453,
   "metadata": {},
   "outputs": [
    {
     "data": {
      "text/plain": [
       "<Figure size 640x480 with 0 Axes>"
      ]
     },
     "metadata": {},
     "output_type": "display_data"
    },
    {
     "data": {
      "image/png": "[encoded data removed]",
      "text/plain": [
       "<Figure size 500x500 with 1 Axes>"
      ]
     },
     "metadata": {},
     "output_type": "display_data"
    }
   ],
   "source": [
    "plt.figure()\n",
    "sns.displot(df.SeriousInjuries, log_scale=True)\n",
    "plt.show()"
   ]
  },
  {
   "cell_type": "code",
   "execution_count": null,
   "metadata": {},
   "outputs": [],
   "source": []
  }
 ],
 "metadata": {
  "kernelspec": {
   "display_name": "Python 3 (ipykernel)",
   "language": "python",
   "name": "python3"
  },
  "language_info": {
   "codemirror_mode": {
    "name": "ipython",
    "version": 3
   },
   "file_extension": ".py",
   "mimetype": "text/x-python",
   "name": "python",
   "nbconvert_exporter": "python",
   "pygments_lexer": "ipython3",
   "version": "3.11.7"
  }
 },
 "nbformat": 4,
 "nbformat_minor": 2
}
