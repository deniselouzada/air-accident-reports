{
 "cells": [
  {
   "cell_type": "code",
   "execution_count": 617,
   "metadata": {},
   "outputs": [],
   "source": [
    "# Imports\n",
    "import sklearn\n",
    "import scipy\n",
    "import pandas as pd\n",
    "import numpy as np\n",
    "import matplotlib.pyplot as plt\n",
    "import seaborn as sns\n",
    "from scipy.stats import shapiro\n",
    "from scipy.stats import mannwhitneyu\n",
    "from sklearn.impute import KNNImputer\n",
    "from sklearn.preprocessing import StandardScaler\n",
    "from sklearn.ensemble import RandomForestClassifier\n",
    "from datetime import datetime\n",
    "import warnings\n",
    "warnings.filterwarnings('ignore')"
   ]
  },
  {
   "cell_type": "code",
   "execution_count": 618,
   "metadata": {},
   "outputs": [],
   "source": [
    "df = pd.read_csv('AviationData2.csv')"
   ]
  },
  {
   "cell_type": "code",
   "execution_count": 619,
   "metadata": {},
   "outputs": [
    {
     "data": {
      "text/html": [
       "<div>\n",
       "<style scoped>\n",
       "    .dataframe tbody tr th:only-of-type {\n",
       "        vertical-align: middle;\n",
       "    }\n",
       "\n",
       "    .dataframe tbody tr th {\n",
       "        vertical-align: top;\n",
       "    }\n",
       "\n",
       "    .dataframe thead th {\n",
       "        text-align: right;\n",
       "    }\n",
       "</style>\n",
       "<table border=\"1\" class=\"dataframe\">\n",
       "  <thead>\n",
       "    <tr style=\"text-align: right;\">\n",
       "      <th></th>\n",
       "      <th>NtsbNo</th>\n",
       "      <th>EventType</th>\n",
       "      <th>Mkey</th>\n",
       "      <th>EventDate</th>\n",
       "      <th>City</th>\n",
       "      <th>State</th>\n",
       "      <th>Country</th>\n",
       "      <th>ReportNo</th>\n",
       "      <th>N</th>\n",
       "      <th>HasSafetyRec</th>\n",
       "      <th>...</th>\n",
       "      <th>PurposeOfFlight</th>\n",
       "      <th>FAR</th>\n",
       "      <th>AirCraftDamage</th>\n",
       "      <th>WeatherCondition</th>\n",
       "      <th>Operator</th>\n",
       "      <th>ReportStatus</th>\n",
       "      <th>RepGenFlag</th>\n",
       "      <th>DocketUrl</th>\n",
       "      <th>DocketPublishDate</th>\n",
       "      <th>Unnamed: 37</th>\n",
       "    </tr>\n",
       "  </thead>\n",
       "  <tbody>\n",
       "    <tr>\n",
       "      <th>0</th>\n",
       "      <td>DCA24WA087</td>\n",
       "      <td>ACC</td>\n",
       "      <td>193738</td>\n",
       "      <td>2024-02-01T03:08:00Z</td>\n",
       "      <td>Tokoname</td>\n",
       "      <td>NaN</td>\n",
       "      <td>Japan</td>\n",
       "      <td>NaN</td>\n",
       "      <td>JA899A</td>\n",
       "      <td>False</td>\n",
       "      <td>...</td>\n",
       "      <td>NaN</td>\n",
       "      <td>NUSC</td>\n",
       "      <td>NaN</td>\n",
       "      <td>NaN</td>\n",
       "      <td>All Nippon Airways</td>\n",
       "      <td>NaN</td>\n",
       "      <td>False</td>\n",
       "      <td>NaN</td>\n",
       "      <td>NaN</td>\n",
       "      <td>NaN</td>\n",
       "    </tr>\n",
       "    <tr>\n",
       "      <th>1</th>\n",
       "      <td>GAA24WA073</td>\n",
       "      <td>ACC</td>\n",
       "      <td>193695</td>\n",
       "      <td>2024-01-20T12:30:00Z</td>\n",
       "      <td>Murcott</td>\n",
       "      <td>NaN</td>\n",
       "      <td>United Kingdom</td>\n",
       "      <td>NaN</td>\n",
       "      <td>GNEWT</td>\n",
       "      <td>False</td>\n",
       "      <td>...</td>\n",
       "      <td>NaN</td>\n",
       "      <td>NUSN</td>\n",
       "      <td>Unknown</td>\n",
       "      <td>NaN</td>\n",
       "      <td>NaN</td>\n",
       "      <td>NaN</td>\n",
       "      <td>False</td>\n",
       "      <td>NaN</td>\n",
       "      <td>NaN</td>\n",
       "      <td>NaN</td>\n",
       "    </tr>\n",
       "    <tr>\n",
       "      <th>2</th>\n",
       "      <td>GAA24WA067</td>\n",
       "      <td>ACC</td>\n",
       "      <td>193623</td>\n",
       "      <td>2024-01-07T23:07:00Z</td>\n",
       "      <td>Lizard Island</td>\n",
       "      <td>NaN</td>\n",
       "      <td>Australia</td>\n",
       "      <td>NaN</td>\n",
       "      <td>VH-NWJ</td>\n",
       "      <td>False</td>\n",
       "      <td>...</td>\n",
       "      <td>NaN</td>\n",
       "      <td>UNK</td>\n",
       "      <td>Substantial</td>\n",
       "      <td>NaN</td>\n",
       "      <td>NaN</td>\n",
       "      <td>NaN</td>\n",
       "      <td>False</td>\n",
       "      <td>NaN</td>\n",
       "      <td>NaN</td>\n",
       "      <td>NaN</td>\n",
       "    </tr>\n",
       "    <tr>\n",
       "      <th>3</th>\n",
       "      <td>DCA24WA071</td>\n",
       "      <td>ACC</td>\n",
       "      <td>193655</td>\n",
       "      <td>2024-01-06T03:28:00Z</td>\n",
       "      <td>Mar del Plata</td>\n",
       "      <td>NaN</td>\n",
       "      <td>Argentina</td>\n",
       "      <td>NaN</td>\n",
       "      <td>LV-KJE</td>\n",
       "      <td>False</td>\n",
       "      <td>...</td>\n",
       "      <td>NaN</td>\n",
       "      <td>NUSC</td>\n",
       "      <td>Substantial</td>\n",
       "      <td>NaN</td>\n",
       "      <td>NaN</td>\n",
       "      <td>NaN</td>\n",
       "      <td>False</td>\n",
       "      <td>NaN</td>\n",
       "      <td>NaN</td>\n",
       "      <td>NaN</td>\n",
       "    </tr>\n",
       "    <tr>\n",
       "      <th>4</th>\n",
       "      <td>CEN24LA075</td>\n",
       "      <td>ACC</td>\n",
       "      <td>193582</td>\n",
       "      <td>2024-01-01T16:40:00Z</td>\n",
       "      <td>Mansfield</td>\n",
       "      <td>Louisiana</td>\n",
       "      <td>United States</td>\n",
       "      <td>NaN</td>\n",
       "      <td>N9729L</td>\n",
       "      <td>False</td>\n",
       "      <td>...</td>\n",
       "      <td>PERS</td>\n",
       "      <td>091</td>\n",
       "      <td>Destroyed</td>\n",
       "      <td>VMC</td>\n",
       "      <td>NaN</td>\n",
       "      <td>Completed</td>\n",
       "      <td>False</td>\n",
       "      <td>https://data.ntsb.gov/Docket?ProjectID=193582</td>\n",
       "      <td>2/8/2024 6:00:00 PM</td>\n",
       "      <td>NaN</td>\n",
       "    </tr>\n",
       "    <tr>\n",
       "      <th>...</th>\n",
       "      <td>...</td>\n",
       "      <td>...</td>\n",
       "      <td>...</td>\n",
       "      <td>...</td>\n",
       "      <td>...</td>\n",
       "      <td>...</td>\n",
       "      <td>...</td>\n",
       "      <td>...</td>\n",
       "      <td>...</td>\n",
       "      <td>...</td>\n",
       "      <td>...</td>\n",
       "      <td>...</td>\n",
       "      <td>...</td>\n",
       "      <td>...</td>\n",
       "      <td>...</td>\n",
       "      <td>...</td>\n",
       "      <td>...</td>\n",
       "      <td>...</td>\n",
       "      <td>...</td>\n",
       "      <td>...</td>\n",
       "      <td>...</td>\n",
       "    </tr>\n",
       "    <tr>\n",
       "      <th>142461</th>\n",
       "      <td>NYC62A0005</td>\n",
       "      <td>ACC</td>\n",
       "      <td>115930</td>\n",
       "      <td>1962-01-16T05:00:00Z</td>\n",
       "      <td>LIMESTONE</td>\n",
       "      <td>Maine</td>\n",
       "      <td>United States</td>\n",
       "      <td>NaN</td>\n",
       "      <td>N9903F</td>\n",
       "      <td>False</td>\n",
       "      <td>...</td>\n",
       "      <td>NaN</td>\n",
       "      <td>091</td>\n",
       "      <td>Substantial</td>\n",
       "      <td>VFR</td>\n",
       "      <td>NaN</td>\n",
       "      <td>Completed</td>\n",
       "      <td>False</td>\n",
       "      <td>NaN</td>\n",
       "      <td>NaN</td>\n",
       "      <td>NaN</td>\n",
       "    </tr>\n",
       "    <tr>\n",
       "      <th>142462</th>\n",
       "      <td>MIA62A0003</td>\n",
       "      <td>ACC</td>\n",
       "      <td>123569</td>\n",
       "      <td>1962-01-14T05:00:00Z</td>\n",
       "      <td>BIRMINGHAM</td>\n",
       "      <td>Alabama</td>\n",
       "      <td>United States</td>\n",
       "      <td>NaN</td>\n",
       "      <td>N5540</td>\n",
       "      <td>False</td>\n",
       "      <td>...</td>\n",
       "      <td>NaN</td>\n",
       "      <td>NaN</td>\n",
       "      <td>Substantial</td>\n",
       "      <td>VFR</td>\n",
       "      <td>EASTERN AIR LINES INC</td>\n",
       "      <td>Completed</td>\n",
       "      <td>False</td>\n",
       "      <td>NaN</td>\n",
       "      <td>NaN</td>\n",
       "      <td>NaN</td>\n",
       "    </tr>\n",
       "    <tr>\n",
       "      <th>142463</th>\n",
       "      <td>LAX62A0002</td>\n",
       "      <td>ACC</td>\n",
       "      <td>150606</td>\n",
       "      <td>1962-01-13T05:00:00Z</td>\n",
       "      <td>FILLMORE</td>\n",
       "      <td>California</td>\n",
       "      <td>United States</td>\n",
       "      <td>NaN</td>\n",
       "      <td>N37538</td>\n",
       "      <td>False</td>\n",
       "      <td>...</td>\n",
       "      <td>NaN</td>\n",
       "      <td>NaN</td>\n",
       "      <td>NaN</td>\n",
       "      <td>VFR</td>\n",
       "      <td>UNITED AIR LINES INC</td>\n",
       "      <td>Completed</td>\n",
       "      <td>False</td>\n",
       "      <td>NaN</td>\n",
       "      <td>NaN</td>\n",
       "      <td>NaN</td>\n",
       "    </tr>\n",
       "    <tr>\n",
       "      <th>142464</th>\n",
       "      <td>MIA62A0001</td>\n",
       "      <td>ACC</td>\n",
       "      <td>139827</td>\n",
       "      <td>1962-01-01T05:00:00Z</td>\n",
       "      <td>CHARLOTTE</td>\n",
       "      <td>North Carolina</td>\n",
       "      <td>United States</td>\n",
       "      <td>NaN</td>\n",
       "      <td>N2703R</td>\n",
       "      <td>False</td>\n",
       "      <td>...</td>\n",
       "      <td>NaN</td>\n",
       "      <td>NaN</td>\n",
       "      <td>Substantial</td>\n",
       "      <td>VFR</td>\n",
       "      <td>PIEDMONT AVIATION INC</td>\n",
       "      <td>Completed</td>\n",
       "      <td>False</td>\n",
       "      <td>NaN</td>\n",
       "      <td>NaN</td>\n",
       "      <td>NaN</td>\n",
       "    </tr>\n",
       "    <tr>\n",
       "      <th>142465</th>\n",
       "      <td>SEA87LA080</td>\n",
       "      <td>ACC</td>\n",
       "      <td>40612</td>\n",
       "      <td>1948-10-24T16:55:00Z</td>\n",
       "      <td>MOOSE CREEK</td>\n",
       "      <td>Idaho</td>\n",
       "      <td>United States</td>\n",
       "      <td>NaN</td>\n",
       "      <td>NC6404</td>\n",
       "      <td>False</td>\n",
       "      <td>...</td>\n",
       "      <td>PERS</td>\n",
       "      <td>091</td>\n",
       "      <td>Destroyed</td>\n",
       "      <td>Unknown</td>\n",
       "      <td>NaN</td>\n",
       "      <td>Completed</td>\n",
       "      <td>False</td>\n",
       "      <td>NaN</td>\n",
       "      <td>NaN</td>\n",
       "      <td>NaN</td>\n",
       "    </tr>\n",
       "  </tbody>\n",
       "</table>\n",
       "<p>142466 rows × 38 columns</p>\n",
       "</div>"
      ],
      "text/plain": [
       "            NtsbNo EventType    Mkey             EventDate           City  \\\n",
       "0       DCA24WA087       ACC  193738  2024-02-01T03:08:00Z       Tokoname   \n",
       "1       GAA24WA073       ACC  193695  2024-01-20T12:30:00Z        Murcott   \n",
       "2       GAA24WA067       ACC  193623  2024-01-07T23:07:00Z  Lizard Island   \n",
       "3       DCA24WA071       ACC  193655  2024-01-06T03:28:00Z  Mar del Plata   \n",
       "4       CEN24LA075       ACC  193582  2024-01-01T16:40:00Z      Mansfield   \n",
       "...            ...       ...     ...                   ...            ...   \n",
       "142461  NYC62A0005       ACC  115930  1962-01-16T05:00:00Z      LIMESTONE   \n",
       "142462  MIA62A0003       ACC  123569  1962-01-14T05:00:00Z     BIRMINGHAM   \n",
       "142463  LAX62A0002       ACC  150606  1962-01-13T05:00:00Z       FILLMORE   \n",
       "142464  MIA62A0001       ACC  139827  1962-01-01T05:00:00Z      CHARLOTTE   \n",
       "142465  SEA87LA080       ACC   40612  1948-10-24T16:55:00Z    MOOSE CREEK   \n",
       "\n",
       "                 State         Country ReportNo       N  HasSafetyRec  ...  \\\n",
       "0                  NaN           Japan      NaN  JA899A         False  ...   \n",
       "1                  NaN  United Kingdom      NaN   GNEWT         False  ...   \n",
       "2                  NaN       Australia      NaN  VH-NWJ         False  ...   \n",
       "3                  NaN       Argentina      NaN  LV-KJE         False  ...   \n",
       "4            Louisiana   United States      NaN  N9729L         False  ...   \n",
       "...                ...             ...      ...     ...           ...  ...   \n",
       "142461           Maine   United States      NaN  N9903F         False  ...   \n",
       "142462         Alabama   United States      NaN   N5540         False  ...   \n",
       "142463      California   United States      NaN  N37538         False  ...   \n",
       "142464  North Carolina   United States      NaN  N2703R         False  ...   \n",
       "142465           Idaho   United States      NaN  NC6404         False  ...   \n",
       "\n",
       "       PurposeOfFlight   FAR AirCraftDamage  WeatherCondition  \\\n",
       "0                  NaN  NUSC            NaN               NaN   \n",
       "1                  NaN  NUSN        Unknown               NaN   \n",
       "2                  NaN   UNK    Substantial               NaN   \n",
       "3                  NaN  NUSC    Substantial               NaN   \n",
       "4                 PERS   091      Destroyed               VMC   \n",
       "...                ...   ...            ...               ...   \n",
       "142461             NaN   091    Substantial               VFR   \n",
       "142462             NaN   NaN    Substantial               VFR   \n",
       "142463             NaN   NaN            NaN               VFR   \n",
       "142464             NaN   NaN    Substantial               VFR   \n",
       "142465            PERS   091      Destroyed           Unknown   \n",
       "\n",
       "                     Operator  ReportStatus RepGenFlag  \\\n",
       "0          All Nippon Airways           NaN      False   \n",
       "1                         NaN           NaN      False   \n",
       "2                         NaN           NaN      False   \n",
       "3                         NaN           NaN      False   \n",
       "4                         NaN     Completed      False   \n",
       "...                       ...           ...        ...   \n",
       "142461                    NaN     Completed      False   \n",
       "142462  EASTERN AIR LINES INC     Completed      False   \n",
       "142463   UNITED AIR LINES INC     Completed      False   \n",
       "142464  PIEDMONT AVIATION INC     Completed      False   \n",
       "142465                    NaN     Completed      False   \n",
       "\n",
       "                                            DocketUrl    DocketPublishDate  \\\n",
       "0                                                 NaN                  NaN   \n",
       "1                                                 NaN                  NaN   \n",
       "2                                                 NaN                  NaN   \n",
       "3                                                 NaN                  NaN   \n",
       "4       https://data.ntsb.gov/Docket?ProjectID=193582  2/8/2024 6:00:00 PM   \n",
       "...                                               ...                  ...   \n",
       "142461                                            NaN                  NaN   \n",
       "142462                                            NaN                  NaN   \n",
       "142463                                            NaN                  NaN   \n",
       "142464                                            NaN                  NaN   \n",
       "142465                                            NaN                  NaN   \n",
       "\n",
       "        Unnamed: 37  \n",
       "0               NaN  \n",
       "1               NaN  \n",
       "2               NaN  \n",
       "3               NaN  \n",
       "4               NaN  \n",
       "...             ...  \n",
       "142461          NaN  \n",
       "142462          NaN  \n",
       "142463          NaN  \n",
       "142464          NaN  \n",
       "142465          NaN  \n",
       "\n",
       "[142466 rows x 38 columns]"
      ]
     },
     "execution_count": 619,
     "metadata": {},
     "output_type": "execute_result"
    }
   ],
   "source": [
    "df"
   ]
  },
  {
   "cell_type": "code",
   "execution_count": 620,
   "metadata": {},
   "outputs": [
    {
     "data": {
      "text/plain": [
       "(142466, 38)"
      ]
     },
     "execution_count": 620,
     "metadata": {},
     "output_type": "execute_result"
    }
   ],
   "source": [
    "df.shape"
   ]
  },
  {
   "cell_type": "markdown",
   "metadata": {},
   "source": [
    "## Data cleaning and preprocessing"
   ]
  },
  {
   "cell_type": "code",
   "execution_count": 621,
   "metadata": {},
   "outputs": [
    {
     "data": {
      "text/plain": [
       "Unnamed: 37            142466\n",
       "ReportNo               142155\n",
       "Scheduled              134676\n",
       "DocketUrl              126575\n",
       "DocketPublishDate      126575\n",
       "Operator               105813\n",
       "AirportID              102797\n",
       "ProbableCause           97167\n",
       "HighestInjuryLevel      86531\n",
       "EventID                 65955\n",
       "AirportName             46406\n",
       "OriginalPublishDate     13508\n",
       "PurposeOfFlight          8290\n",
       "State                    5358\n",
       "FAR                      4374\n",
       "ReportType               3488\n",
       "ReportStatus             3416\n",
       "NumberOfEngines          2621\n",
       "WeatherCondition         2128\n",
       "AirCraftDamage           1485\n",
       "Country                   310\n",
       "Model                      36\n",
       "City                       31\n",
       "N                          28\n",
       "Make                        5\n",
       "RepGenFlag                  0\n",
       "NtsbNo                      0\n",
       "AmateurBuilt                0\n",
       "AirCraftCategory            0\n",
       "EventType                   0\n",
       "Latitude                    0\n",
       "MinorInjuryCount            0\n",
       "SeriousInjuryCount          0\n",
       "FatalInjuryCount            0\n",
       "HasSafetyRec                0\n",
       "EventDate                   0\n",
       "Mkey                        0\n",
       "Longitude                   0\n",
       "dtype: int64"
      ]
     },
     "execution_count": 621,
     "metadata": {},
     "output_type": "execute_result"
    }
   ],
   "source": [
    "df.isna().sum().sort_values(ascending=False)"
   ]
  },
  {
   "cell_type": "code",
   "execution_count": 622,
   "metadata": {},
   "outputs": [],
   "source": [
    "df.drop_duplicates(inplace=True)"
   ]
  },
  {
   "cell_type": "code",
   "execution_count": 623,
   "metadata": {},
   "outputs": [
    {
     "data": {
      "text/plain": [
       "(142466, 38)"
      ]
     },
     "execution_count": 623,
     "metadata": {},
     "output_type": "execute_result"
    }
   ],
   "source": [
    "df.shape"
   ]
  },
  {
   "cell_type": "code",
   "execution_count": 624,
   "metadata": {},
   "outputs": [
    {
     "data": {
      "text/plain": [
       "Index(['NtsbNo', 'EventType', 'Mkey', 'EventDate', 'City', 'State', 'Country',\n",
       "       'ReportNo', 'N', 'HasSafetyRec', 'ReportType', 'OriginalPublishDate',\n",
       "       'HighestInjuryLevel', 'FatalInjuryCount', 'SeriousInjuryCount',\n",
       "       'MinorInjuryCount', 'ProbableCause', 'EventID', 'Latitude', 'Longitude',\n",
       "       'Make', 'Model', 'AirCraftCategory', 'AirportID', 'AirportName',\n",
       "       'AmateurBuilt', 'NumberOfEngines', 'Scheduled', 'PurposeOfFlight',\n",
       "       'FAR', 'AirCraftDamage', 'WeatherCondition', 'Operator', 'ReportStatus',\n",
       "       'RepGenFlag', 'DocketUrl', 'DocketPublishDate', 'Unnamed: 37'],\n",
       "      dtype='object')"
      ]
     },
     "execution_count": 624,
     "metadata": {},
     "output_type": "execute_result"
    }
   ],
   "source": [
    "# Let's remove columns we are not interested in\n",
    "df.columns"
   ]
  },
  {
   "cell_type": "code",
   "execution_count": 625,
   "metadata": {},
   "outputs": [],
   "source": [
    "df.drop(columns=[\n",
    "    'Mkey',\n",
    "    'ReportNo',\n",
    "    'N', # N is the ID of the plane\n",
    "    'HasSafetyRec',\n",
    "    'ReportType',\n",
    "    'EventID',\n",
    "    'Latitude',\n",
    "    'Longitude',\n",
    "    'Unnamed: 37',\n",
    "    'DocketPublishDate',\n",
    "    'DocketUrl',\n",
    "    'AirportID',\n",
    "    'AirportName',\n",
    "    'ReportStatus',\n",
    "    'Operator',\n",
    "    'AmateurBuilt',\n",
    "    'NtsbNo',\n",
    "    'OriginalPublishDate',\n",
    "    'FAR',\n",
    "    'RepGenFlag',\n",
    "    'Scheduled',\n",
    "    'EventType'\n",
    "    \n",
    "], inplace=True)"
   ]
  },
  {
   "cell_type": "code",
   "execution_count": 626,
   "metadata": {},
   "outputs": [
    {
     "name": "stdout",
     "output_type": "stream",
     "text": [
      "<class 'pandas.core.frame.DataFrame'>\n",
      "RangeIndex: 142466 entries, 0 to 142465\n",
      "Data columns (total 16 columns):\n",
      " #   Column              Non-Null Count   Dtype \n",
      "---  ------              --------------   ----- \n",
      " 0   EventDate           142466 non-null  object\n",
      " 1   City                142435 non-null  object\n",
      " 2   State               137108 non-null  object\n",
      " 3   Country             142156 non-null  object\n",
      " 4   HighestInjuryLevel  55935 non-null   object\n",
      " 5   FatalInjuryCount    142466 non-null  int64 \n",
      " 6   SeriousInjuryCount  142466 non-null  int64 \n",
      " 7   MinorInjuryCount    142466 non-null  int64 \n",
      " 8   ProbableCause       45299 non-null   object\n",
      " 9   Make                142461 non-null  object\n",
      " 10  Model               142430 non-null  object\n",
      " 11  AirCraftCategory    142466 non-null  object\n",
      " 12  NumberOfEngines     139845 non-null  object\n",
      " 13  PurposeOfFlight     134176 non-null  object\n",
      " 14  AirCraftDamage      140981 non-null  object\n",
      " 15  WeatherCondition    140338 non-null  object\n",
      "dtypes: int64(3), object(13)\n",
      "memory usage: 17.4+ MB\n"
     ]
    }
   ],
   "source": [
    "df.info()"
   ]
  },
  {
   "cell_type": "code",
   "execution_count": 627,
   "metadata": {},
   "outputs": [
    {
     "name": "stdout",
     "output_type": "stream",
     "text": [
      "<class 'pandas.core.frame.DataFrame'>\n",
      "RangeIndex: 142466 entries, 0 to 142465\n",
      "Data columns (total 16 columns):\n",
      " #   Column              Non-Null Count   Dtype \n",
      "---  ------              --------------   ----- \n",
      " 0   EventDate           142466 non-null  object\n",
      " 1   City                142435 non-null  object\n",
      " 2   State               137108 non-null  object\n",
      " 3   Country             142156 non-null  object\n",
      " 4   HighestInjuryLevel  55935 non-null   object\n",
      " 5   FatalInjuryCount    142466 non-null  int64 \n",
      " 6   SeriousInjuryCount  142466 non-null  int64 \n",
      " 7   MinorInjuryCount    142466 non-null  int64 \n",
      " 8   ProbableCause       45299 non-null   object\n",
      " 9   Make                142461 non-null  object\n",
      " 10  Model               142430 non-null  object\n",
      " 11  AirCraftCategory    142466 non-null  object\n",
      " 12  NumberOfEngines     139845 non-null  object\n",
      " 13  PurposeOfFlight     134176 non-null  object\n",
      " 14  AirCraftDamage      140981 non-null  object\n",
      " 15  WeatherCondition    140338 non-null  object\n",
      "dtypes: int64(3), object(13)\n",
      "memory usage: 17.4+ MB\n"
     ]
    }
   ],
   "source": [
    "df.info()"
   ]
  },
  {
   "cell_type": "code",
   "execution_count": 628,
   "metadata": {},
   "outputs": [
    {
     "data": {
      "text/plain": [
       "ProbableCause         97167\n",
       "HighestInjuryLevel    86531\n",
       "PurposeOfFlight        8290\n",
       "State                  5358\n",
       "NumberOfEngines        2621\n",
       "WeatherCondition       2128\n",
       "AirCraftDamage         1485\n",
       "Country                 310\n",
       "Model                    36\n",
       "City                     31\n",
       "Make                      5\n",
       "EventDate                 0\n",
       "FatalInjuryCount          0\n",
       "SeriousInjuryCount        0\n",
       "MinorInjuryCount          0\n",
       "AirCraftCategory          0\n",
       "dtype: int64"
      ]
     },
     "execution_count": 628,
     "metadata": {},
     "output_type": "execute_result"
    }
   ],
   "source": [
    "df.isna().sum().sort_values(ascending=False)"
   ]
  },
  {
   "cell_type": "code",
   "execution_count": 629,
   "metadata": {},
   "outputs": [],
   "source": [
    "# Probable cause would be a valuable metric, however that information is missing from a really large number of entries. Therefore, the column will be dropped.\n",
    "df.drop('ProbableCause', axis=1, inplace=True)  "
   ]
  },
  {
   "cell_type": "code",
   "execution_count": 630,
   "metadata": {},
   "outputs": [],
   "source": [
    "# State is not super important, so we will drop it as well, along with PurposeOfFlight, Make and Model\n",
    "df.drop(columns=['PurposeOfFlight', 'State', 'Make', 'Model'], axis=1, inplace=True)  "
   ]
  },
  {
   "cell_type": "code",
   "execution_count": 631,
   "metadata": {},
   "outputs": [
    {
     "data": {
      "text/plain": [
       "HighestInjuryLevel    86531\n",
       "NumberOfEngines        2621\n",
       "WeatherCondition       2128\n",
       "AirCraftDamage         1485\n",
       "Country                 310\n",
       "City                     31\n",
       "EventDate                 0\n",
       "FatalInjuryCount          0\n",
       "SeriousInjuryCount        0\n",
       "MinorInjuryCount          0\n",
       "AirCraftCategory          0\n",
       "dtype: int64"
      ]
     },
     "execution_count": 631,
     "metadata": {},
     "output_type": "execute_result"
    }
   ],
   "source": [
    "df.isna().sum().sort_values(ascending=False)"
   ]
  },
  {
   "cell_type": "code",
   "execution_count": 632,
   "metadata": {},
   "outputs": [],
   "source": [
    "# HighestInjuryLevel can be extracted from the injury counts, which don't have any missing values, so we will remove this column as well and extract the information later\n",
    "df.drop('HighestInjuryLevel', axis=1, inplace=True)  "
   ]
  },
  {
   "cell_type": "code",
   "execution_count": 633,
   "metadata": {},
   "outputs": [
    {
     "data": {
      "text/plain": [
       "NumberOfEngines       2621\n",
       "WeatherCondition      2128\n",
       "AirCraftDamage        1485\n",
       "Country                310\n",
       "City                    31\n",
       "EventDate                0\n",
       "FatalInjuryCount         0\n",
       "SeriousInjuryCount       0\n",
       "MinorInjuryCount         0\n",
       "AirCraftCategory         0\n",
       "dtype: int64"
      ]
     },
     "execution_count": 633,
     "metadata": {},
     "output_type": "execute_result"
    }
   ],
   "source": [
    "df.isna().sum().sort_values(ascending=False)"
   ]
  },
  {
   "cell_type": "code",
   "execution_count": 634,
   "metadata": {},
   "outputs": [
    {
     "data": {
      "text/plain": [
       "(142466, 10)"
      ]
     },
     "execution_count": 634,
     "metadata": {},
     "output_type": "execute_result"
    }
   ],
   "source": [
    "# Now we are left with all the information we want and reduced the number of missing values significantly\n",
    "df.shape"
   ]
  },
  {
   "cell_type": "code",
   "execution_count": 635,
   "metadata": {},
   "outputs": [
    {
     "data": {
      "text/plain": [
       "(137512, 10)"
      ]
     },
     "execution_count": 635,
     "metadata": {},
     "output_type": "execute_result"
    }
   ],
   "source": [
    "# Given the shear amount of data, it's acceptable to simply drop the null values\n",
    "df.dropna(inplace=True)\n",
    "df.shape"
   ]
  },
  {
   "cell_type": "code",
   "execution_count": 636,
   "metadata": {},
   "outputs": [
    {
     "data": {
      "text/plain": [
       "EventDate             0\n",
       "City                  0\n",
       "Country               0\n",
       "FatalInjuryCount      0\n",
       "SeriousInjuryCount    0\n",
       "MinorInjuryCount      0\n",
       "AirCraftCategory      0\n",
       "NumberOfEngines       0\n",
       "AirCraftDamage        0\n",
       "WeatherCondition      0\n",
       "dtype: int64"
      ]
     },
     "execution_count": 636,
     "metadata": {},
     "output_type": "execute_result"
    }
   ],
   "source": [
    "df.isna().sum().sort_values(ascending=False)"
   ]
  },
  {
   "cell_type": "code",
   "execution_count": 637,
   "metadata": {},
   "outputs": [],
   "source": [
    "# Now let's change the types of the numerical data that are mistakenly described as objects\n",
    "df.EventDate = pd.to_datetime(df.EventDate)"
   ]
  },
  {
   "cell_type": "code",
   "execution_count": 638,
   "metadata": {},
   "outputs": [
    {
     "data": {
      "text/plain": [
       "NumberOfEngines\n",
       "1        117795\n",
       "2         16947\n",
       "1,1        1342\n",
       "4           578\n",
       "3           221\n",
       "2,2         132\n",
       "2,1         132\n",
       "1,2         122\n",
       "0           108\n",
       "4,2          19\n",
       "1,           18\n",
       ",            12\n",
       ",1           11\n",
       "2,3          10\n",
       "1,0          10\n",
       "0,1           8\n",
       "4,4           6\n",
       "2,4           5\n",
       "1,4           4\n",
       "2,            4\n",
       "1,3           3\n",
       "3,4           3\n",
       "3,2           3\n",
       "4,1           3\n",
       "3,1           3\n",
       ",2            3\n",
       "3,3           1\n",
       "2,2,2         1\n",
       "4,3           1\n",
       "1,1,1         1\n",
       "0,0           1\n",
       "2,0           1\n",
       "1,1,0         1\n",
       "4,            1\n",
       ",4            1\n",
       "6,1           1\n",
       "Name: count, dtype: int64"
      ]
     },
     "execution_count": 638,
     "metadata": {},
     "output_type": "execute_result"
    }
   ],
   "source": [
    "df.NumberOfEngines.value_counts()"
   ]
  },
  {
   "cell_type": "code",
   "execution_count": 639,
   "metadata": {},
   "outputs": [
    {
     "data": {
      "text/html": [
       "<div>\n",
       "<style scoped>\n",
       "    .dataframe tbody tr th:only-of-type {\n",
       "        vertical-align: middle;\n",
       "    }\n",
       "\n",
       "    .dataframe tbody tr th {\n",
       "        vertical-align: top;\n",
       "    }\n",
       "\n",
       "    .dataframe thead th {\n",
       "        text-align: right;\n",
       "    }\n",
       "</style>\n",
       "<table border=\"1\" class=\"dataframe\">\n",
       "  <thead>\n",
       "    <tr style=\"text-align: right;\">\n",
       "      <th></th>\n",
       "      <th>EventDate</th>\n",
       "      <th>City</th>\n",
       "      <th>Country</th>\n",
       "      <th>FatalInjuryCount</th>\n",
       "      <th>SeriousInjuryCount</th>\n",
       "      <th>MinorInjuryCount</th>\n",
       "      <th>AirCraftCategory</th>\n",
       "      <th>NumberOfEngines</th>\n",
       "      <th>AirCraftDamage</th>\n",
       "      <th>WeatherCondition</th>\n",
       "    </tr>\n",
       "  </thead>\n",
       "  <tbody>\n",
       "    <tr>\n",
       "      <th>145</th>\n",
       "      <td>2023-08-01 17:37:00+00:00</td>\n",
       "      <td>Long Beach</td>\n",
       "      <td>United States</td>\n",
       "      <td>0</td>\n",
       "      <td>0</td>\n",
       "      <td>0</td>\n",
       "      <td>AIR,AIR</td>\n",
       "      <td>1,1</td>\n",
       "      <td>Minor,Substantial</td>\n",
       "      <td>VMC</td>\n",
       "    </tr>\n",
       "    <tr>\n",
       "      <th>314</th>\n",
       "      <td>2023-05-22 11:00:00+00:00</td>\n",
       "      <td>Gueydan</td>\n",
       "      <td>United States</td>\n",
       "      <td>0</td>\n",
       "      <td>0</td>\n",
       "      <td>0</td>\n",
       "      <td>AIR,AIR</td>\n",
       "      <td>1,1</td>\n",
       "      <td>Substantial,Substantial</td>\n",
       "      <td>VMC</td>\n",
       "    </tr>\n",
       "    <tr>\n",
       "      <th>437</th>\n",
       "      <td>2023-03-17 13:40:00+00:00</td>\n",
       "      <td>Mesa</td>\n",
       "      <td>United States</td>\n",
       "      <td>0</td>\n",
       "      <td>1</td>\n",
       "      <td>0</td>\n",
       "      <td>AIR,AIR</td>\n",
       "      <td>1,1</td>\n",
       "      <td>Substantial,Substantial</td>\n",
       "      <td>VMC</td>\n",
       "    </tr>\n",
       "    <tr>\n",
       "      <th>450</th>\n",
       "      <td>2023-03-07 14:04:00+00:00</td>\n",
       "      <td>Hillsboro</td>\n",
       "      <td>United States</td>\n",
       "      <td>0</td>\n",
       "      <td>0</td>\n",
       "      <td>0</td>\n",
       "      <td>AIR,AIR</td>\n",
       "      <td>1,1</td>\n",
       "      <td>Substantial,Minor</td>\n",
       "      <td>VMC</td>\n",
       "    </tr>\n",
       "    <tr>\n",
       "      <th>561</th>\n",
       "      <td>2022-12-27 05:00:00+00:00</td>\n",
       "      <td>Brookshire</td>\n",
       "      <td>United States</td>\n",
       "      <td>0</td>\n",
       "      <td>0</td>\n",
       "      <td>0</td>\n",
       "      <td>AIR,AIR</td>\n",
       "      <td>1,1</td>\n",
       "      <td>Substantial,Minor</td>\n",
       "      <td>VMC</td>\n",
       "    </tr>\n",
       "    <tr>\n",
       "      <th>...</th>\n",
       "      <td>...</td>\n",
       "      <td>...</td>\n",
       "      <td>...</td>\n",
       "      <td>...</td>\n",
       "      <td>...</td>\n",
       "      <td>...</td>\n",
       "      <td>...</td>\n",
       "      <td>...</td>\n",
       "      <td>...</td>\n",
       "      <td>...</td>\n",
       "    </tr>\n",
       "    <tr>\n",
       "      <th>140972</th>\n",
       "      <td>1964-04-30 04:00:00+00:00</td>\n",
       "      <td>ENID</td>\n",
       "      <td>United States</td>\n",
       "      <td>0</td>\n",
       "      <td>0</td>\n",
       "      <td>0</td>\n",
       "      <td>AIR,AIR</td>\n",
       "      <td>1,1</td>\n",
       "      <td>Minor,Substantial</td>\n",
       "      <td>VFR</td>\n",
       "    </tr>\n",
       "    <tr>\n",
       "      <th>141161</th>\n",
       "      <td>1964-04-15 04:00:00+00:00</td>\n",
       "      <td>TOLLESON</td>\n",
       "      <td>United States</td>\n",
       "      <td>0</td>\n",
       "      <td>0</td>\n",
       "      <td>0</td>\n",
       "      <td>AIR,AIR</td>\n",
       "      <td>1,1</td>\n",
       "      <td>Minor,Minor</td>\n",
       "      <td>VFR</td>\n",
       "    </tr>\n",
       "    <tr>\n",
       "      <th>141779</th>\n",
       "      <td>1964-02-22 05:00:00+00:00</td>\n",
       "      <td>ALBUQUERQUE</td>\n",
       "      <td>United States</td>\n",
       "      <td>0</td>\n",
       "      <td>0</td>\n",
       "      <td>0</td>\n",
       "      <td>AIR,AIR</td>\n",
       "      <td>1,1</td>\n",
       "      <td>Substantial,Minor</td>\n",
       "      <td>VFR</td>\n",
       "    </tr>\n",
       "    <tr>\n",
       "      <th>142110</th>\n",
       "      <td>1964-01-22 05:00:00+00:00</td>\n",
       "      <td>MOULTRIE</td>\n",
       "      <td>United States</td>\n",
       "      <td>0</td>\n",
       "      <td>0</td>\n",
       "      <td>0</td>\n",
       "      <td>AIR,AIR</td>\n",
       "      <td>1,1</td>\n",
       "      <td>Substantial,Minor</td>\n",
       "      <td>VFR</td>\n",
       "    </tr>\n",
       "    <tr>\n",
       "      <th>142265</th>\n",
       "      <td>1964-01-04 05:00:00+00:00</td>\n",
       "      <td>PALO ALTO</td>\n",
       "      <td>United States</td>\n",
       "      <td>0</td>\n",
       "      <td>1</td>\n",
       "      <td>0</td>\n",
       "      <td>AIR,AIR</td>\n",
       "      <td>1,1</td>\n",
       "      <td>Destroyed,Substantial</td>\n",
       "      <td>VFR</td>\n",
       "    </tr>\n",
       "  </tbody>\n",
       "</table>\n",
       "<p>1342 rows × 10 columns</p>\n",
       "</div>"
      ],
      "text/plain": [
       "                       EventDate         City        Country  \\\n",
       "145    2023-08-01 17:37:00+00:00   Long Beach  United States   \n",
       "314    2023-05-22 11:00:00+00:00      Gueydan  United States   \n",
       "437    2023-03-17 13:40:00+00:00         Mesa  United States   \n",
       "450    2023-03-07 14:04:00+00:00    Hillsboro  United States   \n",
       "561    2022-12-27 05:00:00+00:00   Brookshire  United States   \n",
       "...                          ...          ...            ...   \n",
       "140972 1964-04-30 04:00:00+00:00         ENID  United States   \n",
       "141161 1964-04-15 04:00:00+00:00     TOLLESON  United States   \n",
       "141779 1964-02-22 05:00:00+00:00  ALBUQUERQUE  United States   \n",
       "142110 1964-01-22 05:00:00+00:00     MOULTRIE  United States   \n",
       "142265 1964-01-04 05:00:00+00:00    PALO ALTO  United States   \n",
       "\n",
       "        FatalInjuryCount  SeriousInjuryCount  MinorInjuryCount  \\\n",
       "145                    0                   0                 0   \n",
       "314                    0                   0                 0   \n",
       "437                    0                   1                 0   \n",
       "450                    0                   0                 0   \n",
       "561                    0                   0                 0   \n",
       "...                  ...                 ...               ...   \n",
       "140972                 0                   0                 0   \n",
       "141161                 0                   0                 0   \n",
       "141779                 0                   0                 0   \n",
       "142110                 0                   0                 0   \n",
       "142265                 0                   1                 0   \n",
       "\n",
       "       AirCraftCategory NumberOfEngines           AirCraftDamage  \\\n",
       "145             AIR,AIR             1,1        Minor,Substantial   \n",
       "314             AIR,AIR             1,1  Substantial,Substantial   \n",
       "437             AIR,AIR             1,1  Substantial,Substantial   \n",
       "450             AIR,AIR             1,1        Substantial,Minor   \n",
       "561             AIR,AIR             1,1        Substantial,Minor   \n",
       "...                 ...             ...                      ...   \n",
       "140972          AIR,AIR             1,1        Minor,Substantial   \n",
       "141161          AIR,AIR             1,1              Minor,Minor   \n",
       "141779          AIR,AIR             1,1        Substantial,Minor   \n",
       "142110          AIR,AIR             1,1        Substantial,Minor   \n",
       "142265          AIR,AIR             1,1    Destroyed,Substantial   \n",
       "\n",
       "       WeatherCondition  \n",
       "145                 VMC  \n",
       "314                 VMC  \n",
       "437                 VMC  \n",
       "450                 VMC  \n",
       "561                 VMC  \n",
       "...                 ...  \n",
       "140972              VFR  \n",
       "141161              VFR  \n",
       "141779              VFR  \n",
       "142110              VFR  \n",
       "142265              VFR  \n",
       "\n",
       "[1342 rows x 10 columns]"
      ]
     },
     "execution_count": 639,
     "metadata": {},
     "output_type": "execute_result"
    }
   ],
   "source": [
    "# The number of engines seems to be in a strange format, let's check\n",
    "df.loc[df.NumberOfEngines == '1,1']"
   ]
  },
  {
   "cell_type": "code",
   "execution_count": 640,
   "metadata": {},
   "outputs": [
    {
     "data": {
      "text/plain": [
       "AirCraftCategory\n",
       "AIR            135649\n",
       "AIR,AIR          1762\n",
       "AIR,HELI           32\n",
       "HELI,AIR           24\n",
       "AIR,GLI            21\n",
       "GLI,AIR            13\n",
       "AIR,ULTR            4\n",
       "AIR,AIR,AIR         2\n",
       "AIR,UNK             1\n",
       "AIR,AIR,GLI         1\n",
       "PPAR,AIR            1\n",
       "AIR,                1\n",
       "GYRO,AIR            1\n",
       "Name: count, dtype: int64"
      ]
     },
     "execution_count": 640,
     "metadata": {},
     "output_type": "execute_result"
    }
   ],
   "source": [
    "# We can see now that more than one aircraft has been involved in this accident, so the number for each airplane is separated by a comma. Let's check for aircraft type\n",
    "df.AirCraftCategory.value_counts()"
   ]
  },
  {
   "cell_type": "code",
   "execution_count": 641,
   "metadata": {},
   "outputs": [],
   "source": [
    "# We are only interested in accidents involving airplanes, so we can remove some of this data\n",
    "itemList = ['HELI', 'UNK', 'GLI', 'ULTR', 'GYRO', 'PPAR']\n",
    "for string in itemList:\n",
    "    df.drop(df[df.AirCraftCategory.str.contains(string)].index, inplace=True)"
   ]
  },
  {
   "cell_type": "code",
   "execution_count": 642,
   "metadata": {},
   "outputs": [
    {
     "data": {
      "text/plain": [
       "AirCraftCategory\n",
       "AIR            135649\n",
       "AIR,AIR          1762\n",
       "AIR,AIR,AIR         2\n",
       "AIR,                1\n",
       "Name: count, dtype: int64"
      ]
     },
     "execution_count": 642,
     "metadata": {},
     "output_type": "execute_result"
    }
   ],
   "source": [
    "df.AirCraftCategory.value_counts()"
   ]
  },
  {
   "cell_type": "code",
   "execution_count": 643,
   "metadata": {},
   "outputs": [],
   "source": [
    "df.drop(df[df.AirCraftCategory == 'AIR,'].index, inplace=True)"
   ]
  },
  {
   "cell_type": "code",
   "execution_count": 644,
   "metadata": {},
   "outputs": [
    {
     "data": {
      "text/plain": [
       "AirCraftCategory\n",
       "AIR            135649\n",
       "AIR,AIR          1762\n",
       "AIR,AIR,AIR         2\n",
       "Name: count, dtype: int64"
      ]
     },
     "execution_count": 644,
     "metadata": {},
     "output_type": "execute_result"
    }
   ],
   "source": [
    "df.AirCraftCategory.value_counts()"
   ]
  },
  {
   "cell_type": "markdown",
   "metadata": {},
   "source": [
    "## Exploratory analysis and attribute engineering"
   ]
  },
  {
   "cell_type": "code",
   "execution_count": 645,
   "metadata": {},
   "outputs": [
    {
     "data": {
      "text/plain": [
       "4        2024-01-01 16:40:00+00:00\n",
       "5        2023-12-28 11:57:00+00:00\n",
       "6        2023-12-26 13:15:00+00:00\n",
       "9        2023-12-12 17:44:00+00:00\n",
       "10       2023-12-11 13:15:00+00:00\n",
       "                    ...           \n",
       "142460   1962-01-20 05:00:00+00:00\n",
       "142461   1962-01-16 05:00:00+00:00\n",
       "142462   1962-01-14 05:00:00+00:00\n",
       "142464   1962-01-01 05:00:00+00:00\n",
       "142465   1948-10-24 16:55:00+00:00\n",
       "Name: EventDate, Length: 137413, dtype: datetime64[ns, UTC]"
      ]
     },
     "execution_count": 645,
     "metadata": {},
     "output_type": "execute_result"
    }
   ],
   "source": [
    "df.EventDate = pd.to_datetime(df.EventDate)\n",
    "df.EventDate"
   ]
  },
  {
   "cell_type": "code",
   "execution_count": 646,
   "metadata": {},
   "outputs": [],
   "source": [
    "# Let's first extract some relevant information from the data and create new columns\n",
    "df['EventTime'] = pd.to_datetime(df.EventDate.dt.strftime('%H:%M'))"
   ]
  },
  {
   "cell_type": "code",
   "execution_count": 647,
   "metadata": {},
   "outputs": [
    {
     "data": {
      "text/plain": [
       "4        2024-02-13 16:40:00\n",
       "5        2024-02-13 11:57:00\n",
       "6        2024-02-13 13:15:00\n",
       "9        2024-02-13 17:44:00\n",
       "10       2024-02-13 13:15:00\n",
       "                 ...        \n",
       "142460   2024-02-13 05:00:00\n",
       "142461   2024-02-13 05:00:00\n",
       "142462   2024-02-13 05:00:00\n",
       "142464   2024-02-13 05:00:00\n",
       "142465   2024-02-13 16:55:00\n",
       "Name: EventTime, Length: 137413, dtype: datetime64[ns]"
      ]
     },
     "execution_count": 647,
     "metadata": {},
     "output_type": "execute_result"
    }
   ],
   "source": [
    "df.EventTime"
   ]
  },
  {
   "cell_type": "code",
   "execution_count": 648,
   "metadata": {},
   "outputs": [],
   "source": [
    "df.EventTime = df.EventTime.dt.time"
   ]
  },
  {
   "cell_type": "code",
   "execution_count": 649,
   "metadata": {},
   "outputs": [
    {
     "data": {
      "text/plain": [
       "4         16:40:00\n",
       "5         11:57:00\n",
       "6         13:15:00\n",
       "9         17:44:00\n",
       "10        13:15:00\n",
       "            ...   \n",
       "142460    05:00:00\n",
       "142461    05:00:00\n",
       "142462    05:00:00\n",
       "142464    05:00:00\n",
       "142465    16:55:00\n",
       "Name: EventTime, Length: 137413, dtype: object"
      ]
     },
     "execution_count": 649,
     "metadata": {},
     "output_type": "execute_result"
    }
   ],
   "source": [
    "df.EventTime"
   ]
  },
  {
   "cell_type": "code",
   "execution_count": 650,
   "metadata": {},
   "outputs": [
    {
     "data": {
      "text/plain": [
       "Index(['EventDate', 'City', 'Country', 'FatalInjuryCount',\n",
       "       'SeriousInjuryCount', 'MinorInjuryCount', 'AirCraftCategory',\n",
       "       'NumberOfEngines', 'AirCraftDamage', 'WeatherCondition', 'EventTime'],\n",
       "      dtype='object')"
      ]
     },
     "execution_count": 650,
     "metadata": {},
     "output_type": "execute_result"
    }
   ],
   "source": [
    "df.columns"
   ]
  },
  {
   "cell_type": "code",
   "execution_count": 651,
   "metadata": {},
   "outputs": [],
   "source": [
    "df.EventDate = pd.to_datetime(df.EventDate.dt.strftime('%Y-%m-%d'))"
   ]
  },
  {
   "cell_type": "code",
   "execution_count": 652,
   "metadata": {},
   "outputs": [
    {
     "data": {
      "text/plain": [
       "4        2024-01-01\n",
       "5        2023-12-28\n",
       "6        2023-12-26\n",
       "9        2023-12-12\n",
       "10       2023-12-11\n",
       "            ...    \n",
       "142460   1962-01-20\n",
       "142461   1962-01-16\n",
       "142462   1962-01-14\n",
       "142464   1962-01-01\n",
       "142465   1948-10-24\n",
       "Name: EventDate, Length: 137413, dtype: datetime64[ns]"
      ]
     },
     "execution_count": 652,
     "metadata": {},
     "output_type": "execute_result"
    }
   ],
   "source": [
    "df.EventDate"
   ]
  },
  {
   "cell_type": "code",
   "execution_count": 653,
   "metadata": {},
   "outputs": [
    {
     "data": {
      "text/html": [
       "<div>\n",
       "<style scoped>\n",
       "    .dataframe tbody tr th:only-of-type {\n",
       "        vertical-align: middle;\n",
       "    }\n",
       "\n",
       "    .dataframe tbody tr th {\n",
       "        vertical-align: top;\n",
       "    }\n",
       "\n",
       "    .dataframe thead th {\n",
       "        text-align: right;\n",
       "    }\n",
       "</style>\n",
       "<table border=\"1\" class=\"dataframe\">\n",
       "  <thead>\n",
       "    <tr style=\"text-align: right;\">\n",
       "      <th></th>\n",
       "      <th>EventDate</th>\n",
       "      <th>City</th>\n",
       "      <th>Country</th>\n",
       "      <th>FatalInjuryCount</th>\n",
       "      <th>SeriousInjuryCount</th>\n",
       "      <th>MinorInjuryCount</th>\n",
       "      <th>AirCraftCategory</th>\n",
       "      <th>NumberOfEngines</th>\n",
       "      <th>AirCraftDamage</th>\n",
       "      <th>WeatherCondition</th>\n",
       "      <th>EventTime</th>\n",
       "    </tr>\n",
       "  </thead>\n",
       "  <tbody>\n",
       "    <tr>\n",
       "      <th>4</th>\n",
       "      <td>2024-01-01</td>\n",
       "      <td>Mansfield</td>\n",
       "      <td>United States</td>\n",
       "      <td>0</td>\n",
       "      <td>0</td>\n",
       "      <td>0</td>\n",
       "      <td>AIR</td>\n",
       "      <td>1</td>\n",
       "      <td>Destroyed</td>\n",
       "      <td>VMC</td>\n",
       "      <td>16:40:00</td>\n",
       "    </tr>\n",
       "    <tr>\n",
       "      <th>5</th>\n",
       "      <td>2023-12-28</td>\n",
       "      <td>Lake Havasu</td>\n",
       "      <td>United States</td>\n",
       "      <td>0</td>\n",
       "      <td>0</td>\n",
       "      <td>1</td>\n",
       "      <td>AIR</td>\n",
       "      <td>1</td>\n",
       "      <td>Substantial</td>\n",
       "      <td>VMC</td>\n",
       "      <td>11:57:00</td>\n",
       "    </tr>\n",
       "    <tr>\n",
       "      <th>6</th>\n",
       "      <td>2023-12-26</td>\n",
       "      <td>Ponca City</td>\n",
       "      <td>United States</td>\n",
       "      <td>0</td>\n",
       "      <td>0</td>\n",
       "      <td>0</td>\n",
       "      <td>AIR</td>\n",
       "      <td>2</td>\n",
       "      <td>Substantial</td>\n",
       "      <td>VMC</td>\n",
       "      <td>13:15:00</td>\n",
       "    </tr>\n",
       "    <tr>\n",
       "      <th>9</th>\n",
       "      <td>2023-12-12</td>\n",
       "      <td>Sidney</td>\n",
       "      <td>United States</td>\n",
       "      <td>0</td>\n",
       "      <td>0</td>\n",
       "      <td>0</td>\n",
       "      <td>AIR</td>\n",
       "      <td>1</td>\n",
       "      <td>Substantial</td>\n",
       "      <td>VMC</td>\n",
       "      <td>17:44:00</td>\n",
       "    </tr>\n",
       "    <tr>\n",
       "      <th>10</th>\n",
       "      <td>2023-12-11</td>\n",
       "      <td>Newport News</td>\n",
       "      <td>United States</td>\n",
       "      <td>0</td>\n",
       "      <td>0</td>\n",
       "      <td>0</td>\n",
       "      <td>AIR</td>\n",
       "      <td>1</td>\n",
       "      <td>Unknown</td>\n",
       "      <td>VMC</td>\n",
       "      <td>13:15:00</td>\n",
       "    </tr>\n",
       "  </tbody>\n",
       "</table>\n",
       "</div>"
      ],
      "text/plain": [
       "    EventDate          City        Country  FatalInjuryCount  \\\n",
       "4  2024-01-01     Mansfield  United States                 0   \n",
       "5  2023-12-28   Lake Havasu  United States                 0   \n",
       "6  2023-12-26    Ponca City  United States                 0   \n",
       "9  2023-12-12        Sidney  United States                 0   \n",
       "10 2023-12-11  Newport News  United States                 0   \n",
       "\n",
       "    SeriousInjuryCount  MinorInjuryCount AirCraftCategory NumberOfEngines  \\\n",
       "4                    0                 0              AIR               1   \n",
       "5                    0                 1              AIR               1   \n",
       "6                    0                 0              AIR               2   \n",
       "9                    0                 0              AIR               1   \n",
       "10                   0                 0              AIR               1   \n",
       "\n",
       "   AirCraftDamage WeatherCondition EventTime  \n",
       "4       Destroyed              VMC  16:40:00  \n",
       "5     Substantial              VMC  11:57:00  \n",
       "6     Substantial              VMC  13:15:00  \n",
       "9     Substantial              VMC  17:44:00  \n",
       "10        Unknown              VMC  13:15:00  "
      ]
     },
     "execution_count": 653,
     "metadata": {},
     "output_type": "execute_result"
    }
   ],
   "source": [
    "df.head()"
   ]
  },
  {
   "cell_type": "code",
   "execution_count": 654,
   "metadata": {},
   "outputs": [
    {
     "data": {
      "text/html": [
       "<div>\n",
       "<style scoped>\n",
       "    .dataframe tbody tr th:only-of-type {\n",
       "        vertical-align: middle;\n",
       "    }\n",
       "\n",
       "    .dataframe tbody tr th {\n",
       "        vertical-align: top;\n",
       "    }\n",
       "\n",
       "    .dataframe thead th {\n",
       "        text-align: right;\n",
       "    }\n",
       "</style>\n",
       "<table border=\"1\" class=\"dataframe\">\n",
       "  <thead>\n",
       "    <tr style=\"text-align: right;\">\n",
       "      <th></th>\n",
       "      <th>City</th>\n",
       "      <th>Country</th>\n",
       "      <th>FatalInjuryCount</th>\n",
       "      <th>SeriousInjuryCount</th>\n",
       "      <th>MinorInjuryCount</th>\n",
       "      <th>AirCraftCategory</th>\n",
       "      <th>NumberOfEngines</th>\n",
       "      <th>AirCraftDamage</th>\n",
       "      <th>WeatherCondition</th>\n",
       "      <th>EventTime</th>\n",
       "    </tr>\n",
       "    <tr>\n",
       "      <th>EventDate</th>\n",
       "      <th></th>\n",
       "      <th></th>\n",
       "      <th></th>\n",
       "      <th></th>\n",
       "      <th></th>\n",
       "      <th></th>\n",
       "      <th></th>\n",
       "      <th></th>\n",
       "      <th></th>\n",
       "      <th></th>\n",
       "    </tr>\n",
       "  </thead>\n",
       "  <tbody>\n",
       "    <tr>\n",
       "      <th>2024-01-01</th>\n",
       "      <td>Mansfield</td>\n",
       "      <td>United States</td>\n",
       "      <td>0</td>\n",
       "      <td>0</td>\n",
       "      <td>0</td>\n",
       "      <td>AIR</td>\n",
       "      <td>1</td>\n",
       "      <td>Destroyed</td>\n",
       "      <td>VMC</td>\n",
       "      <td>16:40:00</td>\n",
       "    </tr>\n",
       "    <tr>\n",
       "      <th>2023-12-28</th>\n",
       "      <td>Lake Havasu</td>\n",
       "      <td>United States</td>\n",
       "      <td>0</td>\n",
       "      <td>0</td>\n",
       "      <td>1</td>\n",
       "      <td>AIR</td>\n",
       "      <td>1</td>\n",
       "      <td>Substantial</td>\n",
       "      <td>VMC</td>\n",
       "      <td>11:57:00</td>\n",
       "    </tr>\n",
       "    <tr>\n",
       "      <th>2023-12-26</th>\n",
       "      <td>Ponca City</td>\n",
       "      <td>United States</td>\n",
       "      <td>0</td>\n",
       "      <td>0</td>\n",
       "      <td>0</td>\n",
       "      <td>AIR</td>\n",
       "      <td>2</td>\n",
       "      <td>Substantial</td>\n",
       "      <td>VMC</td>\n",
       "      <td>13:15:00</td>\n",
       "    </tr>\n",
       "    <tr>\n",
       "      <th>2023-12-12</th>\n",
       "      <td>Sidney</td>\n",
       "      <td>United States</td>\n",
       "      <td>0</td>\n",
       "      <td>0</td>\n",
       "      <td>0</td>\n",
       "      <td>AIR</td>\n",
       "      <td>1</td>\n",
       "      <td>Substantial</td>\n",
       "      <td>VMC</td>\n",
       "      <td>17:44:00</td>\n",
       "    </tr>\n",
       "    <tr>\n",
       "      <th>2023-12-11</th>\n",
       "      <td>Newport News</td>\n",
       "      <td>United States</td>\n",
       "      <td>0</td>\n",
       "      <td>0</td>\n",
       "      <td>0</td>\n",
       "      <td>AIR</td>\n",
       "      <td>1</td>\n",
       "      <td>Unknown</td>\n",
       "      <td>VMC</td>\n",
       "      <td>13:15:00</td>\n",
       "    </tr>\n",
       "  </tbody>\n",
       "</table>\n",
       "</div>"
      ],
      "text/plain": [
       "                    City        Country  FatalInjuryCount  SeriousInjuryCount  \\\n",
       "EventDate                                                                       \n",
       "2024-01-01     Mansfield  United States                 0                   0   \n",
       "2023-12-28   Lake Havasu  United States                 0                   0   \n",
       "2023-12-26    Ponca City  United States                 0                   0   \n",
       "2023-12-12        Sidney  United States                 0                   0   \n",
       "2023-12-11  Newport News  United States                 0                   0   \n",
       "\n",
       "            MinorInjuryCount AirCraftCategory NumberOfEngines AirCraftDamage  \\\n",
       "EventDate                                                                      \n",
       "2024-01-01                 0              AIR               1      Destroyed   \n",
       "2023-12-28                 1              AIR               1    Substantial   \n",
       "2023-12-26                 0              AIR               2    Substantial   \n",
       "2023-12-12                 0              AIR               1    Substantial   \n",
       "2023-12-11                 0              AIR               1        Unknown   \n",
       "\n",
       "           WeatherCondition EventTime  \n",
       "EventDate                              \n",
       "2024-01-01              VMC  16:40:00  \n",
       "2023-12-28              VMC  11:57:00  \n",
       "2023-12-26              VMC  13:15:00  \n",
       "2023-12-12              VMC  17:44:00  \n",
       "2023-12-11              VMC  13:15:00  "
      ]
     },
     "execution_count": 654,
     "metadata": {},
     "output_type": "execute_result"
    }
   ],
   "source": [
    "df.set_index(df.EventDate, inplace=True)\n",
    "df.drop(columns='EventDate', inplace=True)\n",
    "df.head()"
   ]
  },
  {
   "cell_type": "code",
   "execution_count": 655,
   "metadata": {},
   "outputs": [],
   "source": [
    "df['AccidentSeverity'] = pd.Series()"
   ]
  },
  {
   "cell_type": "code",
   "execution_count": 656,
   "metadata": {},
   "outputs": [
    {
     "ename": "ValueError",
     "evalue": "The truth value of a Series is ambiguous. Use a.empty, a.bool(), a.item(), a.any() or a.all().",
     "output_type": "error",
     "traceback": [
      "\u001b[1;31m---------------------------------------------------------------------------\u001b[0m",
      "\u001b[1;31mValueError\u001b[0m                                Traceback (most recent call last)",
      "\u001b[1;32m~\\AppData\\Local\\Temp\\ipykernel_29668\\4070602481.py\u001b[0m in \u001b[0;36m?\u001b[1;34m()\u001b[0m\n\u001b[1;32m----> 1\u001b[1;33m \u001b[1;32mif\u001b[0m \u001b[0mdf\u001b[0m\u001b[1;33m.\u001b[0m\u001b[0mFatalInjuryCount\u001b[0m \u001b[1;33m>\u001b[0m \u001b[1;36m0\u001b[0m\u001b[1;33m:\u001b[0m\u001b[1;33m\u001b[0m\u001b[1;33m\u001b[0m\u001b[0m\n\u001b[0m\u001b[0;32m      2\u001b[0m     \u001b[0mdf\u001b[0m\u001b[1;33m.\u001b[0m\u001b[0mAccidentSeverity\u001b[0m \u001b[1;33m=\u001b[0m \u001b[1;34m'Fatal'\u001b[0m\u001b[1;33m\u001b[0m\u001b[1;33m\u001b[0m\u001b[0m\n\u001b[0;32m      3\u001b[0m \u001b[1;32melif\u001b[0m \u001b[0mdf\u001b[0m\u001b[1;33m.\u001b[0m\u001b[0mSeriousInjuryCount\u001b[0m \u001b[1;33m>\u001b[0m \u001b[1;36m0\u001b[0m\u001b[1;33m:\u001b[0m\u001b[1;33m\u001b[0m\u001b[1;33m\u001b[0m\u001b[0m\n\u001b[0;32m      4\u001b[0m     \u001b[0mdf\u001b[0m\u001b[1;33m.\u001b[0m\u001b[0mAccidentSeverity\u001b[0m \u001b[1;33m=\u001b[0m \u001b[1;34m'Serious'\u001b[0m\u001b[1;33m\u001b[0m\u001b[1;33m\u001b[0m\u001b[0m\n",
      "\u001b[1;32mc:\\Users\\louza\\Dropbox\\Python\\air-accident-reports\\.conda\\Lib\\site-packages\\pandas\\core\\generic.py\u001b[0m in \u001b[0;36m?\u001b[1;34m(self)\u001b[0m\n\u001b[0;32m   1574\u001b[0m     \u001b[1;33m@\u001b[0m\u001b[0mfinal\u001b[0m\u001b[1;33m\u001b[0m\u001b[1;33m\u001b[0m\u001b[0m\n\u001b[0;32m   1575\u001b[0m     \u001b[1;32mdef\u001b[0m \u001b[0m__nonzero__\u001b[0m\u001b[1;33m(\u001b[0m\u001b[0mself\u001b[0m\u001b[1;33m)\u001b[0m \u001b[1;33m->\u001b[0m \u001b[0mNoReturn\u001b[0m\u001b[1;33m:\u001b[0m\u001b[1;33m\u001b[0m\u001b[1;33m\u001b[0m\u001b[0m\n\u001b[1;32m-> 1576\u001b[1;33m         raise ValueError(\n\u001b[0m\u001b[0;32m   1577\u001b[0m             \u001b[1;34mf\"The truth value of a {type(self).__name__} is ambiguous. \"\u001b[0m\u001b[1;33m\u001b[0m\u001b[1;33m\u001b[0m\u001b[0m\n\u001b[0;32m   1578\u001b[0m             \u001b[1;34m\"Use a.empty, a.bool(), a.item(), a.any() or a.all().\"\u001b[0m\u001b[1;33m\u001b[0m\u001b[1;33m\u001b[0m\u001b[0m\n\u001b[0;32m   1579\u001b[0m         )\n",
      "\u001b[1;31mValueError\u001b[0m: The truth value of a Series is ambiguous. Use a.empty, a.bool(), a.item(), a.any() or a.all()."
     ]
    }
   ],
   "source": [
    "if df.FatalInjuryCount > 0:\n",
    "    df.AccidentSeverity = 'Fatal'\n",
    "elif df.SeriousInjuryCount > 0:\n",
    "    df.AccidentSeverity = 'Serious'\n",
    "else:\n",
    "    df.AccidentSeverity = 'Minor'"
   ]
  },
  {
   "cell_type": "code",
   "execution_count": null,
   "metadata": {},
   "outputs": [],
   "source": []
  }
 ],
 "metadata": {
  "kernelspec": {
   "display_name": "Python 3",
   "language": "python",
   "name": "python3"
  },
  "language_info": {
   "codemirror_mode": {
    "name": "ipython",
    "version": 3
   },
   "file_extension": ".py",
   "mimetype": "text/x-python",
   "name": "python",
   "nbconvert_exporter": "python",
   "pygments_lexer": "ipython3",
   "version": "3.11.7"
  }
 },
 "nbformat": 4,
 "nbformat_minor": 2
}
