{
 "cells": [
  {
   "cell_type": "code",
   "execution_count": 92,
   "metadata": {},
   "outputs": [],
   "source": [
    "# Imports\n",
    "import sklearn\n",
    "import scipy\n",
    "import pandas as pd\n",
    "import numpy as np\n",
    "import matplotlib.pyplot as plt\n",
    "import seaborn as sns\n",
    "from sklearn.ensemble import RandomForestClassifier\n",
    "from datetime import datetime as dt\n",
    "import warnings\n",
    "\n",
    "warnings.filterwarnings(\"ignore\")"
   ]
  },
  {
   "cell_type": "code",
   "execution_count": 93,
   "metadata": {},
   "outputs": [],
   "source": [
    "df = pd.read_csv(\"AviationData2.csv\")"
   ]
  },
  {
   "cell_type": "code",
   "execution_count": 94,
   "metadata": {},
   "outputs": [
    {
     "data": {
      "text/html": [
       "<div>\n",
       "<style scoped>\n",
       "    .dataframe tbody tr th:only-of-type {\n",
       "        vertical-align: middle;\n",
       "    }\n",
       "\n",
       "    .dataframe tbody tr th {\n",
       "        vertical-align: top;\n",
       "    }\n",
       "\n",
       "    .dataframe thead th {\n",
       "        text-align: right;\n",
       "    }\n",
       "</style>\n",
       "<table border=\"1\" class=\"dataframe\">\n",
       "  <thead>\n",
       "    <tr style=\"text-align: right;\">\n",
       "      <th></th>\n",
       "      <th>NtsbNo</th>\n",
       "      <th>EventType</th>\n",
       "      <th>Mkey</th>\n",
       "      <th>EventDate</th>\n",
       "      <th>City</th>\n",
       "      <th>State</th>\n",
       "      <th>Country</th>\n",
       "      <th>ReportNo</th>\n",
       "      <th>N</th>\n",
       "      <th>HasSafetyRec</th>\n",
       "      <th>...</th>\n",
       "      <th>PurposeOfFlight</th>\n",
       "      <th>FAR</th>\n",
       "      <th>AirCraftDamage</th>\n",
       "      <th>WeatherCondition</th>\n",
       "      <th>Operator</th>\n",
       "      <th>ReportStatus</th>\n",
       "      <th>RepGenFlag</th>\n",
       "      <th>DocketUrl</th>\n",
       "      <th>DocketPublishDate</th>\n",
       "      <th>Unnamed: 37</th>\n",
       "    </tr>\n",
       "  </thead>\n",
       "  <tbody>\n",
       "    <tr>\n",
       "      <th>0</th>\n",
       "      <td>DCA24WA087</td>\n",
       "      <td>ACC</td>\n",
       "      <td>193738</td>\n",
       "      <td>2024-02-01T03:08:00Z</td>\n",
       "      <td>Tokoname</td>\n",
       "      <td>NaN</td>\n",
       "      <td>Japan</td>\n",
       "      <td>NaN</td>\n",
       "      <td>JA899A</td>\n",
       "      <td>False</td>\n",
       "      <td>...</td>\n",
       "      <td>NaN</td>\n",
       "      <td>NUSC</td>\n",
       "      <td>NaN</td>\n",
       "      <td>NaN</td>\n",
       "      <td>All Nippon Airways</td>\n",
       "      <td>NaN</td>\n",
       "      <td>False</td>\n",
       "      <td>NaN</td>\n",
       "      <td>NaN</td>\n",
       "      <td>NaN</td>\n",
       "    </tr>\n",
       "    <tr>\n",
       "      <th>1</th>\n",
       "      <td>GAA24WA073</td>\n",
       "      <td>ACC</td>\n",
       "      <td>193695</td>\n",
       "      <td>2024-01-20T12:30:00Z</td>\n",
       "      <td>Murcott</td>\n",
       "      <td>NaN</td>\n",
       "      <td>United Kingdom</td>\n",
       "      <td>NaN</td>\n",
       "      <td>GNEWT</td>\n",
       "      <td>False</td>\n",
       "      <td>...</td>\n",
       "      <td>NaN</td>\n",
       "      <td>NUSN</td>\n",
       "      <td>Unknown</td>\n",
       "      <td>NaN</td>\n",
       "      <td>NaN</td>\n",
       "      <td>NaN</td>\n",
       "      <td>False</td>\n",
       "      <td>NaN</td>\n",
       "      <td>NaN</td>\n",
       "      <td>NaN</td>\n",
       "    </tr>\n",
       "    <tr>\n",
       "      <th>2</th>\n",
       "      <td>GAA24WA067</td>\n",
       "      <td>ACC</td>\n",
       "      <td>193623</td>\n",
       "      <td>2024-01-07T23:07:00Z</td>\n",
       "      <td>Lizard Island</td>\n",
       "      <td>NaN</td>\n",
       "      <td>Australia</td>\n",
       "      <td>NaN</td>\n",
       "      <td>VH-NWJ</td>\n",
       "      <td>False</td>\n",
       "      <td>...</td>\n",
       "      <td>NaN</td>\n",
       "      <td>UNK</td>\n",
       "      <td>Substantial</td>\n",
       "      <td>NaN</td>\n",
       "      <td>NaN</td>\n",
       "      <td>NaN</td>\n",
       "      <td>False</td>\n",
       "      <td>NaN</td>\n",
       "      <td>NaN</td>\n",
       "      <td>NaN</td>\n",
       "    </tr>\n",
       "    <tr>\n",
       "      <th>3</th>\n",
       "      <td>DCA24WA071</td>\n",
       "      <td>ACC</td>\n",
       "      <td>193655</td>\n",
       "      <td>2024-01-06T03:28:00Z</td>\n",
       "      <td>Mar del Plata</td>\n",
       "      <td>NaN</td>\n",
       "      <td>Argentina</td>\n",
       "      <td>NaN</td>\n",
       "      <td>LV-KJE</td>\n",
       "      <td>False</td>\n",
       "      <td>...</td>\n",
       "      <td>NaN</td>\n",
       "      <td>NUSC</td>\n",
       "      <td>Substantial</td>\n",
       "      <td>NaN</td>\n",
       "      <td>NaN</td>\n",
       "      <td>NaN</td>\n",
       "      <td>False</td>\n",
       "      <td>NaN</td>\n",
       "      <td>NaN</td>\n",
       "      <td>NaN</td>\n",
       "    </tr>\n",
       "    <tr>\n",
       "      <th>4</th>\n",
       "      <td>CEN24LA075</td>\n",
       "      <td>ACC</td>\n",
       "      <td>193582</td>\n",
       "      <td>2024-01-01T16:40:00Z</td>\n",
       "      <td>Mansfield</td>\n",
       "      <td>Louisiana</td>\n",
       "      <td>United States</td>\n",
       "      <td>NaN</td>\n",
       "      <td>N9729L</td>\n",
       "      <td>False</td>\n",
       "      <td>...</td>\n",
       "      <td>PERS</td>\n",
       "      <td>091</td>\n",
       "      <td>Destroyed</td>\n",
       "      <td>VMC</td>\n",
       "      <td>NaN</td>\n",
       "      <td>Completed</td>\n",
       "      <td>False</td>\n",
       "      <td>https://data.ntsb.gov/Docket?ProjectID=193582</td>\n",
       "      <td>2/8/2024 6:00:00 PM</td>\n",
       "      <td>NaN</td>\n",
       "    </tr>\n",
       "    <tr>\n",
       "      <th>...</th>\n",
       "      <td>...</td>\n",
       "      <td>...</td>\n",
       "      <td>...</td>\n",
       "      <td>...</td>\n",
       "      <td>...</td>\n",
       "      <td>...</td>\n",
       "      <td>...</td>\n",
       "      <td>...</td>\n",
       "      <td>...</td>\n",
       "      <td>...</td>\n",
       "      <td>...</td>\n",
       "      <td>...</td>\n",
       "      <td>...</td>\n",
       "      <td>...</td>\n",
       "      <td>...</td>\n",
       "      <td>...</td>\n",
       "      <td>...</td>\n",
       "      <td>...</td>\n",
       "      <td>...</td>\n",
       "      <td>...</td>\n",
       "      <td>...</td>\n",
       "    </tr>\n",
       "    <tr>\n",
       "      <th>142461</th>\n",
       "      <td>NYC62A0005</td>\n",
       "      <td>ACC</td>\n",
       "      <td>115930</td>\n",
       "      <td>1962-01-16T05:00:00Z</td>\n",
       "      <td>LIMESTONE</td>\n",
       "      <td>Maine</td>\n",
       "      <td>United States</td>\n",
       "      <td>NaN</td>\n",
       "      <td>N9903F</td>\n",
       "      <td>False</td>\n",
       "      <td>...</td>\n",
       "      <td>NaN</td>\n",
       "      <td>091</td>\n",
       "      <td>Substantial</td>\n",
       "      <td>VFR</td>\n",
       "      <td>NaN</td>\n",
       "      <td>Completed</td>\n",
       "      <td>False</td>\n",
       "      <td>NaN</td>\n",
       "      <td>NaN</td>\n",
       "      <td>NaN</td>\n",
       "    </tr>\n",
       "    <tr>\n",
       "      <th>142462</th>\n",
       "      <td>MIA62A0003</td>\n",
       "      <td>ACC</td>\n",
       "      <td>123569</td>\n",
       "      <td>1962-01-14T05:00:00Z</td>\n",
       "      <td>BIRMINGHAM</td>\n",
       "      <td>Alabama</td>\n",
       "      <td>United States</td>\n",
       "      <td>NaN</td>\n",
       "      <td>N5540</td>\n",
       "      <td>False</td>\n",
       "      <td>...</td>\n",
       "      <td>NaN</td>\n",
       "      <td>NaN</td>\n",
       "      <td>Substantial</td>\n",
       "      <td>VFR</td>\n",
       "      <td>EASTERN AIR LINES INC</td>\n",
       "      <td>Completed</td>\n",
       "      <td>False</td>\n",
       "      <td>NaN</td>\n",
       "      <td>NaN</td>\n",
       "      <td>NaN</td>\n",
       "    </tr>\n",
       "    <tr>\n",
       "      <th>142463</th>\n",
       "      <td>LAX62A0002</td>\n",
       "      <td>ACC</td>\n",
       "      <td>150606</td>\n",
       "      <td>1962-01-13T05:00:00Z</td>\n",
       "      <td>FILLMORE</td>\n",
       "      <td>California</td>\n",
       "      <td>United States</td>\n",
       "      <td>NaN</td>\n",
       "      <td>N37538</td>\n",
       "      <td>False</td>\n",
       "      <td>...</td>\n",
       "      <td>NaN</td>\n",
       "      <td>NaN</td>\n",
       "      <td>NaN</td>\n",
       "      <td>VFR</td>\n",
       "      <td>UNITED AIR LINES INC</td>\n",
       "      <td>Completed</td>\n",
       "      <td>False</td>\n",
       "      <td>NaN</td>\n",
       "      <td>NaN</td>\n",
       "      <td>NaN</td>\n",
       "    </tr>\n",
       "    <tr>\n",
       "      <th>142464</th>\n",
       "      <td>MIA62A0001</td>\n",
       "      <td>ACC</td>\n",
       "      <td>139827</td>\n",
       "      <td>1962-01-01T05:00:00Z</td>\n",
       "      <td>CHARLOTTE</td>\n",
       "      <td>North Carolina</td>\n",
       "      <td>United States</td>\n",
       "      <td>NaN</td>\n",
       "      <td>N2703R</td>\n",
       "      <td>False</td>\n",
       "      <td>...</td>\n",
       "      <td>NaN</td>\n",
       "      <td>NaN</td>\n",
       "      <td>Substantial</td>\n",
       "      <td>VFR</td>\n",
       "      <td>PIEDMONT AVIATION INC</td>\n",
       "      <td>Completed</td>\n",
       "      <td>False</td>\n",
       "      <td>NaN</td>\n",
       "      <td>NaN</td>\n",
       "      <td>NaN</td>\n",
       "    </tr>\n",
       "    <tr>\n",
       "      <th>142465</th>\n",
       "      <td>SEA87LA080</td>\n",
       "      <td>ACC</td>\n",
       "      <td>40612</td>\n",
       "      <td>1948-10-24T16:55:00Z</td>\n",
       "      <td>MOOSE CREEK</td>\n",
       "      <td>Idaho</td>\n",
       "      <td>United States</td>\n",
       "      <td>NaN</td>\n",
       "      <td>NC6404</td>\n",
       "      <td>False</td>\n",
       "      <td>...</td>\n",
       "      <td>PERS</td>\n",
       "      <td>091</td>\n",
       "      <td>Destroyed</td>\n",
       "      <td>Unknown</td>\n",
       "      <td>NaN</td>\n",
       "      <td>Completed</td>\n",
       "      <td>False</td>\n",
       "      <td>NaN</td>\n",
       "      <td>NaN</td>\n",
       "      <td>NaN</td>\n",
       "    </tr>\n",
       "  </tbody>\n",
       "</table>\n",
       "<p>142466 rows × 38 columns</p>\n",
       "</div>"
      ],
      "text/plain": [
       "            NtsbNo EventType    Mkey             EventDate           City  \\\n",
       "0       DCA24WA087       ACC  193738  2024-02-01T03:08:00Z       Tokoname   \n",
       "1       GAA24WA073       ACC  193695  2024-01-20T12:30:00Z        Murcott   \n",
       "2       GAA24WA067       ACC  193623  2024-01-07T23:07:00Z  Lizard Island   \n",
       "3       DCA24WA071       ACC  193655  2024-01-06T03:28:00Z  Mar del Plata   \n",
       "4       CEN24LA075       ACC  193582  2024-01-01T16:40:00Z      Mansfield   \n",
       "...            ...       ...     ...                   ...            ...   \n",
       "142461  NYC62A0005       ACC  115930  1962-01-16T05:00:00Z      LIMESTONE   \n",
       "142462  MIA62A0003       ACC  123569  1962-01-14T05:00:00Z     BIRMINGHAM   \n",
       "142463  LAX62A0002       ACC  150606  1962-01-13T05:00:00Z       FILLMORE   \n",
       "142464  MIA62A0001       ACC  139827  1962-01-01T05:00:00Z      CHARLOTTE   \n",
       "142465  SEA87LA080       ACC   40612  1948-10-24T16:55:00Z    MOOSE CREEK   \n",
       "\n",
       "                 State         Country ReportNo       N  HasSafetyRec  ...  \\\n",
       "0                  NaN           Japan      NaN  JA899A         False  ...   \n",
       "1                  NaN  United Kingdom      NaN   GNEWT         False  ...   \n",
       "2                  NaN       Australia      NaN  VH-NWJ         False  ...   \n",
       "3                  NaN       Argentina      NaN  LV-KJE         False  ...   \n",
       "4            Louisiana   United States      NaN  N9729L         False  ...   \n",
       "...                ...             ...      ...     ...           ...  ...   \n",
       "142461           Maine   United States      NaN  N9903F         False  ...   \n",
       "142462         Alabama   United States      NaN   N5540         False  ...   \n",
       "142463      California   United States      NaN  N37538         False  ...   \n",
       "142464  North Carolina   United States      NaN  N2703R         False  ...   \n",
       "142465           Idaho   United States      NaN  NC6404         False  ...   \n",
       "\n",
       "       PurposeOfFlight   FAR AirCraftDamage  WeatherCondition  \\\n",
       "0                  NaN  NUSC            NaN               NaN   \n",
       "1                  NaN  NUSN        Unknown               NaN   \n",
       "2                  NaN   UNK    Substantial               NaN   \n",
       "3                  NaN  NUSC    Substantial               NaN   \n",
       "4                 PERS   091      Destroyed               VMC   \n",
       "...                ...   ...            ...               ...   \n",
       "142461             NaN   091    Substantial               VFR   \n",
       "142462             NaN   NaN    Substantial               VFR   \n",
       "142463             NaN   NaN            NaN               VFR   \n",
       "142464             NaN   NaN    Substantial               VFR   \n",
       "142465            PERS   091      Destroyed           Unknown   \n",
       "\n",
       "                     Operator  ReportStatus RepGenFlag  \\\n",
       "0          All Nippon Airways           NaN      False   \n",
       "1                         NaN           NaN      False   \n",
       "2                         NaN           NaN      False   \n",
       "3                         NaN           NaN      False   \n",
       "4                         NaN     Completed      False   \n",
       "...                       ...           ...        ...   \n",
       "142461                    NaN     Completed      False   \n",
       "142462  EASTERN AIR LINES INC     Completed      False   \n",
       "142463   UNITED AIR LINES INC     Completed      False   \n",
       "142464  PIEDMONT AVIATION INC     Completed      False   \n",
       "142465                    NaN     Completed      False   \n",
       "\n",
       "                                            DocketUrl    DocketPublishDate  \\\n",
       "0                                                 NaN                  NaN   \n",
       "1                                                 NaN                  NaN   \n",
       "2                                                 NaN                  NaN   \n",
       "3                                                 NaN                  NaN   \n",
       "4       https://data.ntsb.gov/Docket?ProjectID=193582  2/8/2024 6:00:00 PM   \n",
       "...                                               ...                  ...   \n",
       "142461                                            NaN                  NaN   \n",
       "142462                                            NaN                  NaN   \n",
       "142463                                            NaN                  NaN   \n",
       "142464                                            NaN                  NaN   \n",
       "142465                                            NaN                  NaN   \n",
       "\n",
       "        Unnamed: 37  \n",
       "0               NaN  \n",
       "1               NaN  \n",
       "2               NaN  \n",
       "3               NaN  \n",
       "4               NaN  \n",
       "...             ...  \n",
       "142461          NaN  \n",
       "142462          NaN  \n",
       "142463          NaN  \n",
       "142464          NaN  \n",
       "142465          NaN  \n",
       "\n",
       "[142466 rows x 38 columns]"
      ]
     },
     "execution_count": 94,
     "metadata": {},
     "output_type": "execute_result"
    }
   ],
   "source": [
    "df"
   ]
  },
  {
   "cell_type": "code",
   "execution_count": 95,
   "metadata": {},
   "outputs": [
    {
     "data": {
      "text/plain": [
       "(142466, 38)"
      ]
     },
     "execution_count": 95,
     "metadata": {},
     "output_type": "execute_result"
    }
   ],
   "source": [
    "df.shape"
   ]
  },
  {
   "cell_type": "markdown",
   "metadata": {},
   "source": [
    "## Data cleaning and preprocessing\n"
   ]
  },
  {
   "cell_type": "code",
   "execution_count": 96,
   "metadata": {},
   "outputs": [
    {
     "data": {
      "text/plain": [
       "Unnamed: 37            142466\n",
       "ReportNo               142155\n",
       "Scheduled              134676\n",
       "DocketUrl              126575\n",
       "DocketPublishDate      126575\n",
       "Operator               105813\n",
       "AirportID              102797\n",
       "ProbableCause           97167\n",
       "HighestInjuryLevel      86531\n",
       "EventID                 65955\n",
       "AirportName             46406\n",
       "OriginalPublishDate     13508\n",
       "PurposeOfFlight          8290\n",
       "State                    5358\n",
       "FAR                      4374\n",
       "ReportType               3488\n",
       "ReportStatus             3416\n",
       "NumberOfEngines          2621\n",
       "WeatherCondition         2128\n",
       "AirCraftDamage           1485\n",
       "Country                   310\n",
       "Model                      36\n",
       "City                       31\n",
       "N                          28\n",
       "Make                        5\n",
       "RepGenFlag                  0\n",
       "NtsbNo                      0\n",
       "AmateurBuilt                0\n",
       "AirCraftCategory            0\n",
       "EventType                   0\n",
       "Latitude                    0\n",
       "MinorInjuryCount            0\n",
       "SeriousInjuryCount          0\n",
       "FatalInjuryCount            0\n",
       "HasSafetyRec                0\n",
       "EventDate                   0\n",
       "Mkey                        0\n",
       "Longitude                   0\n",
       "dtype: int64"
      ]
     },
     "execution_count": 96,
     "metadata": {},
     "output_type": "execute_result"
    }
   ],
   "source": [
    "df.isna().sum().sort_values(ascending=False)"
   ]
  },
  {
   "cell_type": "code",
   "execution_count": 97,
   "metadata": {},
   "outputs": [],
   "source": [
    "df.drop_duplicates(inplace=True)"
   ]
  },
  {
   "cell_type": "code",
   "execution_count": 98,
   "metadata": {},
   "outputs": [
    {
     "data": {
      "text/plain": [
       "(142466, 38)"
      ]
     },
     "execution_count": 98,
     "metadata": {},
     "output_type": "execute_result"
    }
   ],
   "source": [
    "df.shape"
   ]
  },
  {
   "cell_type": "code",
   "execution_count": 99,
   "metadata": {},
   "outputs": [
    {
     "data": {
      "text/plain": [
       "Index(['NtsbNo', 'EventType', 'Mkey', 'EventDate', 'City', 'State', 'Country',\n",
       "       'ReportNo', 'N', 'HasSafetyRec', 'ReportType', 'OriginalPublishDate',\n",
       "       'HighestInjuryLevel', 'FatalInjuryCount', 'SeriousInjuryCount',\n",
       "       'MinorInjuryCount', 'ProbableCause', 'EventID', 'Latitude', 'Longitude',\n",
       "       'Make', 'Model', 'AirCraftCategory', 'AirportID', 'AirportName',\n",
       "       'AmateurBuilt', 'NumberOfEngines', 'Scheduled', 'PurposeOfFlight',\n",
       "       'FAR', 'AirCraftDamage', 'WeatherCondition', 'Operator', 'ReportStatus',\n",
       "       'RepGenFlag', 'DocketUrl', 'DocketPublishDate', 'Unnamed: 37'],\n",
       "      dtype='object')"
      ]
     },
     "execution_count": 99,
     "metadata": {},
     "output_type": "execute_result"
    }
   ],
   "source": [
    "# Let's remove columns we are not interested in\n",
    "df.columns"
   ]
  },
  {
   "cell_type": "code",
   "execution_count": 100,
   "metadata": {},
   "outputs": [],
   "source": [
    "# Let's drop irrelevant columns\n",
    "df.drop(\n",
    "    columns=[\n",
    "        \"Mkey\",\n",
    "        \"ReportNo\",\n",
    "        \"N\",  # N is the ID of the plane\n",
    "        \"HasSafetyRec\",\n",
    "        \"ReportType\",\n",
    "        \"EventID\",\n",
    "        \"Unnamed: 37\",\n",
    "        \"DocketPublishDate\",\n",
    "        \"DocketUrl\",\n",
    "        \"AirportID\",\n",
    "        \"AirportName\",\n",
    "        \"ReportStatus\",\n",
    "        \"Operator\",\n",
    "        \"AmateurBuilt\",\n",
    "        \"NtsbNo\",\n",
    "        \"OriginalPublishDate\",\n",
    "        \"FAR\",\n",
    "        \"RepGenFlag\",\n",
    "        \"Scheduled\",\n",
    "        \"EventType\",\n",
    "    ],\n",
    "    inplace=True,\n",
    ")"
   ]
  },
  {
   "cell_type": "code",
   "execution_count": 101,
   "metadata": {},
   "outputs": [
    {
     "name": "stdout",
     "output_type": "stream",
     "text": [
      "<class 'pandas.core.frame.DataFrame'>\n",
      "RangeIndex: 142466 entries, 0 to 142465\n",
      "Data columns (total 18 columns):\n",
      " #   Column              Non-Null Count   Dtype  \n",
      "---  ------              --------------   -----  \n",
      " 0   EventDate           142466 non-null  object \n",
      " 1   City                142435 non-null  object \n",
      " 2   State               137108 non-null  object \n",
      " 3   Country             142156 non-null  object \n",
      " 4   HighestInjuryLevel  55935 non-null   object \n",
      " 5   FatalInjuryCount    142466 non-null  int64  \n",
      " 6   SeriousInjuryCount  142466 non-null  int64  \n",
      " 7   MinorInjuryCount    142466 non-null  int64  \n",
      " 8   ProbableCause       45299 non-null   object \n",
      " 9   Latitude            142466 non-null  float64\n",
      " 10  Longitude           142466 non-null  float64\n",
      " 11  Make                142461 non-null  object \n",
      " 12  Model               142430 non-null  object \n",
      " 13  AirCraftCategory    142466 non-null  object \n",
      " 14  NumberOfEngines     139845 non-null  object \n",
      " 15  PurposeOfFlight     134176 non-null  object \n",
      " 16  AirCraftDamage      140981 non-null  object \n",
      " 17  WeatherCondition    140338 non-null  object \n",
      "dtypes: float64(2), int64(3), object(13)\n",
      "memory usage: 19.6+ MB\n"
     ]
    }
   ],
   "source": [
    "df.info()"
   ]
  },
  {
   "cell_type": "code",
   "execution_count": 102,
   "metadata": {},
   "outputs": [
    {
     "data": {
      "text/plain": [
       "ProbableCause         97167\n",
       "HighestInjuryLevel    86531\n",
       "PurposeOfFlight        8290\n",
       "State                  5358\n",
       "NumberOfEngines        2621\n",
       "WeatherCondition       2128\n",
       "AirCraftDamage         1485\n",
       "Country                 310\n",
       "Model                    36\n",
       "City                     31\n",
       "Make                      5\n",
       "AirCraftCategory          0\n",
       "EventDate                 0\n",
       "Longitude                 0\n",
       "MinorInjuryCount          0\n",
       "SeriousInjuryCount        0\n",
       "FatalInjuryCount          0\n",
       "Latitude                  0\n",
       "dtype: int64"
      ]
     },
     "execution_count": 102,
     "metadata": {},
     "output_type": "execute_result"
    }
   ],
   "source": [
    "df.isna().sum().sort_values(ascending=False)"
   ]
  },
  {
   "cell_type": "code",
   "execution_count": 103,
   "metadata": {},
   "outputs": [],
   "source": [
    "# Probable cause would be a valuable metric, however that information is missing from a really large number of entries. Therefore, the column will be dropped.\n",
    "df.drop(\"ProbableCause\", axis=1, inplace=True)"
   ]
  },
  {
   "cell_type": "code",
   "execution_count": 104,
   "metadata": {},
   "outputs": [],
   "source": [
    "# State is not super important, so we will drop it as well, along with PurposeOfFlight, Make and Model\n",
    "df.drop(columns=[\"PurposeOfFlight\", \"State\",\n",
    "        \"Make\", \"Model\"], axis=1, inplace=True)"
   ]
  },
  {
   "cell_type": "code",
   "execution_count": 105,
   "metadata": {},
   "outputs": [
    {
     "data": {
      "text/plain": [
       "HighestInjuryLevel    86531\n",
       "NumberOfEngines        2621\n",
       "WeatherCondition       2128\n",
       "AirCraftDamage         1485\n",
       "Country                 310\n",
       "City                     31\n",
       "EventDate                 0\n",
       "FatalInjuryCount          0\n",
       "SeriousInjuryCount        0\n",
       "MinorInjuryCount          0\n",
       "Latitude                  0\n",
       "Longitude                 0\n",
       "AirCraftCategory          0\n",
       "dtype: int64"
      ]
     },
     "execution_count": 105,
     "metadata": {},
     "output_type": "execute_result"
    }
   ],
   "source": [
    "df.isna().sum().sort_values(ascending=False)"
   ]
  },
  {
   "cell_type": "code",
   "execution_count": 106,
   "metadata": {},
   "outputs": [],
   "source": [
    "# HighestInjuryLevel can be extracted from the injury counts, which don't have any missing values, so we will remove this column as well and extract the information later\n",
    "df.drop(\"HighestInjuryLevel\", axis=1, inplace=True)"
   ]
  },
  {
   "cell_type": "code",
   "execution_count": 107,
   "metadata": {},
   "outputs": [
    {
     "data": {
      "text/plain": [
       "NumberOfEngines       2621\n",
       "WeatherCondition      2128\n",
       "AirCraftDamage        1485\n",
       "Country                310\n",
       "City                    31\n",
       "EventDate                0\n",
       "FatalInjuryCount         0\n",
       "SeriousInjuryCount       0\n",
       "MinorInjuryCount         0\n",
       "Latitude                 0\n",
       "Longitude                0\n",
       "AirCraftCategory         0\n",
       "dtype: int64"
      ]
     },
     "execution_count": 107,
     "metadata": {},
     "output_type": "execute_result"
    }
   ],
   "source": [
    "df.isna().sum().sort_values(ascending=False)"
   ]
  },
  {
   "cell_type": "code",
   "execution_count": 108,
   "metadata": {},
   "outputs": [
    {
     "data": {
      "text/plain": [
       "(142466, 12)"
      ]
     },
     "execution_count": 108,
     "metadata": {},
     "output_type": "execute_result"
    }
   ],
   "source": [
    "# Now we are left with all the information we want and reduced the number of missing values significantly\n",
    "df.shape"
   ]
  },
  {
   "cell_type": "code",
   "execution_count": 109,
   "metadata": {},
   "outputs": [
    {
     "data": {
      "text/plain": [
       "(137512, 12)"
      ]
     },
     "execution_count": 109,
     "metadata": {},
     "output_type": "execute_result"
    }
   ],
   "source": [
    "# Given the shear amount of data, it's acceptable to simply drop the null values\n",
    "df.dropna(inplace=True)\n",
    "df.shape"
   ]
  },
  {
   "cell_type": "code",
   "execution_count": 110,
   "metadata": {},
   "outputs": [
    {
     "data": {
      "text/plain": [
       "EventDate             0\n",
       "City                  0\n",
       "Country               0\n",
       "FatalInjuryCount      0\n",
       "SeriousInjuryCount    0\n",
       "MinorInjuryCount      0\n",
       "Latitude              0\n",
       "Longitude             0\n",
       "AirCraftCategory      0\n",
       "NumberOfEngines       0\n",
       "AirCraftDamage        0\n",
       "WeatherCondition      0\n",
       "dtype: int64"
      ]
     },
     "execution_count": 110,
     "metadata": {},
     "output_type": "execute_result"
    }
   ],
   "source": [
    "df.isna().sum().sort_values(ascending=False)"
   ]
  },
  {
   "cell_type": "code",
   "execution_count": 111,
   "metadata": {},
   "outputs": [],
   "source": [
    "# Now let's change the types of the numerical data that are mistakenly described as objects\n",
    "df.EventDate = pd.to_datetime(df.EventDate)"
   ]
  },
  {
   "cell_type": "code",
   "execution_count": 112,
   "metadata": {},
   "outputs": [
    {
     "data": {
      "text/plain": [
       "NumberOfEngines\n",
       "1        117795\n",
       "2         16947\n",
       "1,1        1342\n",
       "4           578\n",
       "3           221\n",
       "2,2         132\n",
       "2,1         132\n",
       "1,2         122\n",
       "0           108\n",
       "4,2          19\n",
       "1,           18\n",
       ",            12\n",
       ",1           11\n",
       "2,3          10\n",
       "1,0          10\n",
       "0,1           8\n",
       "4,4           6\n",
       "2,4           5\n",
       "1,4           4\n",
       "2,            4\n",
       "1,3           3\n",
       "3,4           3\n",
       "3,2           3\n",
       "4,1           3\n",
       "3,1           3\n",
       ",2            3\n",
       "3,3           1\n",
       "2,2,2         1\n",
       "4,3           1\n",
       "1,1,1         1\n",
       "0,0           1\n",
       "2,0           1\n",
       "1,1,0         1\n",
       "4,            1\n",
       ",4            1\n",
       "6,1           1\n",
       "Name: count, dtype: int64"
      ]
     },
     "execution_count": 112,
     "metadata": {},
     "output_type": "execute_result"
    }
   ],
   "source": [
    "df.NumberOfEngines.value_counts()"
   ]
  },
  {
   "cell_type": "code",
   "execution_count": 113,
   "metadata": {},
   "outputs": [
    {
     "data": {
      "text/html": [
       "<div>\n",
       "<style scoped>\n",
       "    .dataframe tbody tr th:only-of-type {\n",
       "        vertical-align: middle;\n",
       "    }\n",
       "\n",
       "    .dataframe tbody tr th {\n",
       "        vertical-align: top;\n",
       "    }\n",
       "\n",
       "    .dataframe thead th {\n",
       "        text-align: right;\n",
       "    }\n",
       "</style>\n",
       "<table border=\"1\" class=\"dataframe\">\n",
       "  <thead>\n",
       "    <tr style=\"text-align: right;\">\n",
       "      <th></th>\n",
       "      <th>EventDate</th>\n",
       "      <th>City</th>\n",
       "      <th>Country</th>\n",
       "      <th>FatalInjuryCount</th>\n",
       "      <th>SeriousInjuryCount</th>\n",
       "      <th>MinorInjuryCount</th>\n",
       "      <th>Latitude</th>\n",
       "      <th>Longitude</th>\n",
       "      <th>AirCraftCategory</th>\n",
       "      <th>NumberOfEngines</th>\n",
       "      <th>AirCraftDamage</th>\n",
       "      <th>WeatherCondition</th>\n",
       "    </tr>\n",
       "  </thead>\n",
       "  <tbody>\n",
       "    <tr>\n",
       "      <th>145</th>\n",
       "      <td>2023-08-01 17:37:00+00:00</td>\n",
       "      <td>Long Beach</td>\n",
       "      <td>United States</td>\n",
       "      <td>0</td>\n",
       "      <td>0</td>\n",
       "      <td>0</td>\n",
       "      <td>33.817930</td>\n",
       "      <td>-118.151890</td>\n",
       "      <td>AIR,AIR</td>\n",
       "      <td>1,1</td>\n",
       "      <td>Minor,Substantial</td>\n",
       "      <td>VMC</td>\n",
       "    </tr>\n",
       "    <tr>\n",
       "      <th>314</th>\n",
       "      <td>2023-05-22 11:00:00+00:00</td>\n",
       "      <td>Gueydan</td>\n",
       "      <td>United States</td>\n",
       "      <td>0</td>\n",
       "      <td>0</td>\n",
       "      <td>0</td>\n",
       "      <td>30.006686</td>\n",
       "      <td>-92.474597</td>\n",
       "      <td>AIR,AIR</td>\n",
       "      <td>1,1</td>\n",
       "      <td>Substantial,Substantial</td>\n",
       "      <td>VMC</td>\n",
       "    </tr>\n",
       "    <tr>\n",
       "      <th>437</th>\n",
       "      <td>2023-03-17 13:40:00+00:00</td>\n",
       "      <td>Mesa</td>\n",
       "      <td>United States</td>\n",
       "      <td>0</td>\n",
       "      <td>1</td>\n",
       "      <td>0</td>\n",
       "      <td>33.460000</td>\n",
       "      <td>-111.730000</td>\n",
       "      <td>AIR,AIR</td>\n",
       "      <td>1,1</td>\n",
       "      <td>Substantial,Substantial</td>\n",
       "      <td>VMC</td>\n",
       "    </tr>\n",
       "    <tr>\n",
       "      <th>450</th>\n",
       "      <td>2023-03-07 14:04:00+00:00</td>\n",
       "      <td>Hillsboro</td>\n",
       "      <td>United States</td>\n",
       "      <td>0</td>\n",
       "      <td>0</td>\n",
       "      <td>0</td>\n",
       "      <td>45.542122</td>\n",
       "      <td>-122.950720</td>\n",
       "      <td>AIR,AIR</td>\n",
       "      <td>1,1</td>\n",
       "      <td>Substantial,Minor</td>\n",
       "      <td>VMC</td>\n",
       "    </tr>\n",
       "    <tr>\n",
       "      <th>561</th>\n",
       "      <td>2022-12-27 05:00:00+00:00</td>\n",
       "      <td>Brookshire</td>\n",
       "      <td>United States</td>\n",
       "      <td>0</td>\n",
       "      <td>0</td>\n",
       "      <td>0</td>\n",
       "      <td>29.801769</td>\n",
       "      <td>-95.898943</td>\n",
       "      <td>AIR,AIR</td>\n",
       "      <td>1,1</td>\n",
       "      <td>Substantial,Minor</td>\n",
       "      <td>VMC</td>\n",
       "    </tr>\n",
       "    <tr>\n",
       "      <th>...</th>\n",
       "      <td>...</td>\n",
       "      <td>...</td>\n",
       "      <td>...</td>\n",
       "      <td>...</td>\n",
       "      <td>...</td>\n",
       "      <td>...</td>\n",
       "      <td>...</td>\n",
       "      <td>...</td>\n",
       "      <td>...</td>\n",
       "      <td>...</td>\n",
       "      <td>...</td>\n",
       "      <td>...</td>\n",
       "    </tr>\n",
       "    <tr>\n",
       "      <th>140972</th>\n",
       "      <td>1964-04-30 04:00:00+00:00</td>\n",
       "      <td>ENID</td>\n",
       "      <td>United States</td>\n",
       "      <td>0</td>\n",
       "      <td>0</td>\n",
       "      <td>0</td>\n",
       "      <td>0.000000</td>\n",
       "      <td>0.000000</td>\n",
       "      <td>AIR,AIR</td>\n",
       "      <td>1,1</td>\n",
       "      <td>Minor,Substantial</td>\n",
       "      <td>VFR</td>\n",
       "    </tr>\n",
       "    <tr>\n",
       "      <th>141161</th>\n",
       "      <td>1964-04-15 04:00:00+00:00</td>\n",
       "      <td>TOLLESON</td>\n",
       "      <td>United States</td>\n",
       "      <td>0</td>\n",
       "      <td>0</td>\n",
       "      <td>0</td>\n",
       "      <td>0.000000</td>\n",
       "      <td>0.000000</td>\n",
       "      <td>AIR,AIR</td>\n",
       "      <td>1,1</td>\n",
       "      <td>Minor,Minor</td>\n",
       "      <td>VFR</td>\n",
       "    </tr>\n",
       "    <tr>\n",
       "      <th>141779</th>\n",
       "      <td>1964-02-22 05:00:00+00:00</td>\n",
       "      <td>ALBUQUERQUE</td>\n",
       "      <td>United States</td>\n",
       "      <td>0</td>\n",
       "      <td>0</td>\n",
       "      <td>0</td>\n",
       "      <td>0.000000</td>\n",
       "      <td>0.000000</td>\n",
       "      <td>AIR,AIR</td>\n",
       "      <td>1,1</td>\n",
       "      <td>Substantial,Minor</td>\n",
       "      <td>VFR</td>\n",
       "    </tr>\n",
       "    <tr>\n",
       "      <th>142110</th>\n",
       "      <td>1964-01-22 05:00:00+00:00</td>\n",
       "      <td>MOULTRIE</td>\n",
       "      <td>United States</td>\n",
       "      <td>0</td>\n",
       "      <td>0</td>\n",
       "      <td>0</td>\n",
       "      <td>0.000000</td>\n",
       "      <td>0.000000</td>\n",
       "      <td>AIR,AIR</td>\n",
       "      <td>1,1</td>\n",
       "      <td>Substantial,Minor</td>\n",
       "      <td>VFR</td>\n",
       "    </tr>\n",
       "    <tr>\n",
       "      <th>142265</th>\n",
       "      <td>1964-01-04 05:00:00+00:00</td>\n",
       "      <td>PALO ALTO</td>\n",
       "      <td>United States</td>\n",
       "      <td>0</td>\n",
       "      <td>1</td>\n",
       "      <td>0</td>\n",
       "      <td>0.000000</td>\n",
       "      <td>0.000000</td>\n",
       "      <td>AIR,AIR</td>\n",
       "      <td>1,1</td>\n",
       "      <td>Destroyed,Substantial</td>\n",
       "      <td>VFR</td>\n",
       "    </tr>\n",
       "  </tbody>\n",
       "</table>\n",
       "<p>1342 rows × 12 columns</p>\n",
       "</div>"
      ],
      "text/plain": [
       "                       EventDate         City        Country  \\\n",
       "145    2023-08-01 17:37:00+00:00   Long Beach  United States   \n",
       "314    2023-05-22 11:00:00+00:00      Gueydan  United States   \n",
       "437    2023-03-17 13:40:00+00:00         Mesa  United States   \n",
       "450    2023-03-07 14:04:00+00:00    Hillsboro  United States   \n",
       "561    2022-12-27 05:00:00+00:00   Brookshire  United States   \n",
       "...                          ...          ...            ...   \n",
       "140972 1964-04-30 04:00:00+00:00         ENID  United States   \n",
       "141161 1964-04-15 04:00:00+00:00     TOLLESON  United States   \n",
       "141779 1964-02-22 05:00:00+00:00  ALBUQUERQUE  United States   \n",
       "142110 1964-01-22 05:00:00+00:00     MOULTRIE  United States   \n",
       "142265 1964-01-04 05:00:00+00:00    PALO ALTO  United States   \n",
       "\n",
       "        FatalInjuryCount  SeriousInjuryCount  MinorInjuryCount   Latitude  \\\n",
       "145                    0                   0                 0  33.817930   \n",
       "314                    0                   0                 0  30.006686   \n",
       "437                    0                   1                 0  33.460000   \n",
       "450                    0                   0                 0  45.542122   \n",
       "561                    0                   0                 0  29.801769   \n",
       "...                  ...                 ...               ...        ...   \n",
       "140972                 0                   0                 0   0.000000   \n",
       "141161                 0                   0                 0   0.000000   \n",
       "141779                 0                   0                 0   0.000000   \n",
       "142110                 0                   0                 0   0.000000   \n",
       "142265                 0                   1                 0   0.000000   \n",
       "\n",
       "         Longitude AirCraftCategory NumberOfEngines           AirCraftDamage  \\\n",
       "145    -118.151890          AIR,AIR             1,1        Minor,Substantial   \n",
       "314     -92.474597          AIR,AIR             1,1  Substantial,Substantial   \n",
       "437    -111.730000          AIR,AIR             1,1  Substantial,Substantial   \n",
       "450    -122.950720          AIR,AIR             1,1        Substantial,Minor   \n",
       "561     -95.898943          AIR,AIR             1,1        Substantial,Minor   \n",
       "...            ...              ...             ...                      ...   \n",
       "140972    0.000000          AIR,AIR             1,1        Minor,Substantial   \n",
       "141161    0.000000          AIR,AIR             1,1              Minor,Minor   \n",
       "141779    0.000000          AIR,AIR             1,1        Substantial,Minor   \n",
       "142110    0.000000          AIR,AIR             1,1        Substantial,Minor   \n",
       "142265    0.000000          AIR,AIR             1,1    Destroyed,Substantial   \n",
       "\n",
       "       WeatherCondition  \n",
       "145                 VMC  \n",
       "314                 VMC  \n",
       "437                 VMC  \n",
       "450                 VMC  \n",
       "561                 VMC  \n",
       "...                 ...  \n",
       "140972              VFR  \n",
       "141161              VFR  \n",
       "141779              VFR  \n",
       "142110              VFR  \n",
       "142265              VFR  \n",
       "\n",
       "[1342 rows x 12 columns]"
      ]
     },
     "execution_count": 113,
     "metadata": {},
     "output_type": "execute_result"
    }
   ],
   "source": [
    "# The number of engines seems to be in a strange format, let's check\n",
    "df.loc[df.NumberOfEngines == \"1,1\"]"
   ]
  },
  {
   "cell_type": "code",
   "execution_count": 114,
   "metadata": {},
   "outputs": [
    {
     "data": {
      "text/plain": [
       "AirCraftCategory\n",
       "AIR            135649\n",
       "AIR,AIR          1762\n",
       "AIR,HELI           32\n",
       "HELI,AIR           24\n",
       "AIR,GLI            21\n",
       "GLI,AIR            13\n",
       "AIR,ULTR            4\n",
       "AIR,AIR,AIR         2\n",
       "AIR,UNK             1\n",
       "AIR,AIR,GLI         1\n",
       "PPAR,AIR            1\n",
       "AIR,                1\n",
       "GYRO,AIR            1\n",
       "Name: count, dtype: int64"
      ]
     },
     "execution_count": 114,
     "metadata": {},
     "output_type": "execute_result"
    }
   ],
   "source": [
    "# We can see now that more than one aircraft has been involved in this accident, so the number for each airplane is separated by a comma. Let's check for aircraft type\n",
    "df.AirCraftCategory.value_counts()"
   ]
  },
  {
   "cell_type": "code",
   "execution_count": 115,
   "metadata": {},
   "outputs": [],
   "source": [
    "# We are only interested in accidents involving airplanes, so we can remove some of this data\n",
    "itemList = [\"HELI\", \"UNK\", \"GLI\", \"ULTR\", \"GYRO\", \"PPAR\"]\n",
    "for string in itemList:\n",
    "    df.drop(df[df.AirCraftCategory.str.contains(string)].index, inplace=True)"
   ]
  },
  {
   "cell_type": "code",
   "execution_count": 116,
   "metadata": {},
   "outputs": [
    {
     "data": {
      "text/plain": [
       "AirCraftCategory\n",
       "AIR            135649\n",
       "AIR,AIR          1762\n",
       "AIR,AIR,AIR         2\n",
       "AIR,                1\n",
       "Name: count, dtype: int64"
      ]
     },
     "execution_count": 116,
     "metadata": {},
     "output_type": "execute_result"
    }
   ],
   "source": [
    "df.AirCraftCategory.value_counts()"
   ]
  },
  {
   "cell_type": "code",
   "execution_count": 117,
   "metadata": {},
   "outputs": [],
   "source": [
    "df.drop(df[df.AirCraftCategory == \"AIR,\"].index, inplace=True)"
   ]
  },
  {
   "cell_type": "code",
   "execution_count": 118,
   "metadata": {},
   "outputs": [
    {
     "data": {
      "text/plain": [
       "AirCraftCategory\n",
       "AIR            135649\n",
       "AIR,AIR          1762\n",
       "AIR,AIR,AIR         2\n",
       "Name: count, dtype: int64"
      ]
     },
     "execution_count": 118,
     "metadata": {},
     "output_type": "execute_result"
    }
   ],
   "source": [
    "df.AirCraftCategory.value_counts()"
   ]
  },
  {
   "cell_type": "markdown",
   "metadata": {},
   "source": [
    "## Exploratory Analysis and Feature Engineering\n"
   ]
  },
  {
   "cell_type": "code",
   "execution_count": 119,
   "metadata": {},
   "outputs": [],
   "source": [
    "# Let's extract the date and the time of the accidents\n",
    "df.EventDate = pd.to_datetime(df.EventDate)\n",
    "df.EventDate = df.EventDate.dt.tz_convert(\"US/Eastern\")"
   ]
  },
  {
   "cell_type": "code",
   "execution_count": 120,
   "metadata": {},
   "outputs": [],
   "source": [
    "# Let's first extract some relevant information from the data and create new columns\n",
    "df[\"EventTime\"] = df.EventDate.dt.timetz"
   ]
  },
  {
   "cell_type": "code",
   "execution_count": 121,
   "metadata": {},
   "outputs": [
    {
     "data": {
      "text/plain": [
       "4         11:40:00\n",
       "5         06:57:00\n",
       "6         08:15:00\n",
       "9         12:44:00\n",
       "10        08:15:00\n",
       "            ...   \n",
       "142460    00:00:00\n",
       "142461    00:00:00\n",
       "142462    00:00:00\n",
       "142464    00:00:00\n",
       "142465    11:55:00\n",
       "Name: EventTime, Length: 137413, dtype: object"
      ]
     },
     "execution_count": 121,
     "metadata": {},
     "output_type": "execute_result"
    }
   ],
   "source": [
    "df.EventTime"
   ]
  },
  {
   "cell_type": "code",
   "execution_count": 122,
   "metadata": {},
   "outputs": [],
   "source": [
    "df.EventTime = df.EventTime.astype(str).str.replace(\":\", \"\")"
   ]
  },
  {
   "cell_type": "code",
   "execution_count": 123,
   "metadata": {},
   "outputs": [
    {
     "data": {
      "text/plain": [
       "4         114000\n",
       "5         065700\n",
       "6         081500\n",
       "9         124400\n",
       "10        081500\n",
       "           ...  \n",
       "142460    000000\n",
       "142461    000000\n",
       "142462    000000\n",
       "142464    000000\n",
       "142465    115500\n",
       "Name: EventTime, Length: 137413, dtype: object"
      ]
     },
     "execution_count": 123,
     "metadata": {},
     "output_type": "execute_result"
    }
   ],
   "source": [
    "df.EventTime"
   ]
  },
  {
   "cell_type": "code",
   "execution_count": 124,
   "metadata": {},
   "outputs": [
    {
     "data": {
      "text/plain": [
       "4         114000\n",
       "5          65700\n",
       "6          81500\n",
       "9         124400\n",
       "10         81500\n",
       "           ...  \n",
       "142460         0\n",
       "142461         0\n",
       "142462         0\n",
       "142464         0\n",
       "142465    115500\n",
       "Name: EventTime, Length: 137413, dtype: int64"
      ]
     },
     "execution_count": 124,
     "metadata": {},
     "output_type": "execute_result"
    }
   ],
   "source": [
    "df.EventTime = df.EventTime.astype(int)\n",
    "df.EventTime"
   ]
  },
  {
   "cell_type": "code",
   "execution_count": 125,
   "metadata": {},
   "outputs": [
    {
     "data": {
      "text/plain": [
       "Index(['EventDate', 'City', 'Country', 'FatalInjuryCount',\n",
       "       'SeriousInjuryCount', 'MinorInjuryCount', 'Latitude', 'Longitude',\n",
       "       'AirCraftCategory', 'NumberOfEngines', 'AirCraftDamage',\n",
       "       'WeatherCondition', 'EventTime'],\n",
       "      dtype='object')"
      ]
     },
     "execution_count": 125,
     "metadata": {},
     "output_type": "execute_result"
    }
   ],
   "source": [
    "df.columns"
   ]
  },
  {
   "cell_type": "code",
   "execution_count": 126,
   "metadata": {},
   "outputs": [],
   "source": [
    "df.EventDate = pd.to_datetime(df.EventDate.dt.strftime(\"%Y-%m-%d\"))"
   ]
  },
  {
   "cell_type": "code",
   "execution_count": 127,
   "metadata": {},
   "outputs": [
    {
     "data": {
      "text/plain": [
       "4        2024-01-01\n",
       "5        2023-12-28\n",
       "6        2023-12-26\n",
       "9        2023-12-12\n",
       "10       2023-12-11\n",
       "            ...    \n",
       "142460   1962-01-20\n",
       "142461   1962-01-16\n",
       "142462   1962-01-14\n",
       "142464   1962-01-01\n",
       "142465   1948-10-24\n",
       "Name: EventDate, Length: 137413, dtype: datetime64[ns]"
      ]
     },
     "execution_count": 127,
     "metadata": {},
     "output_type": "execute_result"
    }
   ],
   "source": [
    "df.EventDate"
   ]
  },
  {
   "cell_type": "code",
   "execution_count": 128,
   "metadata": {},
   "outputs": [
    {
     "data": {
      "text/html": [
       "<div>\n",
       "<style scoped>\n",
       "    .dataframe tbody tr th:only-of-type {\n",
       "        vertical-align: middle;\n",
       "    }\n",
       "\n",
       "    .dataframe tbody tr th {\n",
       "        vertical-align: top;\n",
       "    }\n",
       "\n",
       "    .dataframe thead th {\n",
       "        text-align: right;\n",
       "    }\n",
       "</style>\n",
       "<table border=\"1\" class=\"dataframe\">\n",
       "  <thead>\n",
       "    <tr style=\"text-align: right;\">\n",
       "      <th></th>\n",
       "      <th>EventDate</th>\n",
       "      <th>City</th>\n",
       "      <th>Country</th>\n",
       "      <th>FatalInjuryCount</th>\n",
       "      <th>SeriousInjuryCount</th>\n",
       "      <th>MinorInjuryCount</th>\n",
       "      <th>Latitude</th>\n",
       "      <th>Longitude</th>\n",
       "      <th>AirCraftCategory</th>\n",
       "      <th>NumberOfEngines</th>\n",
       "      <th>AirCraftDamage</th>\n",
       "      <th>WeatherCondition</th>\n",
       "      <th>EventTime</th>\n",
       "    </tr>\n",
       "  </thead>\n",
       "  <tbody>\n",
       "    <tr>\n",
       "      <th>4</th>\n",
       "      <td>2024-01-01</td>\n",
       "      <td>Mansfield</td>\n",
       "      <td>United States</td>\n",
       "      <td>0</td>\n",
       "      <td>0</td>\n",
       "      <td>0</td>\n",
       "      <td>32.074121</td>\n",
       "      <td>-93.765392</td>\n",
       "      <td>AIR</td>\n",
       "      <td>1</td>\n",
       "      <td>Destroyed</td>\n",
       "      <td>VMC</td>\n",
       "      <td>114000</td>\n",
       "    </tr>\n",
       "    <tr>\n",
       "      <th>5</th>\n",
       "      <td>2023-12-28</td>\n",
       "      <td>Lake Havasu</td>\n",
       "      <td>United States</td>\n",
       "      <td>0</td>\n",
       "      <td>0</td>\n",
       "      <td>1</td>\n",
       "      <td>34.511090</td>\n",
       "      <td>-114.382330</td>\n",
       "      <td>AIR</td>\n",
       "      <td>1</td>\n",
       "      <td>Substantial</td>\n",
       "      <td>VMC</td>\n",
       "      <td>65700</td>\n",
       "    </tr>\n",
       "    <tr>\n",
       "      <th>6</th>\n",
       "      <td>2023-12-26</td>\n",
       "      <td>Ponca City</td>\n",
       "      <td>United States</td>\n",
       "      <td>0</td>\n",
       "      <td>0</td>\n",
       "      <td>0</td>\n",
       "      <td>36.731955</td>\n",
       "      <td>-97.099782</td>\n",
       "      <td>AIR</td>\n",
       "      <td>2</td>\n",
       "      <td>Substantial</td>\n",
       "      <td>VMC</td>\n",
       "      <td>81500</td>\n",
       "    </tr>\n",
       "    <tr>\n",
       "      <th>9</th>\n",
       "      <td>2023-12-12</td>\n",
       "      <td>Sidney</td>\n",
       "      <td>United States</td>\n",
       "      <td>0</td>\n",
       "      <td>0</td>\n",
       "      <td>0</td>\n",
       "      <td>40.241278</td>\n",
       "      <td>-84.147861</td>\n",
       "      <td>AIR</td>\n",
       "      <td>1</td>\n",
       "      <td>Substantial</td>\n",
       "      <td>VMC</td>\n",
       "      <td>124400</td>\n",
       "    </tr>\n",
       "    <tr>\n",
       "      <th>10</th>\n",
       "      <td>2023-12-11</td>\n",
       "      <td>Newport News</td>\n",
       "      <td>United States</td>\n",
       "      <td>0</td>\n",
       "      <td>0</td>\n",
       "      <td>0</td>\n",
       "      <td>37.131670</td>\n",
       "      <td>-76.488330</td>\n",
       "      <td>AIR</td>\n",
       "      <td>1</td>\n",
       "      <td>Unknown</td>\n",
       "      <td>VMC</td>\n",
       "      <td>81500</td>\n",
       "    </tr>\n",
       "  </tbody>\n",
       "</table>\n",
       "</div>"
      ],
      "text/plain": [
       "    EventDate          City        Country  FatalInjuryCount  \\\n",
       "4  2024-01-01     Mansfield  United States                 0   \n",
       "5  2023-12-28   Lake Havasu  United States                 0   \n",
       "6  2023-12-26    Ponca City  United States                 0   \n",
       "9  2023-12-12        Sidney  United States                 0   \n",
       "10 2023-12-11  Newport News  United States                 0   \n",
       "\n",
       "    SeriousInjuryCount  MinorInjuryCount   Latitude   Longitude  \\\n",
       "4                    0                 0  32.074121  -93.765392   \n",
       "5                    0                 1  34.511090 -114.382330   \n",
       "6                    0                 0  36.731955  -97.099782   \n",
       "9                    0                 0  40.241278  -84.147861   \n",
       "10                   0                 0  37.131670  -76.488330   \n",
       "\n",
       "   AirCraftCategory NumberOfEngines AirCraftDamage WeatherCondition  EventTime  \n",
       "4               AIR               1      Destroyed              VMC     114000  \n",
       "5               AIR               1    Substantial              VMC      65700  \n",
       "6               AIR               2    Substantial              VMC      81500  \n",
       "9               AIR               1    Substantial              VMC     124400  \n",
       "10              AIR               1        Unknown              VMC      81500  "
      ]
     },
     "execution_count": 128,
     "metadata": {},
     "output_type": "execute_result"
    }
   ],
   "source": [
    "df.head()"
   ]
  },
  {
   "cell_type": "code",
   "execution_count": 129,
   "metadata": {},
   "outputs": [
    {
     "data": {
      "text/html": [
       "<div>\n",
       "<style scoped>\n",
       "    .dataframe tbody tr th:only-of-type {\n",
       "        vertical-align: middle;\n",
       "    }\n",
       "\n",
       "    .dataframe tbody tr th {\n",
       "        vertical-align: top;\n",
       "    }\n",
       "\n",
       "    .dataframe thead th {\n",
       "        text-align: right;\n",
       "    }\n",
       "</style>\n",
       "<table border=\"1\" class=\"dataframe\">\n",
       "  <thead>\n",
       "    <tr style=\"text-align: right;\">\n",
       "      <th></th>\n",
       "      <th>City</th>\n",
       "      <th>Country</th>\n",
       "      <th>FatalInjuryCount</th>\n",
       "      <th>SeriousInjuryCount</th>\n",
       "      <th>MinorInjuryCount</th>\n",
       "      <th>Latitude</th>\n",
       "      <th>Longitude</th>\n",
       "      <th>AirCraftCategory</th>\n",
       "      <th>NumberOfEngines</th>\n",
       "      <th>AirCraftDamage</th>\n",
       "      <th>WeatherCondition</th>\n",
       "      <th>EventTime</th>\n",
       "    </tr>\n",
       "    <tr>\n",
       "      <th>EventDate</th>\n",
       "      <th></th>\n",
       "      <th></th>\n",
       "      <th></th>\n",
       "      <th></th>\n",
       "      <th></th>\n",
       "      <th></th>\n",
       "      <th></th>\n",
       "      <th></th>\n",
       "      <th></th>\n",
       "      <th></th>\n",
       "      <th></th>\n",
       "      <th></th>\n",
       "    </tr>\n",
       "  </thead>\n",
       "  <tbody>\n",
       "    <tr>\n",
       "      <th>2024-01-01</th>\n",
       "      <td>Mansfield</td>\n",
       "      <td>United States</td>\n",
       "      <td>0</td>\n",
       "      <td>0</td>\n",
       "      <td>0</td>\n",
       "      <td>32.074121</td>\n",
       "      <td>-93.765392</td>\n",
       "      <td>AIR</td>\n",
       "      <td>1</td>\n",
       "      <td>Destroyed</td>\n",
       "      <td>VMC</td>\n",
       "      <td>114000</td>\n",
       "    </tr>\n",
       "    <tr>\n",
       "      <th>2023-12-28</th>\n",
       "      <td>Lake Havasu</td>\n",
       "      <td>United States</td>\n",
       "      <td>0</td>\n",
       "      <td>0</td>\n",
       "      <td>1</td>\n",
       "      <td>34.511090</td>\n",
       "      <td>-114.382330</td>\n",
       "      <td>AIR</td>\n",
       "      <td>1</td>\n",
       "      <td>Substantial</td>\n",
       "      <td>VMC</td>\n",
       "      <td>65700</td>\n",
       "    </tr>\n",
       "    <tr>\n",
       "      <th>2023-12-26</th>\n",
       "      <td>Ponca City</td>\n",
       "      <td>United States</td>\n",
       "      <td>0</td>\n",
       "      <td>0</td>\n",
       "      <td>0</td>\n",
       "      <td>36.731955</td>\n",
       "      <td>-97.099782</td>\n",
       "      <td>AIR</td>\n",
       "      <td>2</td>\n",
       "      <td>Substantial</td>\n",
       "      <td>VMC</td>\n",
       "      <td>81500</td>\n",
       "    </tr>\n",
       "    <tr>\n",
       "      <th>2023-12-12</th>\n",
       "      <td>Sidney</td>\n",
       "      <td>United States</td>\n",
       "      <td>0</td>\n",
       "      <td>0</td>\n",
       "      <td>0</td>\n",
       "      <td>40.241278</td>\n",
       "      <td>-84.147861</td>\n",
       "      <td>AIR</td>\n",
       "      <td>1</td>\n",
       "      <td>Substantial</td>\n",
       "      <td>VMC</td>\n",
       "      <td>124400</td>\n",
       "    </tr>\n",
       "    <tr>\n",
       "      <th>2023-12-11</th>\n",
       "      <td>Newport News</td>\n",
       "      <td>United States</td>\n",
       "      <td>0</td>\n",
       "      <td>0</td>\n",
       "      <td>0</td>\n",
       "      <td>37.131670</td>\n",
       "      <td>-76.488330</td>\n",
       "      <td>AIR</td>\n",
       "      <td>1</td>\n",
       "      <td>Unknown</td>\n",
       "      <td>VMC</td>\n",
       "      <td>81500</td>\n",
       "    </tr>\n",
       "  </tbody>\n",
       "</table>\n",
       "</div>"
      ],
      "text/plain": [
       "                    City        Country  FatalInjuryCount  SeriousInjuryCount  \\\n",
       "EventDate                                                                       \n",
       "2024-01-01     Mansfield  United States                 0                   0   \n",
       "2023-12-28   Lake Havasu  United States                 0                   0   \n",
       "2023-12-26    Ponca City  United States                 0                   0   \n",
       "2023-12-12        Sidney  United States                 0                   0   \n",
       "2023-12-11  Newport News  United States                 0                   0   \n",
       "\n",
       "            MinorInjuryCount   Latitude   Longitude AirCraftCategory  \\\n",
       "EventDate                                                              \n",
       "2024-01-01                 0  32.074121  -93.765392              AIR   \n",
       "2023-12-28                 1  34.511090 -114.382330              AIR   \n",
       "2023-12-26                 0  36.731955  -97.099782              AIR   \n",
       "2023-12-12                 0  40.241278  -84.147861              AIR   \n",
       "2023-12-11                 0  37.131670  -76.488330              AIR   \n",
       "\n",
       "           NumberOfEngines AirCraftDamage WeatherCondition  EventTime  \n",
       "EventDate                                                              \n",
       "2024-01-01               1      Destroyed              VMC     114000  \n",
       "2023-12-28               1    Substantial              VMC      65700  \n",
       "2023-12-26               2    Substantial              VMC      81500  \n",
       "2023-12-12               1    Substantial              VMC     124400  \n",
       "2023-12-11               1        Unknown              VMC      81500  "
      ]
     },
     "execution_count": 129,
     "metadata": {},
     "output_type": "execute_result"
    }
   ],
   "source": [
    "# Let's make the date the index of the data frame\n",
    "df.set_index(df.EventDate, inplace=True)\n",
    "df.drop(columns=\"EventDate\", inplace=True)\n",
    "df.head()"
   ]
  },
  {
   "cell_type": "code",
   "execution_count": 130,
   "metadata": {},
   "outputs": [],
   "source": [
    "# Let's extract the year from the date. That can be useful to determine how accidents have changed through the years\n",
    "df[\"Year\"] = df.index.year"
   ]
  },
  {
   "cell_type": "code",
   "execution_count": 131,
   "metadata": {},
   "outputs": [
    {
     "data": {
      "text/html": [
       "<div>\n",
       "<style scoped>\n",
       "    .dataframe tbody tr th:only-of-type {\n",
       "        vertical-align: middle;\n",
       "    }\n",
       "\n",
       "    .dataframe tbody tr th {\n",
       "        vertical-align: top;\n",
       "    }\n",
       "\n",
       "    .dataframe thead th {\n",
       "        text-align: right;\n",
       "    }\n",
       "</style>\n",
       "<table border=\"1\" class=\"dataframe\">\n",
       "  <thead>\n",
       "    <tr style=\"text-align: right;\">\n",
       "      <th></th>\n",
       "      <th>City</th>\n",
       "      <th>Country</th>\n",
       "      <th>FatalInjuryCount</th>\n",
       "      <th>SeriousInjuryCount</th>\n",
       "      <th>MinorInjuryCount</th>\n",
       "      <th>Latitude</th>\n",
       "      <th>Longitude</th>\n",
       "      <th>AirCraftCategory</th>\n",
       "      <th>NumberOfEngines</th>\n",
       "      <th>AirCraftDamage</th>\n",
       "      <th>WeatherCondition</th>\n",
       "      <th>EventTime</th>\n",
       "      <th>Year</th>\n",
       "    </tr>\n",
       "    <tr>\n",
       "      <th>EventDate</th>\n",
       "      <th></th>\n",
       "      <th></th>\n",
       "      <th></th>\n",
       "      <th></th>\n",
       "      <th></th>\n",
       "      <th></th>\n",
       "      <th></th>\n",
       "      <th></th>\n",
       "      <th></th>\n",
       "      <th></th>\n",
       "      <th></th>\n",
       "      <th></th>\n",
       "      <th></th>\n",
       "    </tr>\n",
       "  </thead>\n",
       "  <tbody>\n",
       "    <tr>\n",
       "      <th>2024-01-01</th>\n",
       "      <td>Mansfield</td>\n",
       "      <td>United States</td>\n",
       "      <td>0</td>\n",
       "      <td>0</td>\n",
       "      <td>0</td>\n",
       "      <td>32.074121</td>\n",
       "      <td>-93.765392</td>\n",
       "      <td>AIR</td>\n",
       "      <td>1</td>\n",
       "      <td>Destroyed</td>\n",
       "      <td>VMC</td>\n",
       "      <td>114000</td>\n",
       "      <td>2024</td>\n",
       "    </tr>\n",
       "    <tr>\n",
       "      <th>2023-12-28</th>\n",
       "      <td>Lake Havasu</td>\n",
       "      <td>United States</td>\n",
       "      <td>0</td>\n",
       "      <td>0</td>\n",
       "      <td>1</td>\n",
       "      <td>34.511090</td>\n",
       "      <td>-114.382330</td>\n",
       "      <td>AIR</td>\n",
       "      <td>1</td>\n",
       "      <td>Substantial</td>\n",
       "      <td>VMC</td>\n",
       "      <td>65700</td>\n",
       "      <td>2023</td>\n",
       "    </tr>\n",
       "    <tr>\n",
       "      <th>2023-12-26</th>\n",
       "      <td>Ponca City</td>\n",
       "      <td>United States</td>\n",
       "      <td>0</td>\n",
       "      <td>0</td>\n",
       "      <td>0</td>\n",
       "      <td>36.731955</td>\n",
       "      <td>-97.099782</td>\n",
       "      <td>AIR</td>\n",
       "      <td>2</td>\n",
       "      <td>Substantial</td>\n",
       "      <td>VMC</td>\n",
       "      <td>81500</td>\n",
       "      <td>2023</td>\n",
       "    </tr>\n",
       "    <tr>\n",
       "      <th>2023-12-12</th>\n",
       "      <td>Sidney</td>\n",
       "      <td>United States</td>\n",
       "      <td>0</td>\n",
       "      <td>0</td>\n",
       "      <td>0</td>\n",
       "      <td>40.241278</td>\n",
       "      <td>-84.147861</td>\n",
       "      <td>AIR</td>\n",
       "      <td>1</td>\n",
       "      <td>Substantial</td>\n",
       "      <td>VMC</td>\n",
       "      <td>124400</td>\n",
       "      <td>2023</td>\n",
       "    </tr>\n",
       "    <tr>\n",
       "      <th>2023-12-11</th>\n",
       "      <td>Newport News</td>\n",
       "      <td>United States</td>\n",
       "      <td>0</td>\n",
       "      <td>0</td>\n",
       "      <td>0</td>\n",
       "      <td>37.131670</td>\n",
       "      <td>-76.488330</td>\n",
       "      <td>AIR</td>\n",
       "      <td>1</td>\n",
       "      <td>Unknown</td>\n",
       "      <td>VMC</td>\n",
       "      <td>81500</td>\n",
       "      <td>2023</td>\n",
       "    </tr>\n",
       "  </tbody>\n",
       "</table>\n",
       "</div>"
      ],
      "text/plain": [
       "                    City        Country  FatalInjuryCount  SeriousInjuryCount  \\\n",
       "EventDate                                                                       \n",
       "2024-01-01     Mansfield  United States                 0                   0   \n",
       "2023-12-28   Lake Havasu  United States                 0                   0   \n",
       "2023-12-26    Ponca City  United States                 0                   0   \n",
       "2023-12-12        Sidney  United States                 0                   0   \n",
       "2023-12-11  Newport News  United States                 0                   0   \n",
       "\n",
       "            MinorInjuryCount   Latitude   Longitude AirCraftCategory  \\\n",
       "EventDate                                                              \n",
       "2024-01-01                 0  32.074121  -93.765392              AIR   \n",
       "2023-12-28                 1  34.511090 -114.382330              AIR   \n",
       "2023-12-26                 0  36.731955  -97.099782              AIR   \n",
       "2023-12-12                 0  40.241278  -84.147861              AIR   \n",
       "2023-12-11                 0  37.131670  -76.488330              AIR   \n",
       "\n",
       "           NumberOfEngines AirCraftDamage WeatherCondition  EventTime  Year  \n",
       "EventDate                                                                    \n",
       "2024-01-01               1      Destroyed              VMC     114000  2024  \n",
       "2023-12-28               1    Substantial              VMC      65700  2023  \n",
       "2023-12-26               2    Substantial              VMC      81500  2023  \n",
       "2023-12-12               1    Substantial              VMC     124400  2023  \n",
       "2023-12-11               1        Unknown              VMC      81500  2023  "
      ]
     },
     "execution_count": 131,
     "metadata": {},
     "output_type": "execute_result"
    }
   ],
   "source": [
    "df.head()"
   ]
  },
  {
   "cell_type": "code",
   "execution_count": 132,
   "metadata": {},
   "outputs": [],
   "source": [
    "# Let's create a new column to store the accident severity based on the amount and type of injury\n",
    "df[\"AccidentSeverity\"] = pd.Series()"
   ]
  },
  {
   "cell_type": "code",
   "execution_count": 133,
   "metadata": {},
   "outputs": [],
   "source": [
    "df.loc[df.FatalInjuryCount > 0, \"AccidentSeverity\"] = \"Fatal\"\n",
    "df.loc[(df.SeriousInjuryCount > 0) & (df.FatalInjuryCount == 0), \"AccidentSeverity\"] = (\n",
    "    \"Serious\"\n",
    ")\n",
    "df.loc[\n",
    "    (df.MinorInjuryCount > 0)\n",
    "    & (df.SeriousInjuryCount == 0)\n",
    "    & (df.FatalInjuryCount == 0),\n",
    "    \"AccidentSeverity\",\n",
    "] = \"Minor\"\n",
    "df.loc[\n",
    "    (df.MinorInjuryCount == 0)\n",
    "    & (df.SeriousInjuryCount == 0)\n",
    "    & (df.FatalInjuryCount == 0),\n",
    "    \"AccidentSeverity\",\n",
    "] = \"No injuries\""
   ]
  },
  {
   "cell_type": "code",
   "execution_count": 134,
   "metadata": {},
   "outputs": [],
   "source": [
    "# Let's rename these columns for brevity\n",
    "df.rename(\n",
    "    columns={\n",
    "        \"FatalInjuryCount\": \"FatalInjuries\",\n",
    "        \"SeriousInjuryCount\": \"SeriousInjuries\",\n",
    "        \"MinorInjuryCount\": \"MinorInjuries\",\n",
    "    },\n",
    "    inplace=True,\n",
    ")"
   ]
  },
  {
   "cell_type": "code",
   "execution_count": 135,
   "metadata": {},
   "outputs": [
    {
     "data": {
      "text/plain": [
       "AccidentSeverity\n",
       "No injuries    85000\n",
       "Fatal          22089\n",
       "Minor          18800\n",
       "Serious        11524\n",
       "Name: count, dtype: int64"
      ]
     },
     "execution_count": 135,
     "metadata": {},
     "output_type": "execute_result"
    }
   ],
   "source": [
    "df.AccidentSeverity.value_counts()"
   ]
  },
  {
   "cell_type": "code",
   "execution_count": 136,
   "metadata": {},
   "outputs": [
    {
     "data": {
      "text/plain": [
       "AirCraftCategory\n",
       "AIR            135649\n",
       "AIR,AIR          1762\n",
       "AIR,AIR,AIR         2\n",
       "Name: count, dtype: int64"
      ]
     },
     "execution_count": 136,
     "metadata": {},
     "output_type": "execute_result"
    }
   ],
   "source": [
    "# Let's transform the category of the aircraft into the number of airplanes involved in the accident, since they all have the type \"Airplane\"\n",
    "df.AirCraftCategory.value_counts()"
   ]
  },
  {
   "cell_type": "code",
   "execution_count": 137,
   "metadata": {},
   "outputs": [],
   "source": [
    "df[\"NumberOfAircraftInvolved\"] = df.AirCraftCategory.str.count(\"AIR\")"
   ]
  },
  {
   "cell_type": "code",
   "execution_count": 138,
   "metadata": {},
   "outputs": [
    {
     "data": {
      "text/plain": [
       "NumberOfAircraftInvolved\n",
       "1    135649\n",
       "2      1762\n",
       "3         2\n",
       "Name: count, dtype: int64"
      ]
     },
     "execution_count": 138,
     "metadata": {},
     "output_type": "execute_result"
    }
   ],
   "source": [
    "df.NumberOfAircraftInvolved.value_counts()"
   ]
  },
  {
   "cell_type": "code",
   "execution_count": 139,
   "metadata": {},
   "outputs": [
    {
     "data": {
      "text/html": [
       "<div>\n",
       "<style scoped>\n",
       "    .dataframe tbody tr th:only-of-type {\n",
       "        vertical-align: middle;\n",
       "    }\n",
       "\n",
       "    .dataframe tbody tr th {\n",
       "        vertical-align: top;\n",
       "    }\n",
       "\n",
       "    .dataframe thead th {\n",
       "        text-align: right;\n",
       "    }\n",
       "</style>\n",
       "<table border=\"1\" class=\"dataframe\">\n",
       "  <thead>\n",
       "    <tr style=\"text-align: right;\">\n",
       "      <th></th>\n",
       "      <th>City</th>\n",
       "      <th>Country</th>\n",
       "      <th>FatalInjuries</th>\n",
       "      <th>SeriousInjuries</th>\n",
       "      <th>MinorInjuries</th>\n",
       "      <th>Latitude</th>\n",
       "      <th>Longitude</th>\n",
       "      <th>AirCraftCategory</th>\n",
       "      <th>NumberOfEngines</th>\n",
       "      <th>AirCraftDamage</th>\n",
       "      <th>WeatherCondition</th>\n",
       "      <th>EventTime</th>\n",
       "      <th>Year</th>\n",
       "      <th>AccidentSeverity</th>\n",
       "      <th>NumberOfAircraftInvolved</th>\n",
       "    </tr>\n",
       "    <tr>\n",
       "      <th>EventDate</th>\n",
       "      <th></th>\n",
       "      <th></th>\n",
       "      <th></th>\n",
       "      <th></th>\n",
       "      <th></th>\n",
       "      <th></th>\n",
       "      <th></th>\n",
       "      <th></th>\n",
       "      <th></th>\n",
       "      <th></th>\n",
       "      <th></th>\n",
       "      <th></th>\n",
       "      <th></th>\n",
       "      <th></th>\n",
       "      <th></th>\n",
       "    </tr>\n",
       "  </thead>\n",
       "  <tbody>\n",
       "    <tr>\n",
       "      <th>2024-01-01</th>\n",
       "      <td>Mansfield</td>\n",
       "      <td>United States</td>\n",
       "      <td>0</td>\n",
       "      <td>0</td>\n",
       "      <td>0</td>\n",
       "      <td>32.074121</td>\n",
       "      <td>-93.765392</td>\n",
       "      <td>AIR</td>\n",
       "      <td>1</td>\n",
       "      <td>Destroyed</td>\n",
       "      <td>VMC</td>\n",
       "      <td>114000</td>\n",
       "      <td>2024</td>\n",
       "      <td>No injuries</td>\n",
       "      <td>1</td>\n",
       "    </tr>\n",
       "    <tr>\n",
       "      <th>2023-12-28</th>\n",
       "      <td>Lake Havasu</td>\n",
       "      <td>United States</td>\n",
       "      <td>0</td>\n",
       "      <td>0</td>\n",
       "      <td>1</td>\n",
       "      <td>34.511090</td>\n",
       "      <td>-114.382330</td>\n",
       "      <td>AIR</td>\n",
       "      <td>1</td>\n",
       "      <td>Substantial</td>\n",
       "      <td>VMC</td>\n",
       "      <td>65700</td>\n",
       "      <td>2023</td>\n",
       "      <td>Minor</td>\n",
       "      <td>1</td>\n",
       "    </tr>\n",
       "    <tr>\n",
       "      <th>2023-12-26</th>\n",
       "      <td>Ponca City</td>\n",
       "      <td>United States</td>\n",
       "      <td>0</td>\n",
       "      <td>0</td>\n",
       "      <td>0</td>\n",
       "      <td>36.731955</td>\n",
       "      <td>-97.099782</td>\n",
       "      <td>AIR</td>\n",
       "      <td>2</td>\n",
       "      <td>Substantial</td>\n",
       "      <td>VMC</td>\n",
       "      <td>81500</td>\n",
       "      <td>2023</td>\n",
       "      <td>No injuries</td>\n",
       "      <td>1</td>\n",
       "    </tr>\n",
       "    <tr>\n",
       "      <th>2023-12-12</th>\n",
       "      <td>Sidney</td>\n",
       "      <td>United States</td>\n",
       "      <td>0</td>\n",
       "      <td>0</td>\n",
       "      <td>0</td>\n",
       "      <td>40.241278</td>\n",
       "      <td>-84.147861</td>\n",
       "      <td>AIR</td>\n",
       "      <td>1</td>\n",
       "      <td>Substantial</td>\n",
       "      <td>VMC</td>\n",
       "      <td>124400</td>\n",
       "      <td>2023</td>\n",
       "      <td>No injuries</td>\n",
       "      <td>1</td>\n",
       "    </tr>\n",
       "    <tr>\n",
       "      <th>2023-12-11</th>\n",
       "      <td>Newport News</td>\n",
       "      <td>United States</td>\n",
       "      <td>0</td>\n",
       "      <td>0</td>\n",
       "      <td>0</td>\n",
       "      <td>37.131670</td>\n",
       "      <td>-76.488330</td>\n",
       "      <td>AIR</td>\n",
       "      <td>1</td>\n",
       "      <td>Unknown</td>\n",
       "      <td>VMC</td>\n",
       "      <td>81500</td>\n",
       "      <td>2023</td>\n",
       "      <td>No injuries</td>\n",
       "      <td>1</td>\n",
       "    </tr>\n",
       "  </tbody>\n",
       "</table>\n",
       "</div>"
      ],
      "text/plain": [
       "                    City        Country  FatalInjuries  SeriousInjuries  \\\n",
       "EventDate                                                                 \n",
       "2024-01-01     Mansfield  United States              0                0   \n",
       "2023-12-28   Lake Havasu  United States              0                0   \n",
       "2023-12-26    Ponca City  United States              0                0   \n",
       "2023-12-12        Sidney  United States              0                0   \n",
       "2023-12-11  Newport News  United States              0                0   \n",
       "\n",
       "            MinorInjuries   Latitude   Longitude AirCraftCategory  \\\n",
       "EventDate                                                           \n",
       "2024-01-01              0  32.074121  -93.765392              AIR   \n",
       "2023-12-28              1  34.511090 -114.382330              AIR   \n",
       "2023-12-26              0  36.731955  -97.099782              AIR   \n",
       "2023-12-12              0  40.241278  -84.147861              AIR   \n",
       "2023-12-11              0  37.131670  -76.488330              AIR   \n",
       "\n",
       "           NumberOfEngines AirCraftDamage WeatherCondition  EventTime  Year  \\\n",
       "EventDate                                                                     \n",
       "2024-01-01               1      Destroyed              VMC     114000  2024   \n",
       "2023-12-28               1    Substantial              VMC      65700  2023   \n",
       "2023-12-26               2    Substantial              VMC      81500  2023   \n",
       "2023-12-12               1    Substantial              VMC     124400  2023   \n",
       "2023-12-11               1        Unknown              VMC      81500  2023   \n",
       "\n",
       "           AccidentSeverity  NumberOfAircraftInvolved  \n",
       "EventDate                                              \n",
       "2024-01-01      No injuries                         1  \n",
       "2023-12-28            Minor                         1  \n",
       "2023-12-26      No injuries                         1  \n",
       "2023-12-12      No injuries                         1  \n",
       "2023-12-11      No injuries                         1  "
      ]
     },
     "execution_count": 139,
     "metadata": {},
     "output_type": "execute_result"
    }
   ],
   "source": [
    "df.head()"
   ]
  },
  {
   "cell_type": "code",
   "execution_count": 140,
   "metadata": {},
   "outputs": [
    {
     "data": {
      "text/html": [
       "<div>\n",
       "<style scoped>\n",
       "    .dataframe tbody tr th:only-of-type {\n",
       "        vertical-align: middle;\n",
       "    }\n",
       "\n",
       "    .dataframe tbody tr th {\n",
       "        vertical-align: top;\n",
       "    }\n",
       "\n",
       "    .dataframe thead th {\n",
       "        text-align: right;\n",
       "    }\n",
       "</style>\n",
       "<table border=\"1\" class=\"dataframe\">\n",
       "  <thead>\n",
       "    <tr style=\"text-align: right;\">\n",
       "      <th></th>\n",
       "      <th>City</th>\n",
       "      <th>Country</th>\n",
       "      <th>FatalInjuries</th>\n",
       "      <th>SeriousInjuries</th>\n",
       "      <th>MinorInjuries</th>\n",
       "      <th>Latitude</th>\n",
       "      <th>Longitude</th>\n",
       "      <th>NumberOfEngines</th>\n",
       "      <th>AirCraftDamage</th>\n",
       "      <th>WeatherCondition</th>\n",
       "      <th>EventTime</th>\n",
       "      <th>Year</th>\n",
       "      <th>AccidentSeverity</th>\n",
       "      <th>NumberOfAircraftInvolved</th>\n",
       "    </tr>\n",
       "    <tr>\n",
       "      <th>EventDate</th>\n",
       "      <th></th>\n",
       "      <th></th>\n",
       "      <th></th>\n",
       "      <th></th>\n",
       "      <th></th>\n",
       "      <th></th>\n",
       "      <th></th>\n",
       "      <th></th>\n",
       "      <th></th>\n",
       "      <th></th>\n",
       "      <th></th>\n",
       "      <th></th>\n",
       "      <th></th>\n",
       "      <th></th>\n",
       "    </tr>\n",
       "  </thead>\n",
       "  <tbody>\n",
       "    <tr>\n",
       "      <th>2024-01-01</th>\n",
       "      <td>Mansfield</td>\n",
       "      <td>United States</td>\n",
       "      <td>0</td>\n",
       "      <td>0</td>\n",
       "      <td>0</td>\n",
       "      <td>32.074121</td>\n",
       "      <td>-93.765392</td>\n",
       "      <td>1</td>\n",
       "      <td>Destroyed</td>\n",
       "      <td>VMC</td>\n",
       "      <td>114000</td>\n",
       "      <td>2024</td>\n",
       "      <td>No injuries</td>\n",
       "      <td>1</td>\n",
       "    </tr>\n",
       "    <tr>\n",
       "      <th>2023-12-28</th>\n",
       "      <td>Lake Havasu</td>\n",
       "      <td>United States</td>\n",
       "      <td>0</td>\n",
       "      <td>0</td>\n",
       "      <td>1</td>\n",
       "      <td>34.511090</td>\n",
       "      <td>-114.382330</td>\n",
       "      <td>1</td>\n",
       "      <td>Substantial</td>\n",
       "      <td>VMC</td>\n",
       "      <td>65700</td>\n",
       "      <td>2023</td>\n",
       "      <td>Minor</td>\n",
       "      <td>1</td>\n",
       "    </tr>\n",
       "    <tr>\n",
       "      <th>2023-12-26</th>\n",
       "      <td>Ponca City</td>\n",
       "      <td>United States</td>\n",
       "      <td>0</td>\n",
       "      <td>0</td>\n",
       "      <td>0</td>\n",
       "      <td>36.731955</td>\n",
       "      <td>-97.099782</td>\n",
       "      <td>2</td>\n",
       "      <td>Substantial</td>\n",
       "      <td>VMC</td>\n",
       "      <td>81500</td>\n",
       "      <td>2023</td>\n",
       "      <td>No injuries</td>\n",
       "      <td>1</td>\n",
       "    </tr>\n",
       "    <tr>\n",
       "      <th>2023-12-12</th>\n",
       "      <td>Sidney</td>\n",
       "      <td>United States</td>\n",
       "      <td>0</td>\n",
       "      <td>0</td>\n",
       "      <td>0</td>\n",
       "      <td>40.241278</td>\n",
       "      <td>-84.147861</td>\n",
       "      <td>1</td>\n",
       "      <td>Substantial</td>\n",
       "      <td>VMC</td>\n",
       "      <td>124400</td>\n",
       "      <td>2023</td>\n",
       "      <td>No injuries</td>\n",
       "      <td>1</td>\n",
       "    </tr>\n",
       "    <tr>\n",
       "      <th>2023-12-11</th>\n",
       "      <td>Newport News</td>\n",
       "      <td>United States</td>\n",
       "      <td>0</td>\n",
       "      <td>0</td>\n",
       "      <td>0</td>\n",
       "      <td>37.131670</td>\n",
       "      <td>-76.488330</td>\n",
       "      <td>1</td>\n",
       "      <td>Unknown</td>\n",
       "      <td>VMC</td>\n",
       "      <td>81500</td>\n",
       "      <td>2023</td>\n",
       "      <td>No injuries</td>\n",
       "      <td>1</td>\n",
       "    </tr>\n",
       "  </tbody>\n",
       "</table>\n",
       "</div>"
      ],
      "text/plain": [
       "                    City        Country  FatalInjuries  SeriousInjuries  \\\n",
       "EventDate                                                                 \n",
       "2024-01-01     Mansfield  United States              0                0   \n",
       "2023-12-28   Lake Havasu  United States              0                0   \n",
       "2023-12-26    Ponca City  United States              0                0   \n",
       "2023-12-12        Sidney  United States              0                0   \n",
       "2023-12-11  Newport News  United States              0                0   \n",
       "\n",
       "            MinorInjuries   Latitude   Longitude NumberOfEngines  \\\n",
       "EventDate                                                          \n",
       "2024-01-01              0  32.074121  -93.765392               1   \n",
       "2023-12-28              1  34.511090 -114.382330               1   \n",
       "2023-12-26              0  36.731955  -97.099782               2   \n",
       "2023-12-12              0  40.241278  -84.147861               1   \n",
       "2023-12-11              0  37.131670  -76.488330               1   \n",
       "\n",
       "           AirCraftDamage WeatherCondition  EventTime  Year AccidentSeverity  \\\n",
       "EventDate                                                                      \n",
       "2024-01-01      Destroyed              VMC     114000  2024      No injuries   \n",
       "2023-12-28    Substantial              VMC      65700  2023            Minor   \n",
       "2023-12-26    Substantial              VMC      81500  2023      No injuries   \n",
       "2023-12-12    Substantial              VMC     124400  2023      No injuries   \n",
       "2023-12-11        Unknown              VMC      81500  2023      No injuries   \n",
       "\n",
       "            NumberOfAircraftInvolved  \n",
       "EventDate                             \n",
       "2024-01-01                         1  \n",
       "2023-12-28                         1  \n",
       "2023-12-26                         1  \n",
       "2023-12-12                         1  \n",
       "2023-12-11                         1  "
      ]
     },
     "execution_count": 140,
     "metadata": {},
     "output_type": "execute_result"
    }
   ],
   "source": [
    "# Now we can remove the category of aircraft because we only have airplanes\n",
    "df.drop(columns=[\"AirCraftCategory\"], inplace=True)\n",
    "df.head()"
   ]
  },
  {
   "cell_type": "code",
   "execution_count": 141,
   "metadata": {},
   "outputs": [
    {
     "data": {
      "text/plain": [
       "WeatherCondition\n",
       "VFR        69498\n",
       "VMC        56040\n",
       "IFR         5523\n",
       "IMC         4924\n",
       "UNK          864\n",
       "Unknown      564\n",
       "Name: count, dtype: int64"
      ]
     },
     "execution_count": 141,
     "metadata": {},
     "output_type": "execute_result"
    }
   ],
   "source": [
    "df.WeatherCondition.value_counts()"
   ]
  },
  {
   "cell_type": "code",
   "execution_count": 142,
   "metadata": {},
   "outputs": [],
   "source": [
    "# Let's consolidate the unknown values\n",
    "df.loc[df.WeatherCondition == \"Unknown\", \"WeatherCondition\"] = \"UNK\""
   ]
  },
  {
   "cell_type": "code",
   "execution_count": 143,
   "metadata": {},
   "outputs": [
    {
     "data": {
      "text/plain": [
       "WeatherCondition\n",
       "VFR    69498\n",
       "VMC    56040\n",
       "IFR     5523\n",
       "IMC     4924\n",
       "UNK     1428\n",
       "Name: count, dtype: int64"
      ]
     },
     "execution_count": 143,
     "metadata": {},
     "output_type": "execute_result"
    }
   ],
   "source": [
    "df.WeatherCondition.value_counts()"
   ]
  },
  {
   "cell_type": "code",
   "execution_count": 144,
   "metadata": {},
   "outputs": [
    {
     "data": {
      "text/html": [
       "<div>\n",
       "<style scoped>\n",
       "    .dataframe tbody tr th:only-of-type {\n",
       "        vertical-align: middle;\n",
       "    }\n",
       "\n",
       "    .dataframe tbody tr th {\n",
       "        vertical-align: top;\n",
       "    }\n",
       "\n",
       "    .dataframe thead th {\n",
       "        text-align: right;\n",
       "    }\n",
       "</style>\n",
       "<table border=\"1\" class=\"dataframe\">\n",
       "  <thead>\n",
       "    <tr style=\"text-align: right;\">\n",
       "      <th></th>\n",
       "      <th>City</th>\n",
       "      <th>Country</th>\n",
       "      <th>FatalInjuries</th>\n",
       "      <th>SeriousInjuries</th>\n",
       "      <th>MinorInjuries</th>\n",
       "      <th>Latitude</th>\n",
       "      <th>Longitude</th>\n",
       "      <th>NumberOfEngines</th>\n",
       "      <th>AirCraftDamage</th>\n",
       "      <th>WeatherCondition</th>\n",
       "      <th>EventTime</th>\n",
       "      <th>Year</th>\n",
       "      <th>AccidentSeverity</th>\n",
       "      <th>NumberOfAircraftInvolved</th>\n",
       "    </tr>\n",
       "    <tr>\n",
       "      <th>EventDate</th>\n",
       "      <th></th>\n",
       "      <th></th>\n",
       "      <th></th>\n",
       "      <th></th>\n",
       "      <th></th>\n",
       "      <th></th>\n",
       "      <th></th>\n",
       "      <th></th>\n",
       "      <th></th>\n",
       "      <th></th>\n",
       "      <th></th>\n",
       "      <th></th>\n",
       "      <th></th>\n",
       "      <th></th>\n",
       "    </tr>\n",
       "  </thead>\n",
       "  <tbody>\n",
       "    <tr>\n",
       "      <th>2024-01-01</th>\n",
       "      <td>Mansfield</td>\n",
       "      <td>United States</td>\n",
       "      <td>0</td>\n",
       "      <td>0</td>\n",
       "      <td>0</td>\n",
       "      <td>32.074121</td>\n",
       "      <td>-93.765392</td>\n",
       "      <td>1</td>\n",
       "      <td>Destroyed</td>\n",
       "      <td>VMC</td>\n",
       "      <td>114000</td>\n",
       "      <td>2024</td>\n",
       "      <td>No injuries</td>\n",
       "      <td>1</td>\n",
       "    </tr>\n",
       "    <tr>\n",
       "      <th>2023-12-28</th>\n",
       "      <td>Lake Havasu</td>\n",
       "      <td>United States</td>\n",
       "      <td>0</td>\n",
       "      <td>0</td>\n",
       "      <td>1</td>\n",
       "      <td>34.511090</td>\n",
       "      <td>-114.382330</td>\n",
       "      <td>1</td>\n",
       "      <td>Substantial</td>\n",
       "      <td>VMC</td>\n",
       "      <td>65700</td>\n",
       "      <td>2023</td>\n",
       "      <td>Minor</td>\n",
       "      <td>1</td>\n",
       "    </tr>\n",
       "    <tr>\n",
       "      <th>2023-12-26</th>\n",
       "      <td>Ponca City</td>\n",
       "      <td>United States</td>\n",
       "      <td>0</td>\n",
       "      <td>0</td>\n",
       "      <td>0</td>\n",
       "      <td>36.731955</td>\n",
       "      <td>-97.099782</td>\n",
       "      <td>2</td>\n",
       "      <td>Substantial</td>\n",
       "      <td>VMC</td>\n",
       "      <td>81500</td>\n",
       "      <td>2023</td>\n",
       "      <td>No injuries</td>\n",
       "      <td>1</td>\n",
       "    </tr>\n",
       "    <tr>\n",
       "      <th>2023-12-12</th>\n",
       "      <td>Sidney</td>\n",
       "      <td>United States</td>\n",
       "      <td>0</td>\n",
       "      <td>0</td>\n",
       "      <td>0</td>\n",
       "      <td>40.241278</td>\n",
       "      <td>-84.147861</td>\n",
       "      <td>1</td>\n",
       "      <td>Substantial</td>\n",
       "      <td>VMC</td>\n",
       "      <td>124400</td>\n",
       "      <td>2023</td>\n",
       "      <td>No injuries</td>\n",
       "      <td>1</td>\n",
       "    </tr>\n",
       "    <tr>\n",
       "      <th>2023-12-11</th>\n",
       "      <td>Newport News</td>\n",
       "      <td>United States</td>\n",
       "      <td>0</td>\n",
       "      <td>0</td>\n",
       "      <td>0</td>\n",
       "      <td>37.131670</td>\n",
       "      <td>-76.488330</td>\n",
       "      <td>1</td>\n",
       "      <td>Unknown</td>\n",
       "      <td>VMC</td>\n",
       "      <td>81500</td>\n",
       "      <td>2023</td>\n",
       "      <td>No injuries</td>\n",
       "      <td>1</td>\n",
       "    </tr>\n",
       "  </tbody>\n",
       "</table>\n",
       "</div>"
      ],
      "text/plain": [
       "                    City        Country  FatalInjuries  SeriousInjuries  \\\n",
       "EventDate                                                                 \n",
       "2024-01-01     Mansfield  United States              0                0   \n",
       "2023-12-28   Lake Havasu  United States              0                0   \n",
       "2023-12-26    Ponca City  United States              0                0   \n",
       "2023-12-12        Sidney  United States              0                0   \n",
       "2023-12-11  Newport News  United States              0                0   \n",
       "\n",
       "            MinorInjuries   Latitude   Longitude NumberOfEngines  \\\n",
       "EventDate                                                          \n",
       "2024-01-01              0  32.074121  -93.765392               1   \n",
       "2023-12-28              1  34.511090 -114.382330               1   \n",
       "2023-12-26              0  36.731955  -97.099782               2   \n",
       "2023-12-12              0  40.241278  -84.147861               1   \n",
       "2023-12-11              0  37.131670  -76.488330               1   \n",
       "\n",
       "           AirCraftDamage WeatherCondition  EventTime  Year AccidentSeverity  \\\n",
       "EventDate                                                                      \n",
       "2024-01-01      Destroyed              VMC     114000  2024      No injuries   \n",
       "2023-12-28    Substantial              VMC      65700  2023            Minor   \n",
       "2023-12-26    Substantial              VMC      81500  2023      No injuries   \n",
       "2023-12-12    Substantial              VMC     124400  2023      No injuries   \n",
       "2023-12-11        Unknown              VMC      81500  2023      No injuries   \n",
       "\n",
       "            NumberOfAircraftInvolved  \n",
       "EventDate                             \n",
       "2024-01-01                         1  \n",
       "2023-12-28                         1  \n",
       "2023-12-26                         1  \n",
       "2023-12-12                         1  \n",
       "2023-12-11                         1  "
      ]
     },
     "execution_count": 144,
     "metadata": {},
     "output_type": "execute_result"
    }
   ],
   "source": [
    "df.head()"
   ]
  },
  {
   "cell_type": "code",
   "execution_count": 145,
   "metadata": {},
   "outputs": [
    {
     "data": {
      "text/plain": [
       "Country\n",
       "United States                     135946\n",
       "Mexico                               313\n",
       "Bahamas                              263\n",
       "Canada                               170\n",
       "Brazil                                44\n",
       "                                   ...  \n",
       "French Guiana                          1\n",
       "St Vincent And The Grenadines          1\n",
       "Republic Of Korea                      1\n",
       "Federated States Of Micronesia         1\n",
       "Wake Island                            1\n",
       "Name: count, Length: 118, dtype: int64"
      ]
     },
     "execution_count": 145,
     "metadata": {},
     "output_type": "execute_result"
    }
   ],
   "source": [
    "df.Country.value_counts()"
   ]
  },
  {
   "cell_type": "code",
   "execution_count": 146,
   "metadata": {},
   "outputs": [
    {
     "data": {
      "text/plain": [
       "Country\n",
       "United States    135946\n",
       "Mexico              313\n",
       "Bahamas             263\n",
       "Canada              170\n",
       "Brazil               44\n",
       "Colombia             36\n",
       "Philippines          33\n",
       "Japan                32\n",
       "Germany              32\n",
       "Laos                 27\n",
       "Name: count, dtype: int64"
      ]
     },
     "execution_count": 146,
     "metadata": {},
     "output_type": "execute_result"
    }
   ],
   "source": [
    "df.Country.value_counts().head(10)"
   ]
  },
  {
   "cell_type": "code",
   "execution_count": 147,
   "metadata": {},
   "outputs": [
    {
     "data": {
      "text/plain": [
       "AirCraftDamage\n",
       "Substantial                          105543\n",
       "Destroyed                             29682\n",
       "Substantial,Substantial                 618\n",
       "Minor                                   398\n",
       "Destroyed,Destroyed                     331\n",
       "Minor,Substantial                       229\n",
       "Substantial,Minor                       222\n",
       "Destroyed,Substantial                   132\n",
       "Substantial,Destroyed                   121\n",
       "Destroyed,Minor                          35\n",
       "Minor,Destroyed                          30\n",
       "Unknown                                  26\n",
       "Substantial,None                         20\n",
       "None,Substantial                         14\n",
       "None,Minor                                2\n",
       "None,Destroyed                            2\n",
       "Minor,Minor                               2\n",
       "Substantial,Unknown                       1\n",
       "Destroyed,Substantial,Substantial         1\n",
       "Destroyed,None                            1\n",
       "Substantial,Substantial,Minor             1\n",
       ",Destroyed                                1\n",
       "Minor,None                                1\n",
       "Name: count, dtype: int64"
      ]
     },
     "execution_count": 147,
     "metadata": {},
     "output_type": "execute_result"
    }
   ],
   "source": [
    "df.AirCraftDamage.value_counts()"
   ]
  },
  {
   "cell_type": "code",
   "execution_count": 148,
   "metadata": {},
   "outputs": [
    {
     "data": {
      "text/plain": [
       "AirCraftDamage\n",
       "Substantial    106648\n",
       "Destroyed       30336\n",
       "Minor             403\n",
       "Unknown            26\n",
       "Name: count, dtype: int64"
      ]
     },
     "execution_count": 148,
     "metadata": {},
     "output_type": "execute_result"
    }
   ],
   "source": [
    "# To help our model, let's use the most severe damage to give this column only one description\n",
    "df.loc[df.AirCraftDamage.str.contains(\n",
    "    \"Destroyed\"), \"AirCraftDamage\"] = \"Destroyed\"\n",
    "df.loc[df.AirCraftDamage.str.contains(\n",
    "    \"Substantial\"), \"AirCraftDamage\"] = \"Substantial\"\n",
    "df.loc[df.AirCraftDamage.str.contains(\"Minor\"), \"AirCraftDamage\"] = \"Minor\"\n",
    "df.loc[df.AirCraftDamage.str.contains(\"Unknown\"), \"AirCraftDamage\"] = \"Unknown\"\n",
    "\n",
    "df.AirCraftDamage.value_counts()"
   ]
  },
  {
   "cell_type": "code",
   "execution_count": 149,
   "metadata": {},
   "outputs": [
    {
     "data": {
      "text/html": [
       "<div>\n",
       "<style scoped>\n",
       "    .dataframe tbody tr th:only-of-type {\n",
       "        vertical-align: middle;\n",
       "    }\n",
       "\n",
       "    .dataframe tbody tr th {\n",
       "        vertical-align: top;\n",
       "    }\n",
       "\n",
       "    .dataframe thead th {\n",
       "        text-align: right;\n",
       "    }\n",
       "</style>\n",
       "<table border=\"1\" class=\"dataframe\">\n",
       "  <thead>\n",
       "    <tr style=\"text-align: right;\">\n",
       "      <th></th>\n",
       "      <th>FatalInjuries</th>\n",
       "      <th>SeriousInjuries</th>\n",
       "      <th>MinorInjuries</th>\n",
       "      <th>Latitude</th>\n",
       "      <th>Longitude</th>\n",
       "      <th>EventTime</th>\n",
       "      <th>Year</th>\n",
       "      <th>NumberOfAircraftInvolved</th>\n",
       "    </tr>\n",
       "  </thead>\n",
       "  <tbody>\n",
       "    <tr>\n",
       "      <th>count</th>\n",
       "      <td>137413.000000</td>\n",
       "      <td>137413.000000</td>\n",
       "      <td>137413.000000</td>\n",
       "      <td>1.374130e+05</td>\n",
       "      <td>1.374130e+05</td>\n",
       "      <td>137413.000000</td>\n",
       "      <td>137413.000000</td>\n",
       "      <td>137413.000000</td>\n",
       "    </tr>\n",
       "    <tr>\n",
       "      <th>mean</th>\n",
       "      <td>0.380211</td>\n",
       "      <td>0.165559</td>\n",
       "      <td>0.277150</td>\n",
       "      <td>3.352489e+02</td>\n",
       "      <td>-6.722130e+01</td>\n",
       "      <td>54466.789896</td>\n",
       "      <td>1983.454542</td>\n",
       "      <td>1.012852</td>\n",
       "    </tr>\n",
       "    <tr>\n",
       "      <th>std</th>\n",
       "      <td>3.003200</td>\n",
       "      <td>0.809989</td>\n",
       "      <td>1.237051</td>\n",
       "      <td>1.173828e+05</td>\n",
       "      <td>5.109287e+03</td>\n",
       "      <td>66705.933479</td>\n",
       "      <td>15.658758</td>\n",
       "      <td>0.112764</td>\n",
       "    </tr>\n",
       "    <tr>\n",
       "      <th>min</th>\n",
       "      <td>0.000000</td>\n",
       "      <td>0.000000</td>\n",
       "      <td>0.000000</td>\n",
       "      <td>-7.801694e+01</td>\n",
       "      <td>-1.004241e+06</td>\n",
       "      <td>0.000000</td>\n",
       "      <td>1948.000000</td>\n",
       "      <td>1.000000</td>\n",
       "    </tr>\n",
       "    <tr>\n",
       "      <th>25%</th>\n",
       "      <td>0.000000</td>\n",
       "      <td>0.000000</td>\n",
       "      <td>0.000000</td>\n",
       "      <td>0.000000e+00</td>\n",
       "      <td>-8.956067e+01</td>\n",
       "      <td>0.000000</td>\n",
       "      <td>1970.000000</td>\n",
       "      <td>1.000000</td>\n",
       "    </tr>\n",
       "    <tr>\n",
       "      <th>50%</th>\n",
       "      <td>0.000000</td>\n",
       "      <td>0.000000</td>\n",
       "      <td>0.000000</td>\n",
       "      <td>0.000000e+00</td>\n",
       "      <td>0.000000e+00</td>\n",
       "      <td>0.000000</td>\n",
       "      <td>1979.000000</td>\n",
       "      <td>1.000000</td>\n",
       "    </tr>\n",
       "    <tr>\n",
       "      <th>75%</th>\n",
       "      <td>0.000000</td>\n",
       "      <td>0.000000</td>\n",
       "      <td>0.000000</td>\n",
       "      <td>3.583694e+01</td>\n",
       "      <td>0.000000e+00</td>\n",
       "      <td>104000.000000</td>\n",
       "      <td>1994.000000</td>\n",
       "      <td>1.000000</td>\n",
       "    </tr>\n",
       "    <tr>\n",
       "      <th>max</th>\n",
       "      <td>574.000000</td>\n",
       "      <td>86.000000</td>\n",
       "      <td>137.000000</td>\n",
       "      <td>4.351118e+07</td>\n",
       "      <td>1.528319e+02</td>\n",
       "      <td>235900.000000</td>\n",
       "      <td>2024.000000</td>\n",
       "      <td>3.000000</td>\n",
       "    </tr>\n",
       "  </tbody>\n",
       "</table>\n",
       "</div>"
      ],
      "text/plain": [
       "       FatalInjuries  SeriousInjuries  MinorInjuries      Latitude  \\\n",
       "count  137413.000000    137413.000000  137413.000000  1.374130e+05   \n",
       "mean        0.380211         0.165559       0.277150  3.352489e+02   \n",
       "std         3.003200         0.809989       1.237051  1.173828e+05   \n",
       "min         0.000000         0.000000       0.000000 -7.801694e+01   \n",
       "25%         0.000000         0.000000       0.000000  0.000000e+00   \n",
       "50%         0.000000         0.000000       0.000000  0.000000e+00   \n",
       "75%         0.000000         0.000000       0.000000  3.583694e+01   \n",
       "max       574.000000        86.000000     137.000000  4.351118e+07   \n",
       "\n",
       "          Longitude      EventTime           Year  NumberOfAircraftInvolved  \n",
       "count  1.374130e+05  137413.000000  137413.000000             137413.000000  \n",
       "mean  -6.722130e+01   54466.789896    1983.454542                  1.012852  \n",
       "std    5.109287e+03   66705.933479      15.658758                  0.112764  \n",
       "min   -1.004241e+06       0.000000    1948.000000                  1.000000  \n",
       "25%   -8.956067e+01       0.000000    1970.000000                  1.000000  \n",
       "50%    0.000000e+00       0.000000    1979.000000                  1.000000  \n",
       "75%    0.000000e+00  104000.000000    1994.000000                  1.000000  \n",
       "max    1.528319e+02  235900.000000    2024.000000                  3.000000  "
      ]
     },
     "execution_count": 149,
     "metadata": {},
     "output_type": "execute_result"
    }
   ],
   "source": [
    "df.describe()"
   ]
  },
  {
   "cell_type": "markdown",
   "metadata": {},
   "source": [
    "We can see that the EventTime median is 0, equivalent to 00:00 EST, which tells us this is probably a missing value, in fact.\n"
   ]
  },
  {
   "cell_type": "code",
   "execution_count": 150,
   "metadata": {},
   "outputs": [
    {
     "data": {
      "text/plain": [
       "<Axes: xlabel='EventTime', ylabel='Count'>"
      ]
     },
     "execution_count": 150,
     "metadata": {},
     "output_type": "execute_result"
    },
    {
     "data": {
      "image/png": "[encoded data removed]",
      "text/plain": [
       "<Figure size 640x480 with 1 Axes>"
      ]
     },
     "metadata": {},
     "output_type": "display_data"
    }
   ],
   "source": [
    "sns.histplot(df.EventTime, kde=True)"
   ]
  },
  {
   "cell_type": "code",
   "execution_count": 151,
   "metadata": {},
   "outputs": [
    {
     "data": {
      "text/plain": [
       "Year\n",
       "1967    5387\n",
       "1966    5100\n",
       "1965    4615\n",
       "1964    4538\n",
       "1968    4380\n",
       "1969    4190\n",
       "1970    4119\n",
       "1971    4019\n",
       "1978    3696\n",
       "1977    3629\n",
       "1972    3609\n",
       "1973    3515\n",
       "1976    3512\n",
       "1975    3349\n",
       "1979    3276\n",
       "1974    3133\n",
       "1980    3053\n",
       "1981    3001\n",
       "1962      58\n",
       "1963      58\n",
       "1982      32\n",
       "1984      12\n",
       "1996      10\n",
       "1983      10\n",
       "1985      10\n",
       "1988       9\n",
       "2014       9\n",
       "1987       9\n",
       "1995       9\n",
       "2001       8\n",
       "2000       6\n",
       "1989       6\n",
       "1993       5\n",
       "2010       5\n",
       "2017       5\n",
       "2015       5\n",
       "2013       5\n",
       "1998       5\n",
       "2005       5\n",
       "1986       5\n",
       "2002       5\n",
       "1997       4\n",
       "2012       4\n",
       "1999       4\n",
       "2007       4\n",
       "2016       4\n",
       "1990       4\n",
       "2018       4\n",
       "2019       4\n",
       "2011       4\n",
       "1991       3\n",
       "1992       3\n",
       "2003       3\n",
       "2009       3\n",
       "2008       2\n",
       "2020       2\n",
       "2022       2\n",
       "2021       1\n",
       "1994       1\n",
       "2006       1\n",
       "Name: count, dtype: int64"
      ]
     },
     "execution_count": 151,
     "metadata": {},
     "output_type": "execute_result"
    }
   ],
   "source": [
    "df.loc[df.EventTime == 0, \"Year\"].value_counts()"
   ]
  },
  {
   "cell_type": "code",
   "execution_count": 152,
   "metadata": {},
   "outputs": [
    {
     "data": {
      "text/plain": [
       "70469"
      ]
     },
     "execution_count": 152,
     "metadata": {},
     "output_type": "execute_result"
    }
   ],
   "source": [
    "df.loc[df.EventTime == 0, \"Year\"].value_counts().sum()"
   ]
  },
  {
   "cell_type": "code",
   "execution_count": 153,
   "metadata": {},
   "outputs": [
    {
     "data": {
      "text/plain": [
       "1263"
      ]
     },
     "execution_count": 153,
     "metadata": {},
     "output_type": "execute_result"
    }
   ],
   "source": [
    "df.loc[df.EventTime == 10000, \"Year\"].value_counts().sum()"
   ]
  },
  {
   "cell_type": "code",
   "execution_count": 154,
   "metadata": {},
   "outputs": [
    {
     "data": {
      "text/plain": [
       "4450"
      ]
     },
     "execution_count": 154,
     "metadata": {},
     "output_type": "execute_result"
    }
   ],
   "source": [
    "df.loc[df.EventTime == 230000, \"Year\"].value_counts().sum()"
   ]
  },
  {
   "cell_type": "markdown",
   "metadata": {},
   "source": [
    "The fact that most of the 0 values are concentrated in accidents which occured more than 40 years ago is one more clue that these are actually missing values. In that case, we will, instead of simply removing the values, replace them with the median. However, to find the real median, we need to remove the 0 values first. Let's bear in mind that the missing values are not only 0, but concentrated around it.\n"
   ]
  },
  {
   "cell_type": "code",
   "execution_count": 155,
   "metadata": {},
   "outputs": [],
   "source": [
    "df.EventTime.loc[\n",
    "    (df.EventTime == 0) | (df.EventTime == 10000) | (df.EventTime == 230000)\n",
    "] = None"
   ]
  },
  {
   "cell_type": "code",
   "execution_count": 156,
   "metadata": {},
   "outputs": [
    {
     "data": {
      "text/plain": [
       "EventDate\n",
       "1966-03-21         NaN\n",
       "1977-09-11         NaN\n",
       "1972-07-27         NaN\n",
       "1968-10-26         NaN\n",
       "1988-08-16    225000.0\n",
       "2007-04-27    172700.0\n",
       "1974-09-14         NaN\n",
       "1967-02-05         NaN\n",
       "2019-08-28    160000.0\n",
       "1964-04-17         NaN\n",
       "1980-03-08         NaN\n",
       "2000-09-21    222000.0\n",
       "1964-06-28         NaN\n",
       "1981-06-01         NaN\n",
       "1997-04-01     74500.0\n",
       "Name: EventTime, dtype: float64"
      ]
     },
     "execution_count": 156,
     "metadata": {},
     "output_type": "execute_result"
    }
   ],
   "source": [
    "df.EventTime.sample(15)"
   ]
  },
  {
   "cell_type": "code",
   "execution_count": 157,
   "metadata": {},
   "outputs": [
    {
     "data": {
      "text/plain": [
       "76182"
      ]
     },
     "execution_count": 157,
     "metadata": {},
     "output_type": "execute_result"
    }
   ],
   "source": [
    "df.EventTime.isna().sum()"
   ]
  },
  {
   "cell_type": "markdown",
   "metadata": {},
   "source": [
    "About half of the values are missing. So let's find the median.\n"
   ]
  },
  {
   "cell_type": "code",
   "execution_count": 158,
   "metadata": {},
   "outputs": [
    {
     "data": {
      "text/plain": [
       "count     61231.000000\n",
       "mean     105311.280234\n",
       "std       41308.368599\n",
       "min         300.000000\n",
       "25%       73000.000000\n",
       "50%      103000.000000\n",
       "75%      133000.000000\n",
       "max      235900.000000\n",
       "Name: EventTime, dtype: float64"
      ]
     },
     "execution_count": 158,
     "metadata": {},
     "output_type": "execute_result"
    }
   ],
   "source": [
    "df.EventTime.describe()"
   ]
  },
  {
   "cell_type": "code",
   "execution_count": 159,
   "metadata": {},
   "outputs": [
    {
     "data": {
      "text/plain": [
       "EventDate\n",
       "2024-01-01    114000.0\n",
       "2023-12-28     65700.0\n",
       "2023-12-26     81500.0\n",
       "2023-12-12    124400.0\n",
       "2023-12-11     81500.0\n",
       "                ...   \n",
       "1962-01-20    103000.0\n",
       "1962-01-16    103000.0\n",
       "1962-01-14    103000.0\n",
       "1962-01-01    103000.0\n",
       "1948-10-24    115500.0\n",
       "Name: EventTime, Length: 137413, dtype: float64"
      ]
     },
     "execution_count": 159,
     "metadata": {},
     "output_type": "execute_result"
    }
   ],
   "source": [
    "# Fill the missing values with the median\n",
    "df.EventTime.fillna(103000)"
   ]
  },
  {
   "cell_type": "code",
   "execution_count": 160,
   "metadata": {},
   "outputs": [
    {
     "data": {
      "text/plain": [
       "(137413,)"
      ]
     },
     "execution_count": 160,
     "metadata": {},
     "output_type": "execute_result"
    }
   ],
   "source": [
    "df.EventTime.shape"
   ]
  },
  {
   "cell_type": "code",
   "execution_count": 161,
   "metadata": {},
   "outputs": [
    {
     "data": {
      "text/plain": [
       "<Axes: xlabel='EventTime', ylabel='Count'>"
      ]
     },
     "execution_count": 161,
     "metadata": {},
     "output_type": "execute_result"
    },
    {
     "data": {
      "image/png": "[encoded data removed]",
      "text/plain": [
       "<Figure size 640x480 with 1 Axes>"
      ]
     },
     "metadata": {},
     "output_type": "display_data"
    }
   ],
   "source": [
    "sns.histplot(df.EventTime, kde=True)"
   ]
  },
  {
   "cell_type": "markdown",
   "metadata": {},
   "source": [
    "## Extracting insights with Multivariate Analysis\n",
    "\n",
    "Now that our data is cleaned and organized, let's analyse the data and answer some questions\n"
   ]
  },
  {
   "cell_type": "markdown",
   "metadata": {},
   "source": [
    "### What's the distribution of the variables?\n"
   ]
  },
  {
   "cell_type": "code",
   "execution_count": 162,
   "metadata": {},
   "outputs": [],
   "source": [
    "# hist = pd.melt(df, value_vars = df)\n",
    "# hist = sns.FacetGrid (hist, col = 'variable', col_wrap = 3, sharex = False, sharey = False)\n",
    "# hist.map(sns.histplot, 'value')"
   ]
  },
  {
   "cell_type": "code",
   "execution_count": 163,
   "metadata": {},
   "outputs": [
    {
     "name": "stdout",
     "output_type": "stream",
     "text": [
      "<class 'pandas.core.frame.DataFrame'>\n",
      "DatetimeIndex: 137413 entries, 2024-01-01 to 1948-10-24\n",
      "Data columns (total 14 columns):\n",
      " #   Column                    Non-Null Count   Dtype  \n",
      "---  ------                    --------------   -----  \n",
      " 0   City                      137413 non-null  object \n",
      " 1   Country                   137413 non-null  object \n",
      " 2   FatalInjuries             137413 non-null  int64  \n",
      " 3   SeriousInjuries           137413 non-null  int64  \n",
      " 4   MinorInjuries             137413 non-null  int64  \n",
      " 5   Latitude                  137413 non-null  float64\n",
      " 6   Longitude                 137413 non-null  float64\n",
      " 7   NumberOfEngines           137413 non-null  object \n",
      " 8   AirCraftDamage            137413 non-null  object \n",
      " 9   WeatherCondition          137413 non-null  object \n",
      " 10  EventTime                 61231 non-null   float64\n",
      " 11  Year                      137413 non-null  int32  \n",
      " 12  AccidentSeverity          137413 non-null  object \n",
      " 13  NumberOfAircraftInvolved  137413 non-null  int64  \n",
      "dtypes: float64(3), int32(1), int64(4), object(6)\n",
      "memory usage: 15.2+ MB\n"
     ]
    }
   ],
   "source": [
    "df.info()"
   ]
  },
  {
   "cell_type": "code",
   "execution_count": 164,
   "metadata": {},
   "outputs": [],
   "source": [
    "# Let's see the outlier distribution\n",
    "df_box = df.drop(\n",
    "    columns=[\n",
    "        \"City\",\n",
    "        \"Country\",\n",
    "        \"NumberOfEngines\",\n",
    "        \"AirCraftDamage\",\n",
    "        \"WeatherCondition\",\n",
    "        \"AccidentSeverity\",\n",
    "        \"Latitude\",\n",
    "        \"Longitude\",\n",
    "    ]\n",
    ")"
   ]
  },
  {
   "cell_type": "code",
   "execution_count": 165,
   "metadata": {},
   "outputs": [
    {
     "data": {
      "text/plain": [
       "Index(['FatalInjuries', 'SeriousInjuries', 'MinorInjuries', 'EventTime',\n",
       "       'Year', 'NumberOfAircraftInvolved'],\n",
       "      dtype='object')"
      ]
     },
     "execution_count": 165,
     "metadata": {},
     "output_type": "execute_result"
    }
   ],
   "source": [
    "df_box.columns"
   ]
  },
  {
   "cell_type": "code",
   "execution_count": 166,
   "metadata": {},
   "outputs": [
    {
     "data": {
      "image/png": "[encoded data removed]",
      "text/plain": [
       "<Figure size 1200x1400 with 9 Axes>"
      ]
     },
     "metadata": {},
     "output_type": "display_data"
    }
   ],
   "source": [
    "df_box.plot(\n",
    "    subplots=True, layout=(3, 3), kind=\"box\", figsize=(12, 14), patch_artist=True\n",
    ")\n",
    "plt.subplots_adjust(wspace=0.5)"
   ]
  },
  {
   "cell_type": "code",
   "execution_count": 167,
   "metadata": {},
   "outputs": [],
   "source": [
    "df_injuries = df_box.drop(\n",
    "    columns=[\"EventTime\", \"Year\", \"NumberOfAircraftInvolved\"])"
   ]
  },
  {
   "cell_type": "code",
   "execution_count": 168,
   "metadata": {},
   "outputs": [
    {
     "data": {
      "text/plain": [
       "<seaborn.axisgrid.FacetGrid at 0x1769ec310>"
      ]
     },
     "execution_count": 168,
     "metadata": {},
     "output_type": "execute_result"
    },
    {
     "data": {
      "image/png": "[encoded data removed]",
      "text/plain": [
       "<Figure size 900x300 with 3 Axes>"
      ]
     },
     "metadata": {},
     "output_type": "display_data"
    }
   ],
   "source": [
    "# Since the data is heavily skewed to high valued outliers, we'll plot these variables in logarithmic scale\n",
    "hist = pd.melt(df_injuries, value_vars=df_injuries)\n",
    "hist = sns.FacetGrid(hist, col=\"variable\", col_wrap=3, sharex=False)\n",
    "hist.map(sns.histplot, \"value\").set(yscale=\"log\")"
   ]
  },
  {
   "cell_type": "code",
   "execution_count": 169,
   "metadata": {},
   "outputs": [],
   "source": [
    "df_hist = df_box.drop(\n",
    "    columns=[\"FatalInjuries\", \"SeriousInjuries\", \"MinorInjuries\"])"
   ]
  },
  {
   "cell_type": "code",
   "execution_count": 170,
   "metadata": {},
   "outputs": [
    {
     "data": {
      "text/plain": [
       "<seaborn.axisgrid.FacetGrid at 0x17791b150>"
      ]
     },
     "execution_count": 170,
     "metadata": {},
     "output_type": "execute_result"
    },
    {
     "data": {
      "image/png": "[encoded data removed]",
      "text/plain": [
       "<Figure size 900x300 with 3 Axes>"
      ]
     },
     "metadata": {},
     "output_type": "display_data"
    }
   ],
   "source": [
    "hist = pd.melt(df_hist, value_vars=df_hist)\n",
    "hist = sns.FacetGrid(hist, col=\"variable\", col_wrap=3,\n",
    "                     sharex=False, sharey=False)\n",
    "hist.map(sns.histplot, \"value\").set(yscale=\"log\")"
   ]
  },
  {
   "cell_type": "code",
   "execution_count": 171,
   "metadata": {},
   "outputs": [
    {
     "data": {
      "text/plain": [
       "<Axes: xlabel='Year', ylabel='Count'>"
      ]
     },
     "execution_count": 171,
     "metadata": {},
     "output_type": "execute_result"
    },
    {
     "data": {
      "image/png": "[encoded data removed]",
      "text/plain": [
       "<Figure size 640x480 with 1 Axes>"
      ]
     },
     "metadata": {},
     "output_type": "display_data"
    }
   ],
   "source": [
    "sns.histplot(df.Year, kde=True)"
   ]
  },
  {
   "cell_type": "markdown",
   "metadata": {},
   "source": [
    "We can see that our numerical data are mostly not normal in distribution. Moreover, we know these outliers are not errors. The fact is that most airplane accidents involve small aircraft with one or two engines, but accidents involving big commercial airplanes do happen and skew the data upwards when it comes to injuries and fatalities. We shall confirm that with our model later.\n"
   ]
  },
  {
   "cell_type": "markdown",
   "metadata": {},
   "source": [
    "### What's the proportion of accidents that happened on Visual vs Instrument conditions?\n"
   ]
  },
  {
   "cell_type": "code",
   "execution_count": 172,
   "metadata": {},
   "outputs": [],
   "source": [
    "import plotly.express as px"
   ]
  },
  {
   "cell_type": "code",
   "execution_count": 173,
   "metadata": {},
   "outputs": [],
   "source": [
    "# Let's create a data frame with the weather condition but with both the codes and wether the condition is visual or intrument\n",
    "df_weather = pd.DataFrame(data=df.WeatherCondition)"
   ]
  },
  {
   "cell_type": "code",
   "execution_count": 174,
   "metadata": {},
   "outputs": [],
   "source": [
    "df_weather[\"Condition\"] = pd.Series()"
   ]
  },
  {
   "cell_type": "code",
   "execution_count": 175,
   "metadata": {},
   "outputs": [
    {
     "data": {
      "text/html": [
       "<div>\n",
       "<style scoped>\n",
       "    .dataframe tbody tr th:only-of-type {\n",
       "        vertical-align: middle;\n",
       "    }\n",
       "\n",
       "    .dataframe tbody tr th {\n",
       "        vertical-align: top;\n",
       "    }\n",
       "\n",
       "    .dataframe thead th {\n",
       "        text-align: right;\n",
       "    }\n",
       "</style>\n",
       "<table border=\"1\" class=\"dataframe\">\n",
       "  <thead>\n",
       "    <tr style=\"text-align: right;\">\n",
       "      <th></th>\n",
       "      <th>Code</th>\n",
       "      <th>Condition</th>\n",
       "    </tr>\n",
       "    <tr>\n",
       "      <th>EventDate</th>\n",
       "      <th></th>\n",
       "      <th></th>\n",
       "    </tr>\n",
       "  </thead>\n",
       "  <tbody>\n",
       "    <tr>\n",
       "      <th>2024-01-01</th>\n",
       "      <td>VMC</td>\n",
       "      <td>NaN</td>\n",
       "    </tr>\n",
       "    <tr>\n",
       "      <th>2023-12-28</th>\n",
       "      <td>VMC</td>\n",
       "      <td>NaN</td>\n",
       "    </tr>\n",
       "    <tr>\n",
       "      <th>2023-12-26</th>\n",
       "      <td>VMC</td>\n",
       "      <td>NaN</td>\n",
       "    </tr>\n",
       "    <tr>\n",
       "      <th>2023-12-12</th>\n",
       "      <td>VMC</td>\n",
       "      <td>NaN</td>\n",
       "    </tr>\n",
       "    <tr>\n",
       "      <th>2023-12-11</th>\n",
       "      <td>VMC</td>\n",
       "      <td>NaN</td>\n",
       "    </tr>\n",
       "    <tr>\n",
       "      <th>...</th>\n",
       "      <td>...</td>\n",
       "      <td>...</td>\n",
       "    </tr>\n",
       "    <tr>\n",
       "      <th>1962-01-20</th>\n",
       "      <td>VFR</td>\n",
       "      <td>NaN</td>\n",
       "    </tr>\n",
       "    <tr>\n",
       "      <th>1962-01-16</th>\n",
       "      <td>VFR</td>\n",
       "      <td>NaN</td>\n",
       "    </tr>\n",
       "    <tr>\n",
       "      <th>1962-01-14</th>\n",
       "      <td>VFR</td>\n",
       "      <td>NaN</td>\n",
       "    </tr>\n",
       "    <tr>\n",
       "      <th>1962-01-01</th>\n",
       "      <td>VFR</td>\n",
       "      <td>NaN</td>\n",
       "    </tr>\n",
       "    <tr>\n",
       "      <th>1948-10-24</th>\n",
       "      <td>UNK</td>\n",
       "      <td>NaN</td>\n",
       "    </tr>\n",
       "  </tbody>\n",
       "</table>\n",
       "<p>137413 rows × 2 columns</p>\n",
       "</div>"
      ],
      "text/plain": [
       "           Code Condition\n",
       "EventDate                \n",
       "2024-01-01  VMC       NaN\n",
       "2023-12-28  VMC       NaN\n",
       "2023-12-26  VMC       NaN\n",
       "2023-12-12  VMC       NaN\n",
       "2023-12-11  VMC       NaN\n",
       "...         ...       ...\n",
       "1962-01-20  VFR       NaN\n",
       "1962-01-16  VFR       NaN\n",
       "1962-01-14  VFR       NaN\n",
       "1962-01-01  VFR       NaN\n",
       "1948-10-24  UNK       NaN\n",
       "\n",
       "[137413 rows x 2 columns]"
      ]
     },
     "execution_count": 175,
     "metadata": {},
     "output_type": "execute_result"
    }
   ],
   "source": [
    "df_weather.rename(columns={\"WeatherCondition\": \"Code\"}, inplace=True)\n",
    "df_weather"
   ]
  },
  {
   "cell_type": "code",
   "execution_count": 176,
   "metadata": {},
   "outputs": [],
   "source": [
    "df_weather.loc[df_weather.Code.str.contains(\"V\"), \"Condition\"] = \"Visual\"\n",
    "df_weather.loc[df_weather.Code.str.contains(\"I\"), \"Condition\"] = \"Instrument\"\n",
    "df_weather.loc[df_weather.Code.str.contains(\"UNK\"), \"Condition\"] = \"Unknown\""
   ]
  },
  {
   "cell_type": "code",
   "execution_count": 177,
   "metadata": {},
   "outputs": [],
   "source": [
    "data = df_weather.value_counts()"
   ]
  },
  {
   "cell_type": "code",
   "execution_count": 178,
   "metadata": {},
   "outputs": [
    {
     "data": {
      "text/html": [
       "<div>\n",
       "<style scoped>\n",
       "    .dataframe tbody tr th:only-of-type {\n",
       "        vertical-align: middle;\n",
       "    }\n",
       "\n",
       "    .dataframe tbody tr th {\n",
       "        vertical-align: top;\n",
       "    }\n",
       "\n",
       "    .dataframe thead th {\n",
       "        text-align: right;\n",
       "    }\n",
       "</style>\n",
       "<table border=\"1\" class=\"dataframe\">\n",
       "  <thead>\n",
       "    <tr style=\"text-align: right;\">\n",
       "      <th></th>\n",
       "      <th>Code</th>\n",
       "      <th>Condition</th>\n",
       "      <th>count</th>\n",
       "    </tr>\n",
       "  </thead>\n",
       "  <tbody>\n",
       "    <tr>\n",
       "      <th>0</th>\n",
       "      <td>VFR</td>\n",
       "      <td>Visual</td>\n",
       "      <td>69498</td>\n",
       "    </tr>\n",
       "    <tr>\n",
       "      <th>1</th>\n",
       "      <td>VMC</td>\n",
       "      <td>Visual</td>\n",
       "      <td>56040</td>\n",
       "    </tr>\n",
       "    <tr>\n",
       "      <th>2</th>\n",
       "      <td>IFR</td>\n",
       "      <td>Instrument</td>\n",
       "      <td>5523</td>\n",
       "    </tr>\n",
       "    <tr>\n",
       "      <th>3</th>\n",
       "      <td>IMC</td>\n",
       "      <td>Instrument</td>\n",
       "      <td>4924</td>\n",
       "    </tr>\n",
       "    <tr>\n",
       "      <th>4</th>\n",
       "      <td>UNK</td>\n",
       "      <td>Unknown</td>\n",
       "      <td>1428</td>\n",
       "    </tr>\n",
       "  </tbody>\n",
       "</table>\n",
       "</div>"
      ],
      "text/plain": [
       "  Code   Condition  count\n",
       "0  VFR      Visual  69498\n",
       "1  VMC      Visual  56040\n",
       "2  IFR  Instrument   5523\n",
       "3  IMC  Instrument   4924\n",
       "4  UNK     Unknown   1428"
      ]
     },
     "execution_count": 178,
     "metadata": {},
     "output_type": "execute_result"
    }
   ],
   "source": [
    "data = pd.DataFrame(data)\n",
    "data.reset_index(inplace=True)\n",
    "data"
   ]
  },
  {
   "cell_type": "code",
   "execution_count": 216,
   "metadata": {},
   "outputs": [
    {
     "data": {
      "text/html": [
       "<div>\n",
       "<style scoped>\n",
       "    .dataframe tbody tr th:only-of-type {\n",
       "        vertical-align: middle;\n",
       "    }\n",
       "\n",
       "    .dataframe tbody tr th {\n",
       "        vertical-align: top;\n",
       "    }\n",
       "\n",
       "    .dataframe thead th {\n",
       "        text-align: right;\n",
       "    }\n",
       "</style>\n",
       "<table border=\"1\" class=\"dataframe\">\n",
       "  <thead>\n",
       "    <tr style=\"text-align: right;\">\n",
       "      <th></th>\n",
       "      <th>Code</th>\n",
       "      <th>count</th>\n",
       "    </tr>\n",
       "    <tr>\n",
       "      <th>Condition</th>\n",
       "      <th></th>\n",
       "      <th></th>\n",
       "    </tr>\n",
       "  </thead>\n",
       "  <tbody>\n",
       "    <tr>\n",
       "      <th>Visual</th>\n",
       "      <td>VFRVMC</td>\n",
       "      <td>125538</td>\n",
       "    </tr>\n",
       "    <tr>\n",
       "      <th>Instrument</th>\n",
       "      <td>IFRIMC</td>\n",
       "      <td>10447</td>\n",
       "    </tr>\n",
       "    <tr>\n",
       "      <th>Unknown</th>\n",
       "      <td>UNK</td>\n",
       "      <td>1428</td>\n",
       "    </tr>\n",
       "  </tbody>\n",
       "</table>\n",
       "</div>"
      ],
      "text/plain": [
       "              Code   count\n",
       "Condition                 \n",
       "Visual      VFRVMC  125538\n",
       "Instrument  IFRIMC   10447\n",
       "Unknown        UNK    1428"
      ]
     },
     "execution_count": 216,
     "metadata": {},
     "output_type": "execute_result"
    }
   ],
   "source": [
    "data2 = data.groupby(\"Condition\").sum().sort_values(\n",
    "    by=\"count\", ascending=False)\n",
    "data2"
   ]
  },
  {
   "cell_type": "code",
   "execution_count": 239,
   "metadata": {},
   "outputs": [
    {
     "data": {
      "application/vnd.plotly.v1+json": {
       "config": {
        "plotlyServerURL": "https://plot.ly"
       },
       "data": [
        {
         "branchvalues": "total",
         "domain": {
          "x": [
           0,
           1
          ],
          "y": [
           0,
           1
          ]
         },
         "hovertemplate": "labels=%{label}<br>count=%{value}<br>parent=%{parent}<br>id=%{id}<extra></extra>",
         "ids": [
          "Instrument/IFR",
          "Instrument/IMC",
          "Unknown/UNK",
          "Visual/VFR",
          "Visual/VMC",
          "Instrument",
          "Unknown",
          "Visual"
         ],
         "insidetextorientation": "horizontal",
         "labels": [
          "IFR",
          "IMC",
          "UNK",
          "VFR",
          "VMC",
          "Instrument",
          "Unknown",
          "Visual"
         ],
         "name": "",
         "parents": [
          "Instrument",
          "Instrument",
          "Unknown",
          "Visual",
          "Visual",
          "",
          "",
          ""
         ],
         "textinfo": "label+percent parent",
         "type": "sunburst",
         "values": [
          5523,
          4924,
          1428,
          69498,
          56040,
          10447,
          1428,
          125538
         ]
        }
       ],
       "layout": {
        "legend": {
         "tracegroupgap": 0
        },
        "template": {
         "data": {
          "bar": [
           {
            "error_x": {
             "color": "#2a3f5f"
            },
            "error_y": {
             "color": "#2a3f5f"
            },
            "marker": {
             "line": {
              "color": "#E5ECF6",
              "width": 0.5
             },
             "pattern": {
              "fillmode": "overlay",
              "size": 10,
              "solidity": 0.2
             }
            },
            "type": "bar"
           }
          ],
          "barpolar": [
           {
            "marker": {
             "line": {
              "color": "#E5ECF6",
              "width": 0.5
             },
             "pattern": {
              "fillmode": "overlay",
              "size": 10,
              "solidity": 0.2
             }
            },
            "type": "barpolar"
           }
          ],
          "carpet": [
           {
            "aaxis": {
             "endlinecolor": "#2a3f5f",
             "gridcolor": "white",
             "linecolor": "white",
             "minorgridcolor": "white",
             "startlinecolor": "#2a3f5f"
            },
            "baxis": {
             "endlinecolor": "#2a3f5f",
             "gridcolor": "white",
             "linecolor": "white",
             "minorgridcolor": "white",
             "startlinecolor": "#2a3f5f"
            },
            "type": "carpet"
           }
          ],
          "choropleth": [
           {
            "colorbar": {
             "outlinewidth": 0,
             "ticks": ""
            },
            "type": "choropleth"
           }
          ],
          "contour": [
           {
            "colorbar": {
             "outlinewidth": 0,
             "ticks": ""
            },
            "colorscale": [
             [
              0,
              "#0d0887"
             ],
             [
              0.1111111111111111,
              "#46039f"
             ],
             [
              0.2222222222222222,
              "#7201a8"
             ],
             [
              0.3333333333333333,
              "#9c179e"
             ],
             [
              0.4444444444444444,
              "#bd3786"
             ],
             [
              0.5555555555555556,
              "#d8576b"
             ],
             [
              0.6666666666666666,
              "#ed7953"
             ],
             [
              0.7777777777777778,
              "#fb9f3a"
             ],
             [
              0.8888888888888888,
              "#fdca26"
             ],
             [
              1,
              "#f0f921"
             ]
            ],
            "type": "contour"
           }
          ],
          "contourcarpet": [
           {
            "colorbar": {
             "outlinewidth": 0,
             "ticks": ""
            },
            "type": "contourcarpet"
           }
          ],
          "heatmap": [
           {
            "colorbar": {
             "outlinewidth": 0,
             "ticks": ""
            },
            "colorscale": [
             [
              0,
              "#0d0887"
             ],
             [
              0.1111111111111111,
              "#46039f"
             ],
             [
              0.2222222222222222,
              "#7201a8"
             ],
             [
              0.3333333333333333,
              "#9c179e"
             ],
             [
              0.4444444444444444,
              "#bd3786"
             ],
             [
              0.5555555555555556,
              "#d8576b"
             ],
             [
              0.6666666666666666,
              "#ed7953"
             ],
             [
              0.7777777777777778,
              "#fb9f3a"
             ],
             [
              0.8888888888888888,
              "#fdca26"
             ],
             [
              1,
              "#f0f921"
             ]
            ],
            "type": "heatmap"
           }
          ],
          "heatmapgl": [
           {
            "colorbar": {
             "outlinewidth": 0,
             "ticks": ""
            },
            "colorscale": [
             [
              0,
              "#0d0887"
             ],
             [
              0.1111111111111111,
              "#46039f"
             ],
             [
              0.2222222222222222,
              "#7201a8"
             ],
             [
              0.3333333333333333,
              "#9c179e"
             ],
             [
              0.4444444444444444,
              "#bd3786"
             ],
             [
              0.5555555555555556,
              "#d8576b"
             ],
             [
              0.6666666666666666,
              "#ed7953"
             ],
             [
              0.7777777777777778,
              "#fb9f3a"
             ],
             [
              0.8888888888888888,
              "#fdca26"
             ],
             [
              1,
              "#f0f921"
             ]
            ],
            "type": "heatmapgl"
           }
          ],
          "histogram": [
           {
            "marker": {
             "pattern": {
              "fillmode": "overlay",
              "size": 10,
              "solidity": 0.2
             }
            },
            "type": "histogram"
           }
          ],
          "histogram2d": [
           {
            "colorbar": {
             "outlinewidth": 0,
             "ticks": ""
            },
            "colorscale": [
             [
              0,
              "#0d0887"
             ],
             [
              0.1111111111111111,
              "#46039f"
             ],
             [
              0.2222222222222222,
              "#7201a8"
             ],
             [
              0.3333333333333333,
              "#9c179e"
             ],
             [
              0.4444444444444444,
              "#bd3786"
             ],
             [
              0.5555555555555556,
              "#d8576b"
             ],
             [
              0.6666666666666666,
              "#ed7953"
             ],
             [
              0.7777777777777778,
              "#fb9f3a"
             ],
             [
              0.8888888888888888,
              "#fdca26"
             ],
             [
              1,
              "#f0f921"
             ]
            ],
            "type": "histogram2d"
           }
          ],
          "histogram2dcontour": [
           {
            "colorbar": {
             "outlinewidth": 0,
             "ticks": ""
            },
            "colorscale": [
             [
              0,
              "#0d0887"
             ],
             [
              0.1111111111111111,
              "#46039f"
             ],
             [
              0.2222222222222222,
              "#7201a8"
             ],
             [
              0.3333333333333333,
              "#9c179e"
             ],
             [
              0.4444444444444444,
              "#bd3786"
             ],
             [
              0.5555555555555556,
              "#d8576b"
             ],
             [
              0.6666666666666666,
              "#ed7953"
             ],
             [
              0.7777777777777778,
              "#fb9f3a"
             ],
             [
              0.8888888888888888,
              "#fdca26"
             ],
             [
              1,
              "#f0f921"
             ]
            ],
            "type": "histogram2dcontour"
           }
          ],
          "mesh3d": [
           {
            "colorbar": {
             "outlinewidth": 0,
             "ticks": ""
            },
            "type": "mesh3d"
           }
          ],
          "parcoords": [
           {
            "line": {
             "colorbar": {
              "outlinewidth": 0,
              "ticks": ""
             }
            },
            "type": "parcoords"
           }
          ],
          "pie": [
           {
            "automargin": true,
            "type": "pie"
           }
          ],
          "scatter": [
           {
            "fillpattern": {
             "fillmode": "overlay",
             "size": 10,
             "solidity": 0.2
            },
            "type": "scatter"
           }
          ],
          "scatter3d": [
           {
            "line": {
             "colorbar": {
              "outlinewidth": 0,
              "ticks": ""
             }
            },
            "marker": {
             "colorbar": {
              "outlinewidth": 0,
              "ticks": ""
             }
            },
            "type": "scatter3d"
           }
          ],
          "scattercarpet": [
           {
            "marker": {
             "colorbar": {
              "outlinewidth": 0,
              "ticks": ""
             }
            },
            "type": "scattercarpet"
           }
          ],
          "scattergeo": [
           {
            "marker": {
             "colorbar": {
              "outlinewidth": 0,
              "ticks": ""
             }
            },
            "type": "scattergeo"
           }
          ],
          "scattergl": [
           {
            "marker": {
             "colorbar": {
              "outlinewidth": 0,
              "ticks": ""
             }
            },
            "type": "scattergl"
           }
          ],
          "scattermapbox": [
           {
            "marker": {
             "colorbar": {
              "outlinewidth": 0,
              "ticks": ""
             }
            },
            "type": "scattermapbox"
           }
          ],
          "scatterpolar": [
           {
            "marker": {
             "colorbar": {
              "outlinewidth": 0,
              "ticks": ""
             }
            },
            "type": "scatterpolar"
           }
          ],
          "scatterpolargl": [
           {
            "marker": {
             "colorbar": {
              "outlinewidth": 0,
              "ticks": ""
             }
            },
            "type": "scatterpolargl"
           }
          ],
          "scatterternary": [
           {
            "marker": {
             "colorbar": {
              "outlinewidth": 0,
              "ticks": ""
             }
            },
            "type": "scatterternary"
           }
          ],
          "surface": [
           {
            "colorbar": {
             "outlinewidth": 0,
             "ticks": ""
            },
            "colorscale": [
             [
              0,
              "#0d0887"
             ],
             [
              0.1111111111111111,
              "#46039f"
             ],
             [
              0.2222222222222222,
              "#7201a8"
             ],
             [
              0.3333333333333333,
              "#9c179e"
             ],
             [
              0.4444444444444444,
              "#bd3786"
             ],
             [
              0.5555555555555556,
              "#d8576b"
             ],
             [
              0.6666666666666666,
              "#ed7953"
             ],
             [
              0.7777777777777778,
              "#fb9f3a"
             ],
             [
              0.8888888888888888,
              "#fdca26"
             ],
             [
              1,
              "#f0f921"
             ]
            ],
            "type": "surface"
           }
          ],
          "table": [
           {
            "cells": {
             "fill": {
              "color": "#EBF0F8"
             },
             "line": {
              "color": "white"
             }
            },
            "header": {
             "fill": {
              "color": "#C8D4E3"
             },
             "line": {
              "color": "white"
             }
            },
            "type": "table"
           }
          ]
         },
         "layout": {
          "annotationdefaults": {
           "arrowcolor": "#2a3f5f",
           "arrowhead": 0,
           "arrowwidth": 1
          },
          "autotypenumbers": "strict",
          "coloraxis": {
           "colorbar": {
            "outlinewidth": 0,
            "ticks": ""
           }
          },
          "colorscale": {
           "diverging": [
            [
             0,
             "#8e0152"
            ],
            [
             0.1,
             "#c51b7d"
            ],
            [
             0.2,
             "#de77ae"
            ],
            [
             0.3,
             "#f1b6da"
            ],
            [
             0.4,
             "#fde0ef"
            ],
            [
             0.5,
             "#f7f7f7"
            ],
            [
             0.6,
             "#e6f5d0"
            ],
            [
             0.7,
             "#b8e186"
            ],
            [
             0.8,
             "#7fbc41"
            ],
            [
             0.9,
             "#4d9221"
            ],
            [
             1,
             "#276419"
            ]
           ],
           "sequential": [
            [
             0,
             "#0d0887"
            ],
            [
             0.1111111111111111,
             "#46039f"
            ],
            [
             0.2222222222222222,
             "#7201a8"
            ],
            [
             0.3333333333333333,
             "#9c179e"
            ],
            [
             0.4444444444444444,
             "#bd3786"
            ],
            [
             0.5555555555555556,
             "#d8576b"
            ],
            [
             0.6666666666666666,
             "#ed7953"
            ],
            [
             0.7777777777777778,
             "#fb9f3a"
            ],
            [
             0.8888888888888888,
             "#fdca26"
            ],
            [
             1,
             "#f0f921"
            ]
           ],
           "sequentialminus": [
            [
             0,
             "#0d0887"
            ],
            [
             0.1111111111111111,
             "#46039f"
            ],
            [
             0.2222222222222222,
             "#7201a8"
            ],
            [
             0.3333333333333333,
             "#9c179e"
            ],
            [
             0.4444444444444444,
             "#bd3786"
            ],
            [
             0.5555555555555556,
             "#d8576b"
            ],
            [
             0.6666666666666666,
             "#ed7953"
            ],
            [
             0.7777777777777778,
             "#fb9f3a"
            ],
            [
             0.8888888888888888,
             "#fdca26"
            ],
            [
             1,
             "#f0f921"
            ]
           ]
          },
          "colorway": [
           "#636efa",
           "#EF553B",
           "#00cc96",
           "#ab63fa",
           "#FFA15A",
           "#19d3f3",
           "#FF6692",
           "#B6E880",
           "#FF97FF",
           "#FECB52"
          ],
          "font": {
           "color": "#2a3f5f"
          },
          "geo": {
           "bgcolor": "white",
           "lakecolor": "white",
           "landcolor": "#E5ECF6",
           "showlakes": true,
           "showland": true,
           "subunitcolor": "white"
          },
          "hoverlabel": {
           "align": "left"
          },
          "hovermode": "closest",
          "mapbox": {
           "style": "light"
          },
          "paper_bgcolor": "white",
          "plot_bgcolor": "#E5ECF6",
          "polar": {
           "angularaxis": {
            "gridcolor": "white",
            "linecolor": "white",
            "ticks": ""
           },
           "bgcolor": "#E5ECF6",
           "radialaxis": {
            "gridcolor": "white",
            "linecolor": "white",
            "ticks": ""
           }
          },
          "scene": {
           "xaxis": {
            "backgroundcolor": "#E5ECF6",
            "gridcolor": "white",
            "gridwidth": 2,
            "linecolor": "white",
            "showbackground": true,
            "ticks": "",
            "zerolinecolor": "white"
           },
           "yaxis": {
            "backgroundcolor": "#E5ECF6",
            "gridcolor": "white",
            "gridwidth": 2,
            "linecolor": "white",
            "showbackground": true,
            "ticks": "",
            "zerolinecolor": "white"
           },
           "zaxis": {
            "backgroundcolor": "#E5ECF6",
            "gridcolor": "white",
            "gridwidth": 2,
            "linecolor": "white",
            "showbackground": true,
            "ticks": "",
            "zerolinecolor": "white"
           }
          },
          "shapedefaults": {
           "line": {
            "color": "#2a3f5f"
           }
          },
          "ternary": {
           "aaxis": {
            "gridcolor": "white",
            "linecolor": "white",
            "ticks": ""
           },
           "baxis": {
            "gridcolor": "white",
            "linecolor": "white",
            "ticks": ""
           },
           "bgcolor": "#E5ECF6",
           "caxis": {
            "gridcolor": "white",
            "linecolor": "white",
            "ticks": ""
           }
          },
          "title": {
           "x": 0.05
          },
          "xaxis": {
           "automargin": true,
           "gridcolor": "white",
           "linecolor": "white",
           "ticks": "",
           "title": {
            "standoff": 15
           },
           "zerolinecolor": "white",
           "zerolinewidth": 2
          },
          "yaxis": {
           "automargin": true,
           "gridcolor": "white",
           "linecolor": "white",
           "ticks": "",
           "title": {
            "standoff": 15
           },
           "zerolinecolor": "white",
           "zerolinewidth": 2
          }
         }
        },
        "title": {
         "text": "Percent of accidents per weather condition"
        }
       }
      }
     },
     "metadata": {},
     "output_type": "display_data"
    }
   ],
   "source": [
    "fig = px.sunburst(\n",
    "    data,\n",
    "    path=['Condition', 'Code'],\n",
    "    values='count',\n",
    "    title='Percent of accidents per weather condition'\n",
    ")\n",
    "fig.update_traces(textinfo='label+percent parent')\n",
    "# fig.update_layout(margin = dict(t=0, l=0, r=0, b=0))\n",
    "fig.update_traces(insidetextorientation='horizontal')\n",
    "fig.show()"
   ]
  },
  {
   "cell_type": "markdown",
   "metadata": {},
   "source": [
    "### What's the distribution of severity of accidents?\n"
   ]
  },
  {
   "cell_type": "code",
   "execution_count": 181,
   "metadata": {},
   "outputs": [
    {
     "data": {
      "text/html": [
       "<div>\n",
       "<style scoped>\n",
       "    .dataframe tbody tr th:only-of-type {\n",
       "        vertical-align: middle;\n",
       "    }\n",
       "\n",
       "    .dataframe tbody tr th {\n",
       "        vertical-align: top;\n",
       "    }\n",
       "\n",
       "    .dataframe thead th {\n",
       "        text-align: right;\n",
       "    }\n",
       "</style>\n",
       "<table border=\"1\" class=\"dataframe\">\n",
       "  <thead>\n",
       "    <tr style=\"text-align: right;\">\n",
       "      <th></th>\n",
       "      <th>AccidentSeverity</th>\n",
       "      <th>count</th>\n",
       "    </tr>\n",
       "  </thead>\n",
       "  <tbody>\n",
       "    <tr>\n",
       "      <th>0</th>\n",
       "      <td>No injuries</td>\n",
       "      <td>85000</td>\n",
       "    </tr>\n",
       "    <tr>\n",
       "      <th>1</th>\n",
       "      <td>Fatal</td>\n",
       "      <td>22089</td>\n",
       "    </tr>\n",
       "    <tr>\n",
       "      <th>2</th>\n",
       "      <td>Minor</td>\n",
       "      <td>18800</td>\n",
       "    </tr>\n",
       "    <tr>\n",
       "      <th>3</th>\n",
       "      <td>Serious</td>\n",
       "      <td>11524</td>\n",
       "    </tr>\n",
       "  </tbody>\n",
       "</table>\n",
       "</div>"
      ],
      "text/plain": [
       "  AccidentSeverity  count\n",
       "0      No injuries  85000\n",
       "1            Fatal  22089\n",
       "2            Minor  18800\n",
       "3          Serious  11524"
      ]
     },
     "execution_count": 181,
     "metadata": {},
     "output_type": "execute_result"
    }
   ],
   "source": [
    "df_severity = df.AccidentSeverity.value_counts().reset_index()\n",
    "df_severity"
   ]
  },
  {
   "cell_type": "code",
   "execution_count": 182,
   "metadata": {},
   "outputs": [
    {
     "data": {
      "image/png": "[encoded data removed]",
      "text/plain": [
       "<Figure size 640x480 with 1 Axes>"
      ]
     },
     "metadata": {},
     "output_type": "display_data"
    }
   ],
   "source": [
    "explode = (0.1, 0, 0.1, 0)\n",
    "palette = sns.color_palette(\"Set2\", n_colors=4, desat=0.9)\n",
    "fig, ax = plt.subplots()\n",
    "ax.pie(\n",
    "    df_severity[\"count\"],\n",
    "    explode=explode,\n",
    "    labels=df_severity.AccidentSeverity.to_list(),\n",
    "    autopct=\"%0.0f%%\",\n",
    "    shadow={\"ox\": -0.04, \"edgecolor\": \"none\", \"shade\": 0.9},\n",
    "    startangle=90,\n",
    "    colors=palette,\n",
    ")\n",
    "ax.set_title(\"Percent of accidents by severity\")\n",
    "plt.show()"
   ]
  },
  {
   "cell_type": "markdown",
   "metadata": {},
   "source": [
    "### How have fatalities fared through the years?\n"
   ]
  },
  {
   "cell_type": "code",
   "execution_count": 183,
   "metadata": {},
   "outputs": [
    {
     "data": {
      "image/png": "[encoded data removed]",
      "text/plain": [
       "<Figure size 640x480 with 1 Axes>"
      ]
     },
     "metadata": {},
     "output_type": "display_data"
    }
   ],
   "source": [
    "plt.plot(df.FatalInjuries)\n",
    "plt.show()"
   ]
  },
  {
   "cell_type": "code",
   "execution_count": 184,
   "metadata": {},
   "outputs": [
    {
     "data": {
      "text/html": [
       "<div>\n",
       "<style scoped>\n",
       "    .dataframe tbody tr th:only-of-type {\n",
       "        vertical-align: middle;\n",
       "    }\n",
       "\n",
       "    .dataframe tbody tr th {\n",
       "        vertical-align: top;\n",
       "    }\n",
       "\n",
       "    .dataframe thead th {\n",
       "        text-align: right;\n",
       "    }\n",
       "</style>\n",
       "<table border=\"1\" class=\"dataframe\">\n",
       "  <thead>\n",
       "    <tr style=\"text-align: right;\">\n",
       "      <th></th>\n",
       "      <th>FatalInjuries</th>\n",
       "    </tr>\n",
       "    <tr>\n",
       "      <th>Year</th>\n",
       "      <th></th>\n",
       "    </tr>\n",
       "  </thead>\n",
       "  <tbody>\n",
       "    <tr>\n",
       "      <th>1948</th>\n",
       "      <td>2.000000</td>\n",
       "    </tr>\n",
       "    <tr>\n",
       "      <th>1962</th>\n",
       "      <td>3.575758</td>\n",
       "    </tr>\n",
       "    <tr>\n",
       "      <th>1963</th>\n",
       "      <td>4.372881</td>\n",
       "    </tr>\n",
       "    <tr>\n",
       "      <th>1964</th>\n",
       "      <td>0.282473</td>\n",
       "    </tr>\n",
       "    <tr>\n",
       "      <th>1965</th>\n",
       "      <td>0.257960</td>\n",
       "    </tr>\n",
       "    <tr>\n",
       "      <th>...</th>\n",
       "      <td>...</td>\n",
       "    </tr>\n",
       "    <tr>\n",
       "      <th>2020</th>\n",
       "      <td>0.305450</td>\n",
       "    </tr>\n",
       "    <tr>\n",
       "      <th>2021</th>\n",
       "      <td>0.296296</td>\n",
       "    </tr>\n",
       "    <tr>\n",
       "      <th>2022</th>\n",
       "      <td>0.132638</td>\n",
       "    </tr>\n",
       "    <tr>\n",
       "      <th>2023</th>\n",
       "      <td>0.008021</td>\n",
       "    </tr>\n",
       "    <tr>\n",
       "      <th>2024</th>\n",
       "      <td>0.000000</td>\n",
       "    </tr>\n",
       "  </tbody>\n",
       "</table>\n",
       "<p>64 rows × 1 columns</p>\n",
       "</div>"
      ],
      "text/plain": [
       "      FatalInjuries\n",
       "Year               \n",
       "1948       2.000000\n",
       "1962       3.575758\n",
       "1963       4.372881\n",
       "1964       0.282473\n",
       "1965       0.257960\n",
       "...             ...\n",
       "2020       0.305450\n",
       "2021       0.296296\n",
       "2022       0.132638\n",
       "2023       0.008021\n",
       "2024       0.000000\n",
       "\n",
       "[64 rows x 1 columns]"
      ]
     },
     "execution_count": 184,
     "metadata": {},
     "output_type": "execute_result"
    }
   ],
   "source": [
    "avg_fatalities = df.groupby(\"Year\")[\"FatalInjuries\"].mean()\n",
    "avg_fatalities = pd.DataFrame(avg_fatalities)\n",
    "avg_fatalities"
   ]
  },
  {
   "cell_type": "code",
   "execution_count": 185,
   "metadata": {},
   "outputs": [
    {
     "data": {
      "text/plain": [
       "[<matplotlib.lines.Line2D at 0x177b51e90>]"
      ]
     },
     "execution_count": 185,
     "metadata": {},
     "output_type": "execute_result"
    },
    {
     "data": {
      "image/png": "[encoded data removed]",
      "text/plain": [
       "<Figure size 640x480 with 1 Axes>"
      ]
     },
     "metadata": {},
     "output_type": "display_data"
    }
   ],
   "source": [
    "plt.plot(avg_fatalities)"
   ]
  },
  {
   "cell_type": "code",
   "execution_count": 186,
   "metadata": {},
   "outputs": [
    {
     "data": {
      "text/html": [
       "<div>\n",
       "<style scoped>\n",
       "    .dataframe tbody tr th:only-of-type {\n",
       "        vertical-align: middle;\n",
       "    }\n",
       "\n",
       "    .dataframe tbody tr th {\n",
       "        vertical-align: top;\n",
       "    }\n",
       "\n",
       "    .dataframe thead th {\n",
       "        text-align: right;\n",
       "    }\n",
       "</style>\n",
       "<table border=\"1\" class=\"dataframe\">\n",
       "  <thead>\n",
       "    <tr style=\"text-align: right;\">\n",
       "      <th></th>\n",
       "      <th>FatalInjuries</th>\n",
       "    </tr>\n",
       "    <tr>\n",
       "      <th>Year</th>\n",
       "      <th></th>\n",
       "    </tr>\n",
       "  </thead>\n",
       "  <tbody>\n",
       "    <tr>\n",
       "      <th>1948</th>\n",
       "      <td>2.0</td>\n",
       "    </tr>\n",
       "    <tr>\n",
       "      <th>1962</th>\n",
       "      <td>0.0</td>\n",
       "    </tr>\n",
       "    <tr>\n",
       "      <th>1963</th>\n",
       "      <td>0.0</td>\n",
       "    </tr>\n",
       "    <tr>\n",
       "      <th>1964</th>\n",
       "      <td>0.0</td>\n",
       "    </tr>\n",
       "    <tr>\n",
       "      <th>1965</th>\n",
       "      <td>0.0</td>\n",
       "    </tr>\n",
       "    <tr>\n",
       "      <th>...</th>\n",
       "      <td>...</td>\n",
       "    </tr>\n",
       "    <tr>\n",
       "      <th>2020</th>\n",
       "      <td>0.0</td>\n",
       "    </tr>\n",
       "    <tr>\n",
       "      <th>2021</th>\n",
       "      <td>0.0</td>\n",
       "    </tr>\n",
       "    <tr>\n",
       "      <th>2022</th>\n",
       "      <td>0.0</td>\n",
       "    </tr>\n",
       "    <tr>\n",
       "      <th>2023</th>\n",
       "      <td>0.0</td>\n",
       "    </tr>\n",
       "    <tr>\n",
       "      <th>2024</th>\n",
       "      <td>0.0</td>\n",
       "    </tr>\n",
       "  </tbody>\n",
       "</table>\n",
       "<p>64 rows × 1 columns</p>\n",
       "</div>"
      ],
      "text/plain": [
       "      FatalInjuries\n",
       "Year               \n",
       "1948            2.0\n",
       "1962            0.0\n",
       "1963            0.0\n",
       "1964            0.0\n",
       "1965            0.0\n",
       "...             ...\n",
       "2020            0.0\n",
       "2021            0.0\n",
       "2022            0.0\n",
       "2023            0.0\n",
       "2024            0.0\n",
       "\n",
       "[64 rows x 1 columns]"
      ]
     },
     "execution_count": 186,
     "metadata": {},
     "output_type": "execute_result"
    }
   ],
   "source": [
    "median_fatalities = df.groupby(\"Year\")[\"FatalInjuries\"].median()\n",
    "median_fatalities = pd.DataFrame(median_fatalities)\n",
    "median_fatalities"
   ]
  },
  {
   "cell_type": "code",
   "execution_count": 187,
   "metadata": {},
   "outputs": [
    {
     "data": {
      "text/plain": [
       "[<matplotlib.lines.Line2D at 0x177b85c90>]"
      ]
     },
     "execution_count": 187,
     "metadata": {},
     "output_type": "execute_result"
    },
    {
     "data": {
      "image/png": "[encoded data removed]",
      "text/plain": [
       "<Figure size 640x480 with 1 Axes>"
      ]
     },
     "metadata": {},
     "output_type": "display_data"
    }
   ],
   "source": [
    "plt.plot(median_fatalities)"
   ]
  },
  {
   "cell_type": "code",
   "execution_count": 188,
   "metadata": {},
   "outputs": [
    {
     "data": {
      "text/html": [
       "<div>\n",
       "<style scoped>\n",
       "    .dataframe tbody tr th:only-of-type {\n",
       "        vertical-align: middle;\n",
       "    }\n",
       "\n",
       "    .dataframe tbody tr th {\n",
       "        vertical-align: top;\n",
       "    }\n",
       "\n",
       "    .dataframe thead th {\n",
       "        text-align: right;\n",
       "    }\n",
       "</style>\n",
       "<table border=\"1\" class=\"dataframe\">\n",
       "  <thead>\n",
       "    <tr style=\"text-align: right;\">\n",
       "      <th></th>\n",
       "      <th>City</th>\n",
       "      <th>Country</th>\n",
       "      <th>FatalInjuries</th>\n",
       "      <th>SeriousInjuries</th>\n",
       "      <th>MinorInjuries</th>\n",
       "      <th>Latitude</th>\n",
       "      <th>Longitude</th>\n",
       "      <th>NumberOfEngines</th>\n",
       "      <th>AirCraftDamage</th>\n",
       "      <th>WeatherCondition</th>\n",
       "      <th>EventTime</th>\n",
       "      <th>Year</th>\n",
       "      <th>AccidentSeverity</th>\n",
       "      <th>NumberOfAircraftInvolved</th>\n",
       "    </tr>\n",
       "    <tr>\n",
       "      <th>EventDate</th>\n",
       "      <th></th>\n",
       "      <th></th>\n",
       "      <th></th>\n",
       "      <th></th>\n",
       "      <th></th>\n",
       "      <th></th>\n",
       "      <th></th>\n",
       "      <th></th>\n",
       "      <th></th>\n",
       "      <th></th>\n",
       "      <th></th>\n",
       "      <th></th>\n",
       "      <th></th>\n",
       "      <th></th>\n",
       "    </tr>\n",
       "  </thead>\n",
       "  <tbody>\n",
       "    <tr>\n",
       "      <th>1977-03-27</th>\n",
       "      <td>TENERIFE</td>\n",
       "      <td>Spain</td>\n",
       "      <td>574</td>\n",
       "      <td>34</td>\n",
       "      <td>36</td>\n",
       "      <td>0.000000</td>\n",
       "      <td>0.000000</td>\n",
       "      <td>4,4</td>\n",
       "      <td>Destroyed</td>\n",
       "      <td>IFR</td>\n",
       "      <td>NaN</td>\n",
       "      <td>1977</td>\n",
       "      <td>Fatal</td>\n",
       "      <td>2</td>\n",
       "    </tr>\n",
       "    <tr>\n",
       "      <th>1979-05-25</th>\n",
       "      <td>CHICAGO</td>\n",
       "      <td>United States</td>\n",
       "      <td>271</td>\n",
       "      <td>0</td>\n",
       "      <td>0</td>\n",
       "      <td>0.000000</td>\n",
       "      <td>0.000000</td>\n",
       "      <td>3</td>\n",
       "      <td>Destroyed</td>\n",
       "      <td>VFR</td>\n",
       "      <td>NaN</td>\n",
       "      <td>1979</td>\n",
       "      <td>Fatal</td>\n",
       "      <td>1</td>\n",
       "    </tr>\n",
       "    <tr>\n",
       "      <th>2001-11-12</th>\n",
       "      <td>Belle Harbor</td>\n",
       "      <td>United States</td>\n",
       "      <td>265</td>\n",
       "      <td>0</td>\n",
       "      <td>0</td>\n",
       "      <td>40.579170</td>\n",
       "      <td>-73.840538</td>\n",
       "      <td>2</td>\n",
       "      <td>Destroyed</td>\n",
       "      <td>VMC</td>\n",
       "      <td>51600.0</td>\n",
       "      <td>2001</td>\n",
       "      <td>Fatal</td>\n",
       "      <td>1</td>\n",
       "    </tr>\n",
       "    <tr>\n",
       "      <th>1996-07-17</th>\n",
       "      <td>EAST MORICHES</td>\n",
       "      <td>United States</td>\n",
       "      <td>230</td>\n",
       "      <td>0</td>\n",
       "      <td>0</td>\n",
       "      <td>40.849903</td>\n",
       "      <td>-72.789421</td>\n",
       "      <td>4</td>\n",
       "      <td>Destroyed</td>\n",
       "      <td>VMC</td>\n",
       "      <td>163100.0</td>\n",
       "      <td>1996</td>\n",
       "      <td>Fatal</td>\n",
       "      <td>1</td>\n",
       "    </tr>\n",
       "    <tr>\n",
       "      <th>1997-08-05</th>\n",
       "      <td>NIMITZ HILL</td>\n",
       "      <td>United States</td>\n",
       "      <td>228</td>\n",
       "      <td>26</td>\n",
       "      <td>0</td>\n",
       "      <td>0.000000</td>\n",
       "      <td>0.000000</td>\n",
       "      <td>4</td>\n",
       "      <td>Destroyed</td>\n",
       "      <td>IMC</td>\n",
       "      <td>214200.0</td>\n",
       "      <td>1997</td>\n",
       "      <td>Fatal</td>\n",
       "      <td>1</td>\n",
       "    </tr>\n",
       "  </tbody>\n",
       "</table>\n",
       "</div>"
      ],
      "text/plain": [
       "                     City        Country  FatalInjuries  SeriousInjuries  \\\n",
       "EventDate                                                                  \n",
       "1977-03-27       TENERIFE          Spain            574               34   \n",
       "1979-05-25        CHICAGO  United States            271                0   \n",
       "2001-11-12   Belle Harbor  United States            265                0   \n",
       "1996-07-17  EAST MORICHES  United States            230                0   \n",
       "1997-08-05    NIMITZ HILL  United States            228               26   \n",
       "\n",
       "            MinorInjuries   Latitude  Longitude NumberOfEngines  \\\n",
       "EventDate                                                         \n",
       "1977-03-27             36   0.000000   0.000000             4,4   \n",
       "1979-05-25              0   0.000000   0.000000               3   \n",
       "2001-11-12              0  40.579170 -73.840538               2   \n",
       "1996-07-17              0  40.849903 -72.789421               4   \n",
       "1997-08-05              0   0.000000   0.000000               4   \n",
       "\n",
       "           AirCraftDamage WeatherCondition  EventTime  Year AccidentSeverity  \\\n",
       "EventDate                                                                      \n",
       "1977-03-27      Destroyed              IFR        NaN  1977            Fatal   \n",
       "1979-05-25      Destroyed              VFR        NaN  1979            Fatal   \n",
       "2001-11-12      Destroyed              VMC    51600.0  2001            Fatal   \n",
       "1996-07-17      Destroyed              VMC   163100.0  1996            Fatal   \n",
       "1997-08-05      Destroyed              IMC   214200.0  1997            Fatal   \n",
       "\n",
       "            NumberOfAircraftInvolved  \n",
       "EventDate                             \n",
       "1977-03-27                         2  \n",
       "1979-05-25                         1  \n",
       "2001-11-12                         1  \n",
       "1996-07-17                         1  \n",
       "1997-08-05                         1  "
      ]
     },
     "execution_count": 188,
     "metadata": {},
     "output_type": "execute_result"
    }
   ],
   "source": [
    "# let's find the most fatal accidents\n",
    "df.sort_values(by=\"FatalInjuries\", ascending=False).head()"
   ]
  },
  {
   "cell_type": "markdown",
   "metadata": {},
   "source": [
    "### What's the correlation between the numeric variables?\n"
   ]
  },
  {
   "cell_type": "code",
   "execution_count": 189,
   "metadata": {},
   "outputs": [],
   "source": [
    "numeric_data = df_box.reset_index()"
   ]
  },
  {
   "cell_type": "code",
   "execution_count": 190,
   "metadata": {},
   "outputs": [],
   "source": [
    "numeric_data.drop(columns=[\"EventDate\"], inplace=True)"
   ]
  },
  {
   "cell_type": "code",
   "execution_count": 191,
   "metadata": {},
   "outputs": [
    {
     "data": {
      "text/html": [
       "<div>\n",
       "<style scoped>\n",
       "    .dataframe tbody tr th:only-of-type {\n",
       "        vertical-align: middle;\n",
       "    }\n",
       "\n",
       "    .dataframe tbody tr th {\n",
       "        vertical-align: top;\n",
       "    }\n",
       "\n",
       "    .dataframe thead th {\n",
       "        text-align: right;\n",
       "    }\n",
       "</style>\n",
       "<table border=\"1\" class=\"dataframe\">\n",
       "  <thead>\n",
       "    <tr style=\"text-align: right;\">\n",
       "      <th></th>\n",
       "      <th>FatalInjuries</th>\n",
       "      <th>SeriousInjuries</th>\n",
       "      <th>MinorInjuries</th>\n",
       "      <th>EventTime</th>\n",
       "      <th>Year</th>\n",
       "      <th>NumberOfAircraftInvolved</th>\n",
       "    </tr>\n",
       "  </thead>\n",
       "  <tbody>\n",
       "    <tr>\n",
       "      <th>0</th>\n",
       "      <td>0</td>\n",
       "      <td>0</td>\n",
       "      <td>0</td>\n",
       "      <td>114000.0</td>\n",
       "      <td>2024</td>\n",
       "      <td>1</td>\n",
       "    </tr>\n",
       "    <tr>\n",
       "      <th>1</th>\n",
       "      <td>0</td>\n",
       "      <td>0</td>\n",
       "      <td>1</td>\n",
       "      <td>65700.0</td>\n",
       "      <td>2023</td>\n",
       "      <td>1</td>\n",
       "    </tr>\n",
       "    <tr>\n",
       "      <th>2</th>\n",
       "      <td>0</td>\n",
       "      <td>0</td>\n",
       "      <td>0</td>\n",
       "      <td>81500.0</td>\n",
       "      <td>2023</td>\n",
       "      <td>1</td>\n",
       "    </tr>\n",
       "    <tr>\n",
       "      <th>3</th>\n",
       "      <td>0</td>\n",
       "      <td>0</td>\n",
       "      <td>0</td>\n",
       "      <td>124400.0</td>\n",
       "      <td>2023</td>\n",
       "      <td>1</td>\n",
       "    </tr>\n",
       "    <tr>\n",
       "      <th>4</th>\n",
       "      <td>0</td>\n",
       "      <td>0</td>\n",
       "      <td>0</td>\n",
       "      <td>81500.0</td>\n",
       "      <td>2023</td>\n",
       "      <td>1</td>\n",
       "    </tr>\n",
       "  </tbody>\n",
       "</table>\n",
       "</div>"
      ],
      "text/plain": [
       "   FatalInjuries  SeriousInjuries  MinorInjuries  EventTime  Year  \\\n",
       "0              0                0              0   114000.0  2024   \n",
       "1              0                0              1    65700.0  2023   \n",
       "2              0                0              0    81500.0  2023   \n",
       "3              0                0              0   124400.0  2023   \n",
       "4              0                0              0    81500.0  2023   \n",
       "\n",
       "   NumberOfAircraftInvolved  \n",
       "0                         1  \n",
       "1                         1  \n",
       "2                         1  \n",
       "3                         1  \n",
       "4                         1  "
      ]
     },
     "execution_count": 191,
     "metadata": {},
     "output_type": "execute_result"
    }
   ],
   "source": [
    "numeric_data.head()"
   ]
  },
  {
   "cell_type": "code",
   "execution_count": 192,
   "metadata": {},
   "outputs": [
    {
     "data": {
      "image/png": "[encoded data removed]",
      "text/plain": [
       "<Figure size 1000x800 with 2 Axes>"
      ]
     },
     "metadata": {},
     "output_type": "display_data"
    }
   ],
   "source": [
    "corr = numeric_data.corr()\n",
    "\n",
    "# Generate a mask for the upper triangle\n",
    "mask = np.triu(corr)\n",
    "col = corr.columns.tolist()\n",
    "row = corr.index.tolist()\n",
    "mask = np.array(mask)\n",
    "mask = pd.DataFrame(mask, columns=col, index=row)\n",
    "mask = mask.mask(mask == 0)\n",
    "mask = mask == corr\n",
    "\n",
    "corr = corr.mask(corr == 1, 0)\n",
    "\n",
    "# Draw Heat Map\n",
    "\n",
    "# Set up the matplotlib figure\n",
    "plt.rcParams.update({\"font.size\": 10})\n",
    "fig, ax = plt.subplots(figsize=(10, 8))\n",
    "\n",
    "\n",
    "g = sns.heatmap(\n",
    "    corr,\n",
    "    vmax=0.32,\n",
    "    vmin=-0.16,\n",
    "    mask=mask,\n",
    "    fmt=\".2f\",\n",
    "    annot=True,\n",
    "    center=0,\n",
    "    cbar_kws={\"shrink\": 0.5},\n",
    "    linewidths=0.6,\n",
    "    cmap=\"flare\",\n",
    ")"
   ]
  },
  {
   "cell_type": "markdown",
   "metadata": {},
   "source": [
    "### What's the percentage of accidents per type of damage?\n"
   ]
  },
  {
   "cell_type": "code",
   "execution_count": 193,
   "metadata": {},
   "outputs": [
    {
     "data": {
      "text/html": [
       "<div>\n",
       "<style scoped>\n",
       "    .dataframe tbody tr th:only-of-type {\n",
       "        vertical-align: middle;\n",
       "    }\n",
       "\n",
       "    .dataframe tbody tr th {\n",
       "        vertical-align: top;\n",
       "    }\n",
       "\n",
       "    .dataframe thead th {\n",
       "        text-align: right;\n",
       "    }\n",
       "</style>\n",
       "<table border=\"1\" class=\"dataframe\">\n",
       "  <thead>\n",
       "    <tr style=\"text-align: right;\">\n",
       "      <th></th>\n",
       "      <th>AirCraftDamage</th>\n",
       "      <th>count</th>\n",
       "    </tr>\n",
       "  </thead>\n",
       "  <tbody>\n",
       "    <tr>\n",
       "      <th>0</th>\n",
       "      <td>Substantial</td>\n",
       "      <td>106648</td>\n",
       "    </tr>\n",
       "    <tr>\n",
       "      <th>1</th>\n",
       "      <td>Destroyed</td>\n",
       "      <td>30336</td>\n",
       "    </tr>\n",
       "    <tr>\n",
       "      <th>2</th>\n",
       "      <td>Minor</td>\n",
       "      <td>403</td>\n",
       "    </tr>\n",
       "    <tr>\n",
       "      <th>3</th>\n",
       "      <td>Unknown</td>\n",
       "      <td>26</td>\n",
       "    </tr>\n",
       "  </tbody>\n",
       "</table>\n",
       "</div>"
      ],
      "text/plain": [
       "  AirCraftDamage   count\n",
       "0    Substantial  106648\n",
       "1      Destroyed   30336\n",
       "2          Minor     403\n",
       "3        Unknown      26"
      ]
     },
     "execution_count": 193,
     "metadata": {},
     "output_type": "execute_result"
    }
   ],
   "source": [
    "damage = df.AirCraftDamage.value_counts().reset_index()\n",
    "damage"
   ]
  },
  {
   "cell_type": "code",
   "execution_count": 194,
   "metadata": {},
   "outputs": [
    {
     "data": {
      "text/html": [
       "<div>\n",
       "<style scoped>\n",
       "    .dataframe tbody tr th:only-of-type {\n",
       "        vertical-align: middle;\n",
       "    }\n",
       "\n",
       "    .dataframe tbody tr th {\n",
       "        vertical-align: top;\n",
       "    }\n",
       "\n",
       "    .dataframe thead th {\n",
       "        text-align: right;\n",
       "    }\n",
       "</style>\n",
       "<table border=\"1\" class=\"dataframe\">\n",
       "  <thead>\n",
       "    <tr style=\"text-align: right;\">\n",
       "      <th></th>\n",
       "      <th>AirCraftDamage</th>\n",
       "      <th>count</th>\n",
       "    </tr>\n",
       "  </thead>\n",
       "  <tbody>\n",
       "    <tr>\n",
       "      <th>0</th>\n",
       "      <td>Substantial</td>\n",
       "      <td>106648</td>\n",
       "    </tr>\n",
       "    <tr>\n",
       "      <th>1</th>\n",
       "      <td>Destroyed</td>\n",
       "      <td>30336</td>\n",
       "    </tr>\n",
       "    <tr>\n",
       "      <th>2</th>\n",
       "      <td>Minor</td>\n",
       "      <td>403</td>\n",
       "    </tr>\n",
       "  </tbody>\n",
       "</table>\n",
       "</div>"
      ],
      "text/plain": [
       "  AirCraftDamage   count\n",
       "0    Substantial  106648\n",
       "1      Destroyed   30336\n",
       "2          Minor     403"
      ]
     },
     "execution_count": 194,
     "metadata": {},
     "output_type": "execute_result"
    }
   ],
   "source": [
    "damage.drop(index=3, inplace=True)\n",
    "damage"
   ]
  },
  {
   "cell_type": "code",
   "execution_count": 195,
   "metadata": {},
   "outputs": [
    {
     "data": {
      "image/png": "[encoded data removed]",
      "text/plain": [
       "<Figure size 640x480 with 1 Axes>"
      ]
     },
     "metadata": {},
     "output_type": "display_data"
    }
   ],
   "source": [
    "explode = (0.1, 0, 0.1)\n",
    "palette = sns.color_palette(\"Set2\", n_colors=4, desat=0.9)\n",
    "fig, ax = plt.subplots()\n",
    "ax.pie(\n",
    "    damage[\"count\"],\n",
    "    explode=explode,\n",
    "    labels=damage.AirCraftDamage.to_list(),\n",
    "    autopct=\"%0.1f%%\",\n",
    "    shadow={\"ox\": -0.04, \"edgecolor\": \"none\", \"shade\": 0.9},\n",
    "    startangle=45,\n",
    "    colors=palette,\n",
    ")\n",
    "ax.set_title(\"Percent of accidents by aircraft damage\")\n",
    "plt.show()"
   ]
  },
  {
   "cell_type": "markdown",
   "metadata": {},
   "source": [
    "### What's the percent of accidents per number of aircraft involved?\n"
   ]
  },
  {
   "cell_type": "code",
   "execution_count": 196,
   "metadata": {},
   "outputs": [
    {
     "data": {
      "text/html": [
       "<div>\n",
       "<style scoped>\n",
       "    .dataframe tbody tr th:only-of-type {\n",
       "        vertical-align: middle;\n",
       "    }\n",
       "\n",
       "    .dataframe tbody tr th {\n",
       "        vertical-align: top;\n",
       "    }\n",
       "\n",
       "    .dataframe thead th {\n",
       "        text-align: right;\n",
       "    }\n",
       "</style>\n",
       "<table border=\"1\" class=\"dataframe\">\n",
       "  <thead>\n",
       "    <tr style=\"text-align: right;\">\n",
       "      <th></th>\n",
       "      <th>NumberOfAircraftInvolved</th>\n",
       "      <th>count</th>\n",
       "    </tr>\n",
       "  </thead>\n",
       "  <tbody>\n",
       "    <tr>\n",
       "      <th>0</th>\n",
       "      <td>1</td>\n",
       "      <td>135649</td>\n",
       "    </tr>\n",
       "    <tr>\n",
       "      <th>1</th>\n",
       "      <td>2</td>\n",
       "      <td>1762</td>\n",
       "    </tr>\n",
       "    <tr>\n",
       "      <th>2</th>\n",
       "      <td>3</td>\n",
       "      <td>2</td>\n",
       "    </tr>\n",
       "  </tbody>\n",
       "</table>\n",
       "</div>"
      ],
      "text/plain": [
       "   NumberOfAircraftInvolved   count\n",
       "0                         1  135649\n",
       "1                         2    1762\n",
       "2                         3       2"
      ]
     },
     "execution_count": 196,
     "metadata": {},
     "output_type": "execute_result"
    }
   ],
   "source": [
    "num_aircraft = df.NumberOfAircraftInvolved.value_counts().reset_index()\n",
    "num_aircraft"
   ]
  },
  {
   "cell_type": "code",
   "execution_count": 197,
   "metadata": {},
   "outputs": [
    {
     "data": {
      "image/png": "[encoded data removed]",
      "text/plain": [
       "<Figure size 640x480 with 1 Axes>"
      ]
     },
     "metadata": {},
     "output_type": "display_data"
    }
   ],
   "source": [
    "ax = sns.barplot(\n",
    "    num_aircraft,\n",
    "    x=num_aircraft.NumberOfAircraftInvolved,\n",
    "    y=num_aircraft[\"count\"],\n",
    "    palette=\"muted\"\n",
    "\n",
    ")\n",
    "ax.set_yscale('log')\n",
    "for p in ax.patches:\n",
    "    ax.annotate(\n",
    "        f'{p.get_height():.0f}',\n",
    "        (p.get_x() + p.get_width() / 2, p.get_height()),\n",
    "        ha=\"center\",\n",
    "        va=\"bottom\",\n",
    "    )"
   ]
  },
  {
   "cell_type": "markdown",
   "metadata": {},
   "source": [
    "### Out of the accidents involving one aircraft, what's the percentage of accidents per number of engines?\n"
   ]
  },
  {
   "cell_type": "code",
   "execution_count": 198,
   "metadata": {},
   "outputs": [
    {
     "data": {
      "text/html": [
       "<div>\n",
       "<style scoped>\n",
       "    .dataframe tbody tr th:only-of-type {\n",
       "        vertical-align: middle;\n",
       "    }\n",
       "\n",
       "    .dataframe tbody tr th {\n",
       "        vertical-align: top;\n",
       "    }\n",
       "\n",
       "    .dataframe thead th {\n",
       "        text-align: right;\n",
       "    }\n",
       "</style>\n",
       "<table border=\"1\" class=\"dataframe\">\n",
       "  <thead>\n",
       "    <tr style=\"text-align: right;\">\n",
       "      <th></th>\n",
       "      <th>City</th>\n",
       "      <th>Country</th>\n",
       "      <th>FatalInjuries</th>\n",
       "      <th>SeriousInjuries</th>\n",
       "      <th>MinorInjuries</th>\n",
       "      <th>Latitude</th>\n",
       "      <th>Longitude</th>\n",
       "      <th>NumberOfEngines</th>\n",
       "      <th>AirCraftDamage</th>\n",
       "      <th>WeatherCondition</th>\n",
       "      <th>EventTime</th>\n",
       "      <th>Year</th>\n",
       "      <th>AccidentSeverity</th>\n",
       "      <th>NumberOfAircraftInvolved</th>\n",
       "    </tr>\n",
       "    <tr>\n",
       "      <th>EventDate</th>\n",
       "      <th></th>\n",
       "      <th></th>\n",
       "      <th></th>\n",
       "      <th></th>\n",
       "      <th></th>\n",
       "      <th></th>\n",
       "      <th></th>\n",
       "      <th></th>\n",
       "      <th></th>\n",
       "      <th></th>\n",
       "      <th></th>\n",
       "      <th></th>\n",
       "      <th></th>\n",
       "      <th></th>\n",
       "    </tr>\n",
       "  </thead>\n",
       "  <tbody>\n",
       "    <tr>\n",
       "      <th>2005-07-26</th>\n",
       "      <td>Malone</td>\n",
       "      <td>United States</td>\n",
       "      <td>1</td>\n",
       "      <td>0</td>\n",
       "      <td>0</td>\n",
       "      <td>43.932777</td>\n",
       "      <td>-88.308609</td>\n",
       "      <td>1</td>\n",
       "      <td>Destroyed</td>\n",
       "      <td>VMC</td>\n",
       "      <td>120000.0</td>\n",
       "      <td>2005</td>\n",
       "      <td>Fatal</td>\n",
       "      <td>1</td>\n",
       "    </tr>\n",
       "    <tr>\n",
       "      <th>1982-06-29</th>\n",
       "      <td>MARTINSBURG</td>\n",
       "      <td>United States</td>\n",
       "      <td>0</td>\n",
       "      <td>0</td>\n",
       "      <td>0</td>\n",
       "      <td>39.459400</td>\n",
       "      <td>-77.969024</td>\n",
       "      <td>1</td>\n",
       "      <td>Substantial</td>\n",
       "      <td>VMC</td>\n",
       "      <td>183000.0</td>\n",
       "      <td>1982</td>\n",
       "      <td>No injuries</td>\n",
       "      <td>1</td>\n",
       "    </tr>\n",
       "    <tr>\n",
       "      <th>1974-05-30</th>\n",
       "      <td>LAFAYETTE</td>\n",
       "      <td>United States</td>\n",
       "      <td>1</td>\n",
       "      <td>0</td>\n",
       "      <td>0</td>\n",
       "      <td>0.000000</td>\n",
       "      <td>0.000000</td>\n",
       "      <td>2</td>\n",
       "      <td>Destroyed</td>\n",
       "      <td>IFR</td>\n",
       "      <td>NaN</td>\n",
       "      <td>1974</td>\n",
       "      <td>Fatal</td>\n",
       "      <td>1</td>\n",
       "    </tr>\n",
       "    <tr>\n",
       "      <th>1970-05-15</th>\n",
       "      <td>FT BLISS</td>\n",
       "      <td>United States</td>\n",
       "      <td>0</td>\n",
       "      <td>0</td>\n",
       "      <td>0</td>\n",
       "      <td>0.000000</td>\n",
       "      <td>0.000000</td>\n",
       "      <td>1</td>\n",
       "      <td>Substantial</td>\n",
       "      <td>VFR</td>\n",
       "      <td>NaN</td>\n",
       "      <td>1970</td>\n",
       "      <td>No injuries</td>\n",
       "      <td>1</td>\n",
       "    </tr>\n",
       "    <tr>\n",
       "      <th>1972-09-10</th>\n",
       "      <td>GREENE</td>\n",
       "      <td>United States</td>\n",
       "      <td>0</td>\n",
       "      <td>0</td>\n",
       "      <td>0</td>\n",
       "      <td>0.000000</td>\n",
       "      <td>0.000000</td>\n",
       "      <td>1</td>\n",
       "      <td>Substantial</td>\n",
       "      <td>VFR</td>\n",
       "      <td>NaN</td>\n",
       "      <td>1972</td>\n",
       "      <td>No injuries</td>\n",
       "      <td>1</td>\n",
       "    </tr>\n",
       "  </tbody>\n",
       "</table>\n",
       "</div>"
      ],
      "text/plain": [
       "                   City        Country  FatalInjuries  SeriousInjuries  \\\n",
       "EventDate                                                                \n",
       "2005-07-26       Malone  United States              1                0   \n",
       "1982-06-29  MARTINSBURG  United States              0                0   \n",
       "1974-05-30    LAFAYETTE  United States              1                0   \n",
       "1970-05-15     FT BLISS  United States              0                0   \n",
       "1972-09-10       GREENE  United States              0                0   \n",
       "\n",
       "            MinorInjuries   Latitude  Longitude NumberOfEngines  \\\n",
       "EventDate                                                         \n",
       "2005-07-26              0  43.932777 -88.308609               1   \n",
       "1982-06-29              0  39.459400 -77.969024               1   \n",
       "1974-05-30              0   0.000000   0.000000               2   \n",
       "1970-05-15              0   0.000000   0.000000               1   \n",
       "1972-09-10              0   0.000000   0.000000               1   \n",
       "\n",
       "           AirCraftDamage WeatherCondition  EventTime  Year AccidentSeverity  \\\n",
       "EventDate                                                                      \n",
       "2005-07-26      Destroyed              VMC   120000.0  2005            Fatal   \n",
       "1982-06-29    Substantial              VMC   183000.0  1982      No injuries   \n",
       "1974-05-30      Destroyed              IFR        NaN  1974            Fatal   \n",
       "1970-05-15    Substantial              VFR        NaN  1970      No injuries   \n",
       "1972-09-10    Substantial              VFR        NaN  1972      No injuries   \n",
       "\n",
       "            NumberOfAircraftInvolved  \n",
       "EventDate                             \n",
       "2005-07-26                         1  \n",
       "1982-06-29                         1  \n",
       "1974-05-30                         1  \n",
       "1970-05-15                         1  \n",
       "1972-09-10                         1  "
      ]
     },
     "execution_count": 198,
     "metadata": {},
     "output_type": "execute_result"
    }
   ],
   "source": [
    "df.sample(5)"
   ]
  },
  {
   "cell_type": "code",
   "execution_count": 199,
   "metadata": {},
   "outputs": [
    {
     "data": {
      "text/html": [
       "<div>\n",
       "<style scoped>\n",
       "    .dataframe tbody tr th:only-of-type {\n",
       "        vertical-align: middle;\n",
       "    }\n",
       "\n",
       "    .dataframe tbody tr th {\n",
       "        vertical-align: top;\n",
       "    }\n",
       "\n",
       "    .dataframe thead th {\n",
       "        text-align: right;\n",
       "    }\n",
       "</style>\n",
       "<table border=\"1\" class=\"dataframe\">\n",
       "  <thead>\n",
       "    <tr style=\"text-align: right;\">\n",
       "      <th></th>\n",
       "      <th>NumberOfEngines</th>\n",
       "      <th>count</th>\n",
       "    </tr>\n",
       "  </thead>\n",
       "  <tbody>\n",
       "    <tr>\n",
       "      <th>0</th>\n",
       "      <td>1</td>\n",
       "      <td>117795</td>\n",
       "    </tr>\n",
       "    <tr>\n",
       "      <th>1</th>\n",
       "      <td>2</td>\n",
       "      <td>16947</td>\n",
       "    </tr>\n",
       "    <tr>\n",
       "      <th>2</th>\n",
       "      <td>4</td>\n",
       "      <td>578</td>\n",
       "    </tr>\n",
       "    <tr>\n",
       "      <th>3</th>\n",
       "      <td>3</td>\n",
       "      <td>221</td>\n",
       "    </tr>\n",
       "    <tr>\n",
       "      <th>4</th>\n",
       "      <td>0</td>\n",
       "      <td>108</td>\n",
       "    </tr>\n",
       "  </tbody>\n",
       "</table>\n",
       "</div>"
      ],
      "text/plain": [
       "  NumberOfEngines   count\n",
       "0               1  117795\n",
       "1               2   16947\n",
       "2               4     578\n",
       "3               3     221\n",
       "4               0     108"
      ]
     },
     "execution_count": 199,
     "metadata": {},
     "output_type": "execute_result"
    }
   ],
   "source": [
    "engines = (\n",
    "    df.loc[df.NumberOfAircraftInvolved == 1, \"NumberOfEngines\"]\n",
    "    .value_counts()\n",
    "    .reset_index()\n",
    ")\n",
    "engines"
   ]
  },
  {
   "cell_type": "code",
   "execution_count": 200,
   "metadata": {},
   "outputs": [],
   "source": [
    "engines.drop(index=4, inplace=True)"
   ]
  },
  {
   "cell_type": "code",
   "execution_count": 201,
   "metadata": {},
   "outputs": [],
   "source": [
    "engines = engines.sort_values(by=\"NumberOfEngines\")"
   ]
  },
  {
   "cell_type": "code",
   "execution_count": 202,
   "metadata": {},
   "outputs": [
    {
     "data": {
      "image/png": "[encoded data removed]",
      "text/plain": [
       "<Figure size 640x480 with 1 Axes>"
      ]
     },
     "metadata": {},
     "output_type": "display_data"
    }
   ],
   "source": [
    "ax = sns.barplot(\n",
    "    engines, x=engines.NumberOfEngines,\n",
    "    y=engines[\"count\"],\n",
    "    palette=\"muted\"\n",
    ")\n",
    "ax.set_yscale('log')\n",
    "\n",
    "for p in ax.patches:\n",
    "    ax.annotate(\n",
    "        f'{p.get_height():.0f}',\n",
    "        (p.get_x() + p.get_width() / 2, p.get_height()),\n",
    "        ha=\"center\",\n",
    "        va=\"bottom\",\n",
    "    )"
   ]
  },
  {
   "cell_type": "code",
   "execution_count": 203,
   "metadata": {},
   "outputs": [
    {
     "data": {
      "text/html": [
       "<div>\n",
       "<style scoped>\n",
       "    .dataframe tbody tr th:only-of-type {\n",
       "        vertical-align: middle;\n",
       "    }\n",
       "\n",
       "    .dataframe tbody tr th {\n",
       "        vertical-align: top;\n",
       "    }\n",
       "\n",
       "    .dataframe thead th {\n",
       "        text-align: right;\n",
       "    }\n",
       "</style>\n",
       "<table border=\"1\" class=\"dataframe\">\n",
       "  <thead>\n",
       "    <tr style=\"text-align: right;\">\n",
       "      <th></th>\n",
       "      <th>City</th>\n",
       "      <th>Country</th>\n",
       "      <th>FatalInjuries</th>\n",
       "      <th>SeriousInjuries</th>\n",
       "      <th>MinorInjuries</th>\n",
       "      <th>Latitude</th>\n",
       "      <th>Longitude</th>\n",
       "      <th>NumberOfEngines</th>\n",
       "      <th>AirCraftDamage</th>\n",
       "      <th>WeatherCondition</th>\n",
       "      <th>EventTime</th>\n",
       "      <th>Year</th>\n",
       "      <th>AccidentSeverity</th>\n",
       "      <th>NumberOfAircraftInvolved</th>\n",
       "    </tr>\n",
       "    <tr>\n",
       "      <th>EventDate</th>\n",
       "      <th></th>\n",
       "      <th></th>\n",
       "      <th></th>\n",
       "      <th></th>\n",
       "      <th></th>\n",
       "      <th></th>\n",
       "      <th></th>\n",
       "      <th></th>\n",
       "      <th></th>\n",
       "      <th></th>\n",
       "      <th></th>\n",
       "      <th></th>\n",
       "      <th></th>\n",
       "      <th></th>\n",
       "    </tr>\n",
       "  </thead>\n",
       "  <tbody>\n",
       "    <tr>\n",
       "      <th>1980-10-15</th>\n",
       "      <td>SCRANTON</td>\n",
       "      <td>United States</td>\n",
       "      <td>0</td>\n",
       "      <td>0</td>\n",
       "      <td>0</td>\n",
       "      <td>0.00000</td>\n",
       "      <td>0.000000</td>\n",
       "      <td>2</td>\n",
       "      <td>Substantial</td>\n",
       "      <td>VFR</td>\n",
       "      <td>NaN</td>\n",
       "      <td>1980</td>\n",
       "      <td>No injuries</td>\n",
       "      <td>1</td>\n",
       "    </tr>\n",
       "    <tr>\n",
       "      <th>1974-06-05</th>\n",
       "      <td>LAKE PLACID</td>\n",
       "      <td>United States</td>\n",
       "      <td>0</td>\n",
       "      <td>0</td>\n",
       "      <td>0</td>\n",
       "      <td>0.00000</td>\n",
       "      <td>0.000000</td>\n",
       "      <td>1</td>\n",
       "      <td>Substantial</td>\n",
       "      <td>VFR</td>\n",
       "      <td>NaN</td>\n",
       "      <td>1974</td>\n",
       "      <td>No injuries</td>\n",
       "      <td>1</td>\n",
       "    </tr>\n",
       "    <tr>\n",
       "      <th>1970-09-04</th>\n",
       "      <td>DOT LAKE</td>\n",
       "      <td>United States</td>\n",
       "      <td>0</td>\n",
       "      <td>0</td>\n",
       "      <td>0</td>\n",
       "      <td>0.00000</td>\n",
       "      <td>0.000000</td>\n",
       "      <td>1</td>\n",
       "      <td>Substantial</td>\n",
       "      <td>VFR</td>\n",
       "      <td>NaN</td>\n",
       "      <td>1970</td>\n",
       "      <td>No injuries</td>\n",
       "      <td>1</td>\n",
       "    </tr>\n",
       "    <tr>\n",
       "      <th>1996-11-12</th>\n",
       "      <td>PLAINVIEW</td>\n",
       "      <td>United States</td>\n",
       "      <td>0</td>\n",
       "      <td>0</td>\n",
       "      <td>1</td>\n",
       "      <td>34.18906</td>\n",
       "      <td>-101.720947</td>\n",
       "      <td>2</td>\n",
       "      <td>Substantial</td>\n",
       "      <td>IMC</td>\n",
       "      <td>190500.0</td>\n",
       "      <td>1996</td>\n",
       "      <td>Minor</td>\n",
       "      <td>1</td>\n",
       "    </tr>\n",
       "    <tr>\n",
       "      <th>1991-12-27</th>\n",
       "      <td>STANLEY</td>\n",
       "      <td>United States</td>\n",
       "      <td>0</td>\n",
       "      <td>0</td>\n",
       "      <td>0</td>\n",
       "      <td>44.25946</td>\n",
       "      <td>-114.969947</td>\n",
       "      <td>1</td>\n",
       "      <td>Substantial</td>\n",
       "      <td>VMC</td>\n",
       "      <td>111500.0</td>\n",
       "      <td>1991</td>\n",
       "      <td>No injuries</td>\n",
       "      <td>1</td>\n",
       "    </tr>\n",
       "  </tbody>\n",
       "</table>\n",
       "</div>"
      ],
      "text/plain": [
       "                   City        Country  FatalInjuries  SeriousInjuries  \\\n",
       "EventDate                                                                \n",
       "1980-10-15     SCRANTON  United States              0                0   \n",
       "1974-06-05  LAKE PLACID  United States              0                0   \n",
       "1970-09-04     DOT LAKE  United States              0                0   \n",
       "1996-11-12    PLAINVIEW  United States              0                0   \n",
       "1991-12-27      STANLEY  United States              0                0   \n",
       "\n",
       "            MinorInjuries  Latitude   Longitude NumberOfEngines  \\\n",
       "EventDate                                                         \n",
       "1980-10-15              0   0.00000    0.000000               2   \n",
       "1974-06-05              0   0.00000    0.000000               1   \n",
       "1970-09-04              0   0.00000    0.000000               1   \n",
       "1996-11-12              1  34.18906 -101.720947               2   \n",
       "1991-12-27              0  44.25946 -114.969947               1   \n",
       "\n",
       "           AirCraftDamage WeatherCondition  EventTime  Year AccidentSeverity  \\\n",
       "EventDate                                                                      \n",
       "1980-10-15    Substantial              VFR        NaN  1980      No injuries   \n",
       "1974-06-05    Substantial              VFR        NaN  1974      No injuries   \n",
       "1970-09-04    Substantial              VFR        NaN  1970      No injuries   \n",
       "1996-11-12    Substantial              IMC   190500.0  1996            Minor   \n",
       "1991-12-27    Substantial              VMC   111500.0  1991      No injuries   \n",
       "\n",
       "            NumberOfAircraftInvolved  \n",
       "EventDate                             \n",
       "1980-10-15                         1  \n",
       "1974-06-05                         1  \n",
       "1970-09-04                         1  \n",
       "1996-11-12                         1  \n",
       "1991-12-27                         1  "
      ]
     },
     "execution_count": 203,
     "metadata": {},
     "output_type": "execute_result"
    }
   ],
   "source": [
    "df.sample(5)"
   ]
  },
  {
   "cell_type": "markdown",
   "metadata": {},
   "source": [
    "### How important is each feature to the fatality of accidents?\n"
   ]
  },
  {
   "cell_type": "code",
   "execution_count": 204,
   "metadata": {},
   "outputs": [],
   "source": [
    "df_imp = df.copy()"
   ]
  },
  {
   "cell_type": "code",
   "execution_count": 205,
   "metadata": {},
   "outputs": [
    {
     "data": {
      "text/html": [
       "<div>\n",
       "<style scoped>\n",
       "    .dataframe tbody tr th:only-of-type {\n",
       "        vertical-align: middle;\n",
       "    }\n",
       "\n",
       "    .dataframe tbody tr th {\n",
       "        vertical-align: top;\n",
       "    }\n",
       "\n",
       "    .dataframe thead th {\n",
       "        text-align: right;\n",
       "    }\n",
       "</style>\n",
       "<table border=\"1\" class=\"dataframe\">\n",
       "  <thead>\n",
       "    <tr style=\"text-align: right;\">\n",
       "      <th></th>\n",
       "      <th>City</th>\n",
       "      <th>Country</th>\n",
       "      <th>FatalInjuries</th>\n",
       "      <th>SeriousInjuries</th>\n",
       "      <th>MinorInjuries</th>\n",
       "      <th>Latitude</th>\n",
       "      <th>Longitude</th>\n",
       "      <th>NumberOfEngines</th>\n",
       "      <th>AirCraftDamage</th>\n",
       "      <th>WeatherCondition</th>\n",
       "      <th>EventTime</th>\n",
       "      <th>Year</th>\n",
       "      <th>AccidentSeverity</th>\n",
       "      <th>NumberOfAircraftInvolved</th>\n",
       "    </tr>\n",
       "    <tr>\n",
       "      <th>EventDate</th>\n",
       "      <th></th>\n",
       "      <th></th>\n",
       "      <th></th>\n",
       "      <th></th>\n",
       "      <th></th>\n",
       "      <th></th>\n",
       "      <th></th>\n",
       "      <th></th>\n",
       "      <th></th>\n",
       "      <th></th>\n",
       "      <th></th>\n",
       "      <th></th>\n",
       "      <th></th>\n",
       "      <th></th>\n",
       "    </tr>\n",
       "  </thead>\n",
       "  <tbody>\n",
       "    <tr>\n",
       "      <th>2024-01-01</th>\n",
       "      <td>Mansfield</td>\n",
       "      <td>United States</td>\n",
       "      <td>0</td>\n",
       "      <td>0</td>\n",
       "      <td>0</td>\n",
       "      <td>32.074121</td>\n",
       "      <td>-93.765392</td>\n",
       "      <td>1</td>\n",
       "      <td>Destroyed</td>\n",
       "      <td>Visual</td>\n",
       "      <td>114000.0</td>\n",
       "      <td>2024</td>\n",
       "      <td>No injuries</td>\n",
       "      <td>1</td>\n",
       "    </tr>\n",
       "    <tr>\n",
       "      <th>2023-12-28</th>\n",
       "      <td>Lake Havasu</td>\n",
       "      <td>United States</td>\n",
       "      <td>0</td>\n",
       "      <td>0</td>\n",
       "      <td>1</td>\n",
       "      <td>34.511090</td>\n",
       "      <td>-114.382330</td>\n",
       "      <td>1</td>\n",
       "      <td>Substantial</td>\n",
       "      <td>Visual</td>\n",
       "      <td>65700.0</td>\n",
       "      <td>2023</td>\n",
       "      <td>Minor</td>\n",
       "      <td>1</td>\n",
       "    </tr>\n",
       "    <tr>\n",
       "      <th>2023-12-26</th>\n",
       "      <td>Ponca City</td>\n",
       "      <td>United States</td>\n",
       "      <td>0</td>\n",
       "      <td>0</td>\n",
       "      <td>0</td>\n",
       "      <td>36.731955</td>\n",
       "      <td>-97.099782</td>\n",
       "      <td>2</td>\n",
       "      <td>Substantial</td>\n",
       "      <td>Visual</td>\n",
       "      <td>81500.0</td>\n",
       "      <td>2023</td>\n",
       "      <td>No injuries</td>\n",
       "      <td>1</td>\n",
       "    </tr>\n",
       "    <tr>\n",
       "      <th>2023-12-12</th>\n",
       "      <td>Sidney</td>\n",
       "      <td>United States</td>\n",
       "      <td>0</td>\n",
       "      <td>0</td>\n",
       "      <td>0</td>\n",
       "      <td>40.241278</td>\n",
       "      <td>-84.147861</td>\n",
       "      <td>1</td>\n",
       "      <td>Substantial</td>\n",
       "      <td>Visual</td>\n",
       "      <td>124400.0</td>\n",
       "      <td>2023</td>\n",
       "      <td>No injuries</td>\n",
       "      <td>1</td>\n",
       "    </tr>\n",
       "    <tr>\n",
       "      <th>2023-12-11</th>\n",
       "      <td>Newport News</td>\n",
       "      <td>United States</td>\n",
       "      <td>0</td>\n",
       "      <td>0</td>\n",
       "      <td>0</td>\n",
       "      <td>37.131670</td>\n",
       "      <td>-76.488330</td>\n",
       "      <td>1</td>\n",
       "      <td>Unknown</td>\n",
       "      <td>Visual</td>\n",
       "      <td>81500.0</td>\n",
       "      <td>2023</td>\n",
       "      <td>No injuries</td>\n",
       "      <td>1</td>\n",
       "    </tr>\n",
       "    <tr>\n",
       "      <th>...</th>\n",
       "      <td>...</td>\n",
       "      <td>...</td>\n",
       "      <td>...</td>\n",
       "      <td>...</td>\n",
       "      <td>...</td>\n",
       "      <td>...</td>\n",
       "      <td>...</td>\n",
       "      <td>...</td>\n",
       "      <td>...</td>\n",
       "      <td>...</td>\n",
       "      <td>...</td>\n",
       "      <td>...</td>\n",
       "      <td>...</td>\n",
       "      <td>...</td>\n",
       "    </tr>\n",
       "    <tr>\n",
       "      <th>1962-01-20</th>\n",
       "      <td>CHICAGO</td>\n",
       "      <td>United States</td>\n",
       "      <td>0</td>\n",
       "      <td>0</td>\n",
       "      <td>0</td>\n",
       "      <td>0.000000</td>\n",
       "      <td>0.000000</td>\n",
       "      <td>4,2</td>\n",
       "      <td>Substantial</td>\n",
       "      <td>Visual</td>\n",
       "      <td>NaN</td>\n",
       "      <td>1962</td>\n",
       "      <td>No injuries</td>\n",
       "      <td>2</td>\n",
       "    </tr>\n",
       "    <tr>\n",
       "      <th>1962-01-16</th>\n",
       "      <td>LIMESTONE</td>\n",
       "      <td>United States</td>\n",
       "      <td>0</td>\n",
       "      <td>0</td>\n",
       "      <td>0</td>\n",
       "      <td>0.000000</td>\n",
       "      <td>0.000000</td>\n",
       "      <td>2</td>\n",
       "      <td>Substantial</td>\n",
       "      <td>Visual</td>\n",
       "      <td>NaN</td>\n",
       "      <td>1962</td>\n",
       "      <td>No injuries</td>\n",
       "      <td>1</td>\n",
       "    </tr>\n",
       "    <tr>\n",
       "      <th>1962-01-14</th>\n",
       "      <td>BIRMINGHAM</td>\n",
       "      <td>United States</td>\n",
       "      <td>0</td>\n",
       "      <td>0</td>\n",
       "      <td>0</td>\n",
       "      <td>0.000000</td>\n",
       "      <td>0.000000</td>\n",
       "      <td>4</td>\n",
       "      <td>Substantial</td>\n",
       "      <td>Visual</td>\n",
       "      <td>NaN</td>\n",
       "      <td>1962</td>\n",
       "      <td>No injuries</td>\n",
       "      <td>1</td>\n",
       "    </tr>\n",
       "    <tr>\n",
       "      <th>1962-01-01</th>\n",
       "      <td>CHARLOTTE</td>\n",
       "      <td>United States</td>\n",
       "      <td>0</td>\n",
       "      <td>0</td>\n",
       "      <td>0</td>\n",
       "      <td>0.000000</td>\n",
       "      <td>0.000000</td>\n",
       "      <td>2</td>\n",
       "      <td>Substantial</td>\n",
       "      <td>Visual</td>\n",
       "      <td>NaN</td>\n",
       "      <td>1962</td>\n",
       "      <td>No injuries</td>\n",
       "      <td>1</td>\n",
       "    </tr>\n",
       "    <tr>\n",
       "      <th>1948-10-24</th>\n",
       "      <td>MOOSE CREEK</td>\n",
       "      <td>United States</td>\n",
       "      <td>2</td>\n",
       "      <td>0</td>\n",
       "      <td>0</td>\n",
       "      <td>45.799663</td>\n",
       "      <td>-115.510200</td>\n",
       "      <td>1</td>\n",
       "      <td>Destroyed</td>\n",
       "      <td>Unknown</td>\n",
       "      <td>115500.0</td>\n",
       "      <td>1948</td>\n",
       "      <td>Fatal</td>\n",
       "      <td>1</td>\n",
       "    </tr>\n",
       "  </tbody>\n",
       "</table>\n",
       "<p>137413 rows × 14 columns</p>\n",
       "</div>"
      ],
      "text/plain": [
       "                    City        Country  FatalInjuries  SeriousInjuries  \\\n",
       "EventDate                                                                 \n",
       "2024-01-01     Mansfield  United States              0                0   \n",
       "2023-12-28   Lake Havasu  United States              0                0   \n",
       "2023-12-26    Ponca City  United States              0                0   \n",
       "2023-12-12        Sidney  United States              0                0   \n",
       "2023-12-11  Newport News  United States              0                0   \n",
       "...                  ...            ...            ...              ...   \n",
       "1962-01-20       CHICAGO  United States              0                0   \n",
       "1962-01-16     LIMESTONE  United States              0                0   \n",
       "1962-01-14    BIRMINGHAM  United States              0                0   \n",
       "1962-01-01     CHARLOTTE  United States              0                0   \n",
       "1948-10-24   MOOSE CREEK  United States              2                0   \n",
       "\n",
       "            MinorInjuries   Latitude   Longitude NumberOfEngines  \\\n",
       "EventDate                                                          \n",
       "2024-01-01              0  32.074121  -93.765392               1   \n",
       "2023-12-28              1  34.511090 -114.382330               1   \n",
       "2023-12-26              0  36.731955  -97.099782               2   \n",
       "2023-12-12              0  40.241278  -84.147861               1   \n",
       "2023-12-11              0  37.131670  -76.488330               1   \n",
       "...                   ...        ...         ...             ...   \n",
       "1962-01-20              0   0.000000    0.000000             4,2   \n",
       "1962-01-16              0   0.000000    0.000000               2   \n",
       "1962-01-14              0   0.000000    0.000000               4   \n",
       "1962-01-01              0   0.000000    0.000000               2   \n",
       "1948-10-24              0  45.799663 -115.510200               1   \n",
       "\n",
       "           AirCraftDamage WeatherCondition  EventTime  Year AccidentSeverity  \\\n",
       "EventDate                                                                      \n",
       "2024-01-01      Destroyed           Visual   114000.0  2024      No injuries   \n",
       "2023-12-28    Substantial           Visual    65700.0  2023            Minor   \n",
       "2023-12-26    Substantial           Visual    81500.0  2023      No injuries   \n",
       "2023-12-12    Substantial           Visual   124400.0  2023      No injuries   \n",
       "2023-12-11        Unknown           Visual    81500.0  2023      No injuries   \n",
       "...                   ...              ...        ...   ...              ...   \n",
       "1962-01-20    Substantial           Visual        NaN  1962      No injuries   \n",
       "1962-01-16    Substantial           Visual        NaN  1962      No injuries   \n",
       "1962-01-14    Substantial           Visual        NaN  1962      No injuries   \n",
       "1962-01-01    Substantial           Visual        NaN  1962      No injuries   \n",
       "1948-10-24      Destroyed          Unknown   115500.0  1948            Fatal   \n",
       "\n",
       "            NumberOfAircraftInvolved  \n",
       "EventDate                             \n",
       "2024-01-01                         1  \n",
       "2023-12-28                         1  \n",
       "2023-12-26                         1  \n",
       "2023-12-12                         1  \n",
       "2023-12-11                         1  \n",
       "...                              ...  \n",
       "1962-01-20                         2  \n",
       "1962-01-16                         1  \n",
       "1962-01-14                         1  \n",
       "1962-01-01                         1  \n",
       "1948-10-24                         1  \n",
       "\n",
       "[137413 rows x 14 columns]"
      ]
     },
     "execution_count": 205,
     "metadata": {},
     "output_type": "execute_result"
    }
   ],
   "source": [
    "df_imp.WeatherCondition = df.WeatherCondition.map(\n",
    "    {\n",
    "        \"VMC\": \"Visual\",\n",
    "        \"VFR\": \"Visual\",\n",
    "        \"IMC\": \"Instrument\",\n",
    "        \"IFR\": \"Instrument\",\n",
    "        \"UNK\": \"Unknown\",\n",
    "    }\n",
    ")\n",
    "df_imp"
   ]
  },
  {
   "cell_type": "code",
   "execution_count": 206,
   "metadata": {},
   "outputs": [],
   "source": [
    "# Convert categorical variables to numeric using one hot encoding\n",
    "df_imp = pd.get_dummies(df_imp, columns=[\"AirCraftDamage\", \"WeatherCondition\"])"
   ]
  },
  {
   "cell_type": "code",
   "execution_count": 207,
   "metadata": {},
   "outputs": [],
   "source": [
    "X = df_imp.drop(\n",
    "    columns=[\n",
    "        \"City\",\n",
    "        \"Country\",\n",
    "        \"FatalInjuries\",\n",
    "        \"MinorInjuries\",\n",
    "        \"SeriousInjuries\",\n",
    "        \"AccidentSeverity\",\n",
    "        \"NumberOfEngines\",\n",
    "        \"EventTime\",\n",
    "    ]\n",
    ")"
   ]
  },
  {
   "cell_type": "code",
   "execution_count": 208,
   "metadata": {},
   "outputs": [],
   "source": [
    "y = df_imp[\"AccidentSeverity\"].apply(lambda x: 1 if x == \"Fatal\" else 0)"
   ]
  },
  {
   "cell_type": "code",
   "execution_count": 209,
   "metadata": {},
   "outputs": [],
   "source": [
    "rf_model = RandomForestClassifier(class_weight={0: 0.84, 1: 0.16}, max_features=None)"
   ]
  },
  {
   "cell_type": "code",
   "execution_count": 210,
   "metadata": {},
   "outputs": [],
   "source": [
    "model = rf_model.fit(X, y)"
   ]
  },
  {
   "cell_type": "code",
   "execution_count": 211,
   "metadata": {},
   "outputs": [],
   "source": [
    "importances = model.feature_importances_"
   ]
  },
  {
   "cell_type": "code",
   "execution_count": 212,
   "metadata": {},
   "outputs": [],
   "source": [
    "indices = np.argsort(importances)"
   ]
  },
  {
   "cell_type": "code",
   "execution_count": 213,
   "metadata": {},
   "outputs": [],
   "source": [
    "std = np.std([tree.feature_importances_ for tree in model.estimators_], axis=0)"
   ]
  },
  {
   "cell_type": "code",
   "execution_count": 214,
   "metadata": {},
   "outputs": [
    {
     "data": {
      "image/png": "[encoded data removed]",
      "text/plain": [
       "<Figure size 1100x1000 with 1 Axes>"
      ]
     },
     "metadata": {},
     "output_type": "display_data"
    }
   ],
   "source": [
    "# Plot\n",
    "plt.figure(1, figsize=(11, 10))\n",
    "plt.title(\"Importance of features to the fatality of accidents\", fontsize=20)\n",
    "plt.barh(\n",
    "    range(X.shape[1]),\n",
    "    importances[indices],\n",
    "    color=\"steelblue\",\n",
    "    xerr=std[indices],\n",
    "    align=\"center\",\n",
    ")\n",
    "plt.yticks(range(X.shape[1]), X.columns[indices], fontsize=16)\n",
    "plt.ylim([-1, X.shape[1]])\n",
    "plt.xticks(fontsize=16)\n",
    "plt.show()"
   ]
  },
  {
   "cell_type": "markdown",
   "metadata": {},
   "source": [
    "### What's the relationship of fatalities and time of day?\n"
   ]
  },
  {
   "cell_type": "code",
   "execution_count": null,
   "metadata": {},
   "outputs": [],
   "source": []
  }
 ],
 "metadata": {
  "kernelspec": {
   "display_name": "Python 3 (ipykernel)",
   "language": "python",
   "name": "python3"
  },
  "language_info": {
   "codemirror_mode": {
    "name": "ipython",
    "version": 3
   },
   "file_extension": ".py",
   "mimetype": "text/x-python",
   "name": "python",
   "nbconvert_exporter": "python",
   "pygments_lexer": "ipython3",
   "version": "3.11.8"
  }
 },
 "nbformat": 4,
 "nbformat_minor": 2
}
